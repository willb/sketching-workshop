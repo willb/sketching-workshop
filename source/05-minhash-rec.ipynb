{
 "cells": [
  {
   "cell_type": "markdown",
   "metadata": {},
   "source": [
    "# MinHash for recommendations\n",
    "\n",
    "In the [previous notebook](04-minhash.ipynb) we saw how MinHash can be used to approximate the similarity of sets. In this notebook we will see that MinHash can also be used to make personalised recommendations to users.\n",
    "\n",
    "We'll illustrate this technique using a data set which contains users' listening history from a music streaming service. If you're interested in how we generated the data, take a look at [this notebook](99a-data-generator.ipynb). "
   ]
  },
  {
   "cell_type": "code",
   "execution_count": 1,
   "metadata": {},
   "outputs": [
    {
     "name": "stdout",
     "output_type": "stream",
     "text": [
      "(3105450, 3)\n"
     ]
    }
   ],
   "source": [
    "import pandas as pd\n",
    "import os.path\n",
    "\n",
    "## Importing the data\n",
    "df = pd.read_parquet(os.path.join(\"data\", \"userdat1.parquet\"))\n",
    "print(df.shape)"
   ]
  },
  {
   "cell_type": "markdown",
   "metadata": {},
   "source": [
    "The file contains three columns and over three million rows. Let's take a closer look at a sample of the data:"
   ]
  },
  {
   "cell_type": "code",
   "execution_count": 2,
   "metadata": {
    "scrolled": true
   },
   "outputs": [
    {
     "data": {
      "text/html": [
       "<div>\n",
       "<style scoped>\n",
       "    .dataframe tbody tr th:only-of-type {\n",
       "        vertical-align: middle;\n",
       "    }\n",
       "\n",
       "    .dataframe tbody tr th {\n",
       "        vertical-align: top;\n",
       "    }\n",
       "\n",
       "    .dataframe thead th {\n",
       "        text-align: right;\n",
       "    }\n",
       "</style>\n",
       "<table border=\"1\" class=\"dataframe\">\n",
       "  <thead>\n",
       "    <tr style=\"text-align: right;\">\n",
       "      <th></th>\n",
       "      <th>user</th>\n",
       "      <th>artist</th>\n",
       "      <th>plays</th>\n",
       "    </tr>\n",
       "  </thead>\n",
       "  <tbody>\n",
       "    <tr>\n",
       "      <th>1109</th>\n",
       "      <td>2916</td>\n",
       "      <td>119833</td>\n",
       "      <td>2</td>\n",
       "    </tr>\n",
       "    <tr>\n",
       "      <th>604</th>\n",
       "      <td>1209</td>\n",
       "      <td>144610</td>\n",
       "      <td>4</td>\n",
       "    </tr>\n",
       "    <tr>\n",
       "      <th>1110</th>\n",
       "      <td>2986</td>\n",
       "      <td>32390</td>\n",
       "      <td>4</td>\n",
       "    </tr>\n",
       "    <tr>\n",
       "      <th>86</th>\n",
       "      <td>843</td>\n",
       "      <td>61827</td>\n",
       "      <td>1</td>\n",
       "    </tr>\n",
       "    <tr>\n",
       "      <th>904</th>\n",
       "      <td>52</td>\n",
       "      <td>107100</td>\n",
       "      <td>190</td>\n",
       "    </tr>\n",
       "    <tr>\n",
       "      <th>1994</th>\n",
       "      <td>2034</td>\n",
       "      <td>158717</td>\n",
       "      <td>17</td>\n",
       "    </tr>\n",
       "    <tr>\n",
       "      <th>1371</th>\n",
       "      <td>838</td>\n",
       "      <td>166313</td>\n",
       "      <td>3</td>\n",
       "    </tr>\n",
       "    <tr>\n",
       "      <th>742</th>\n",
       "      <td>1051</td>\n",
       "      <td>147742</td>\n",
       "      <td>1</td>\n",
       "    </tr>\n",
       "    <tr>\n",
       "      <th>2910</th>\n",
       "      <td>1547</td>\n",
       "      <td>104013</td>\n",
       "      <td>95</td>\n",
       "    </tr>\n",
       "    <tr>\n",
       "      <th>919</th>\n",
       "      <td>1062</td>\n",
       "      <td>117048</td>\n",
       "      <td>12</td>\n",
       "    </tr>\n",
       "  </tbody>\n",
       "</table>\n",
       "</div>"
      ],
      "text/plain": [
       "      user  artist  plays\n",
       "1109  2916  119833      2\n",
       "604   1209  144610      4\n",
       "1110  2986   32390      4\n",
       "86     843   61827      1\n",
       "904     52  107100    190\n",
       "1994  2034  158717     17\n",
       "1371   838  166313      3\n",
       "742   1051  147742      1\n",
       "2910  1547  104013     95\n",
       "919   1062  117048     12"
      ]
     },
     "execution_count": 2,
     "metadata": {},
     "output_type": "execute_result"
    }
   ],
   "source": [
    "df.sample(10, random_state=1)"
   ]
  },
  {
   "cell_type": "markdown",
   "metadata": {},
   "source": [
    "The first column is an integer representing a user id, the second is an integer representing an artist name, and the third column is an integer indicating how many times the user listened to the artist. \n",
    "\n",
    "(It turns out that the artist and user ids are not currently stored as integers, but as strings instead. In the next cell we transform these to integers.)"
   ]
  },
  {
   "cell_type": "code",
   "execution_count": 3,
   "metadata": {},
   "outputs": [],
   "source": [
    "df['artist'] = df['artist'].astype('int')\n",
    "df['user'] = df['user'].astype('int')"
   ]
  },
  {
   "cell_type": "markdown",
   "metadata": {},
   "source": [
    "We take one pass through the data frame to identify the set of unique users and the set of unique artists. "
   ]
  },
  {
   "cell_type": "code",
   "execution_count": 4,
   "metadata": {},
   "outputs": [],
   "source": [
    "artists = df['artist'].unique()\n",
    "users = df['user'].unique()"
   ]
  },
  {
   "cell_type": "code",
   "execution_count": 5,
   "metadata": {},
   "outputs": [
    {
     "name": "stdout",
     "output_type": "stream",
     "text": [
      "There are 34122 artists and 3100 users in our data.\n"
     ]
    }
   ],
   "source": [
    "print(\"There are \", len(artists), \" artists and \", len(users), \" users in our data.\" , sep=\"\")"
   ]
  },
  {
   "cell_type": "markdown",
   "metadata": {},
   "source": [
    "We also load in a dictionary which maps from the artist integers to artist names. We will use this dictionary to map from the integers, representing artist names, back into artist names. "
   ]
  },
  {
   "cell_type": "code",
   "execution_count": 6,
   "metadata": {},
   "outputs": [],
   "source": [
    "import pickle\n",
    "file = open(\"data/dartists.pkl\",\"rb\")\n",
    "dartists = pickle.load(file)"
   ]
  },
  {
   "cell_type": "markdown",
   "metadata": {},
   "source": [
    "We group the data by user. From there we can see which artists a particular user has listened to:"
   ]
  },
  {
   "cell_type": "code",
   "execution_count": 7,
   "metadata": {},
   "outputs": [
    {
     "data": {
      "text/html": [
       "<div>\n",
       "<style scoped>\n",
       "    .dataframe tbody tr th:only-of-type {\n",
       "        vertical-align: middle;\n",
       "    }\n",
       "\n",
       "    .dataframe tbody tr th {\n",
       "        vertical-align: top;\n",
       "    }\n",
       "\n",
       "    .dataframe thead th {\n",
       "        text-align: right;\n",
       "    }\n",
       "</style>\n",
       "<table border=\"1\" class=\"dataframe\">\n",
       "  <thead>\n",
       "    <tr style=\"text-align: right;\">\n",
       "      <th></th>\n",
       "      <th>user</th>\n",
       "      <th>artist</th>\n",
       "      <th>plays</th>\n",
       "    </tr>\n",
       "  </thead>\n",
       "  <tbody>\n",
       "    <tr>\n",
       "      <th>611</th>\n",
       "      <td>1</td>\n",
       "      <td>827</td>\n",
       "      <td>2</td>\n",
       "    </tr>\n",
       "    <tr>\n",
       "      <th>561</th>\n",
       "      <td>1</td>\n",
       "      <td>49465</td>\n",
       "      <td>1</td>\n",
       "    </tr>\n",
       "    <tr>\n",
       "      <th>349</th>\n",
       "      <td>1</td>\n",
       "      <td>27877</td>\n",
       "      <td>9</td>\n",
       "    </tr>\n",
       "    <tr>\n",
       "      <th>382</th>\n",
       "      <td>1</td>\n",
       "      <td>47724</td>\n",
       "      <td>12</td>\n",
       "    </tr>\n",
       "    <tr>\n",
       "      <th>613</th>\n",
       "      <td>1</td>\n",
       "      <td>95755</td>\n",
       "      <td>6</td>\n",
       "    </tr>\n",
       "    <tr>\n",
       "      <th>510</th>\n",
       "      <td>1</td>\n",
       "      <td>152621</td>\n",
       "      <td>169</td>\n",
       "    </tr>\n",
       "    <tr>\n",
       "      <th>542</th>\n",
       "      <td>1</td>\n",
       "      <td>22358</td>\n",
       "      <td>2</td>\n",
       "    </tr>\n",
       "    <tr>\n",
       "      <th>422</th>\n",
       "      <td>1</td>\n",
       "      <td>111951</td>\n",
       "      <td>4</td>\n",
       "    </tr>\n",
       "    <tr>\n",
       "      <th>456</th>\n",
       "      <td>1</td>\n",
       "      <td>106501</td>\n",
       "      <td>6</td>\n",
       "    </tr>\n",
       "    <tr>\n",
       "      <th>100</th>\n",
       "      <td>1</td>\n",
       "      <td>81865</td>\n",
       "      <td>7</td>\n",
       "    </tr>\n",
       "  </tbody>\n",
       "</table>\n",
       "</div>"
      ],
      "text/plain": [
       "     user  artist  plays\n",
       "611     1     827      2\n",
       "561     1   49465      1\n",
       "349     1   27877      9\n",
       "382     1   47724     12\n",
       "613     1   95755      6\n",
       "510     1  152621    169\n",
       "542     1   22358      2\n",
       "422     1  111951      4\n",
       "456     1  106501      6\n",
       "100     1   81865      7"
      ]
     },
     "execution_count": 7,
     "metadata": {},
     "output_type": "execute_result"
    }
   ],
   "source": [
    "## grouping the data by user\n",
    "grouped_df = df.groupby(['user']) \n",
    "\n",
    "## extracting user1's data:\n",
    "user1 = grouped_df.get_group(1)\n",
    "user1.sample(10)"
   ]
  },
  {
   "cell_type": "markdown",
   "metadata": {},
   "source": [
    "The `artist_names` function maps from the integers to the names of the artist, using the dictionary we loaded in earlier. The `top_k_listens` function returns the names of the $k$ artists a particular user has listened to most:"
   ]
  },
  {
   "cell_type": "code",
   "execution_count": 8,
   "metadata": {},
   "outputs": [],
   "source": [
    "import numpy as np\n",
    "\n",
    "def artist_names(artist_ints, artist_dic = dartists):\n",
    "    return [artist_dic[k] for k in artist_ints]\n",
    "\n",
    "\n",
    "def top_k_listens(listening_history, k=10):\n",
    "    \"\"\"extracts the k most listened to artists in a given listening history\"\"\"\n",
    "    top_k = listening_history.sort_values(by=\"plays\", ascending = False)[\"artist\"].head(k).values\n",
    "    return artist_names(top_k)"
   ]
  },
  {
   "cell_type": "code",
   "execution_count": 9,
   "metadata": {},
   "outputs": [
    {
     "data": {
      "text/plain": [
       "[\"Otomo Yoshihide'S New Jazz Ensemble\",\n",
       " 'M2J',\n",
       " 'Deepspace',\n",
       " 'Ian Pooley & Magik J',\n",
       " 'Showbiz & A.G.',\n",
       " 'The Odd Couple',\n",
       " 'Monacles',\n",
       " 'Puffy B.I.G. Lil Kim',\n",
       " '志方あきこ',\n",
       " 'Solu Music']"
      ]
     },
     "execution_count": 9,
     "metadata": {},
     "output_type": "execute_result"
    }
   ],
   "source": [
    "top_k_listens(user1, 10) "
   ]
  },
  {
   "cell_type": "markdown",
   "metadata": {},
   "source": [
    "So that's how we see what a particular user has listened to, but how do we use this to make recommendations? \n",
    "\n",
    "MinHash provides gives us a way to summarise set in a fixed amount of memory. If we create a MinHash signature of users’ listening history, we can identify similar users by comparing minhash signatures. \n",
    "\n",
    "One way to generate a MinHash signature for a user's listening history would be to add every artist the user has listened to into the MinHash signature for that user. In practise this works fine, but can be slow when users have listened to a large number of artists. \n",
    "\n",
    "Instead, we will use a faster function which works by pre-computing the MinHash signature for each artist, then generating a user's MinHash signature by combining the MinHash signatures for all of the artists that user has listened to. The code can be found in [this helper file](./datasketching/minhash.py).\n"
   ]
  },
  {
   "cell_type": "code",
   "execution_count": 10,
   "metadata": {},
   "outputs": [],
   "source": [
    "from datasketching.minhash import generate_minhashes_for\n",
    "from datasketching.minhash import LSHMinhash"
   ]
  },
  {
   "cell_type": "code",
   "execution_count": 11,
   "metadata": {},
   "outputs": [],
   "source": [
    "mh_structs = LSHMinhash(32, 4) ## this is a MinHash signature with 32*4 = 128 Buckets. \n",
    "minhashes = generate_minhashes_for(grouped_df, \"user\", \"artist\", mh_structs)"
   ]
  },
  {
   "cell_type": "code",
   "execution_count": 12,
   "metadata": {},
   "outputs": [
    {
     "name": "stdout",
     "output_type": "stream",
     "text": [
      "3100\n"
     ]
    },
    {
     "data": {
      "text/plain": [
       "<datasketching.minhash.LSHMinhash at 0x11da01ac8>"
      ]
     },
     "execution_count": 12,
     "metadata": {},
     "output_type": "execute_result"
    }
   ],
   "source": [
    "print(len(minhashes))\n",
    "minhashes[0][1] ## this is a minhash object. "
   ]
  },
  {
   "cell_type": "markdown",
   "metadata": {},
   "source": [
    "We can compare MinHash signatures with the 'similarity' function. This returns a number between 0 and 1, where a `1` denotes identical signatures, and a `0` means that no corresponding buckets of the MinHash signatures hold the same value. "
   ]
  },
  {
   "cell_type": "code",
   "execution_count": 13,
   "metadata": {},
   "outputs": [
    {
     "data": {
      "text/plain": [
       "0.671875"
      ]
     },
     "execution_count": 13,
     "metadata": {},
     "output_type": "execute_result"
    }
   ],
   "source": [
    "minhashes[2][1].similarity(minhashes[1][1])"
   ]
  },
  {
   "cell_type": "markdown",
   "metadata": {},
   "source": [
    "Using the similarity, we can identify the set of users who are _most similar_ to the user we want to make recommendations for:"
   ]
  },
  {
   "cell_type": "code",
   "execution_count": 14,
   "metadata": {},
   "outputs": [
    {
     "name": "stdout",
     "output_type": "stream",
     "text": [
      "1\n",
      "6\n",
      "9\n",
      "10\n",
      "11\n",
      "18\n",
      "21\n",
      "23\n",
      "32\n",
      "34\n",
      "37\n",
      "39\n"
     ]
    }
   ],
   "source": [
    "sim = []\n",
    "for i in range(len(minhashes)):\n",
    "    sim.append(minhashes[1][1].similarity(minhashes[i][1]))\n",
    "    \n",
    "similar = set(sorted(sim, reverse = True)[1:10])\n",
    "similar_users = ([i for i, e in enumerate(sim) if e in similar])\n",
    "for j in similar_users:\n",
    "    print(users[j])"
   ]
  },
  {
   "cell_type": "markdown",
   "metadata": {},
   "source": [
    "From there, we make recommendations by looking at the top artists listened to by all these users. We remove any artists user 1 already listened to, and recommend the others. "
   ]
  },
  {
   "cell_type": "code",
   "execution_count": 15,
   "metadata": {},
   "outputs": [],
   "source": [
    "unheard = []\n",
    "for u in similar_users:\n",
    "    u_dat = grouped_df.get_group(users[u])\n",
    "    unheard = unheard + list(top_k_listens(u_dat, 2))"
   ]
  },
  {
   "cell_type": "code",
   "execution_count": 16,
   "metadata": {},
   "outputs": [
    {
     "data": {
      "text/plain": [
       "[\"Otomo Yoshihide'S New Jazz Ensemble\",\n",
       " 'M2J',\n",
       " 'Avid Merrion',\n",
       " 'S@M::&Lt;&Lt;::D.J. Sammy::&Gt;&Gt;::',\n",
       " 'Pink Fairies',\n",
       " 'Vesica Piscis',\n",
       " 'David Ford',\n",
       " 'Karp',\n",
       " 'Laid',\n",
       " 'Dj Tini Tun (We Are Here Records)',\n",
       " 'Makyo',\n",
       " 'Dub Sex',\n",
       " 'Rain Tree Crow',\n",
       " 'Neil Pepper',\n",
       " 'Eighteen Visions',\n",
       " 'Pages',\n",
       " 'Chhaila',\n",
       " 'Richie Furay',\n",
       " 'Сергей Калачев',\n",
       " 'Thy Serpent',\n",
       " 'Bring Back The Guns',\n",
       " 'Mad Contrabender',\n",
       " 'André Herman Düne',\n",
       " 'Tim Tim']"
      ]
     },
     "execution_count": 16,
     "metadata": {},
     "output_type": "execute_result"
    }
   ],
   "source": [
    "unheard"
   ]
  },
  {
   "cell_type": "markdown",
   "metadata": {},
   "source": [
    "So that's just a quick example of how we can use minhash to identify artists we should recommend to a particular user. This method works fine on a small number of users, but falls into dificulty when the number of users grows, and the number of users for which we want to make recommendations for grows. \n",
    "\n",
    "Let's plot the time required to compare users:"
   ]
  },
  {
   "cell_type": "code",
   "execution_count": 17,
   "metadata": {},
   "outputs": [],
   "source": [
    "import time\n",
    "npairs = [10, 25, 50, 75, 100, 300, 500, 750, 1000, 2000, 3100] #number of users to compare\n",
    "times = []\n",
    "for pairs in npairs:\n",
    "    start = time.time()\n",
    "    sim=[]\n",
    "    for i in range(1, pairs):\n",
    "        for j in range((i+1), pairs):\n",
    "            sim.append(minhashes[i][1].similarity(minhashes[j][1]))\n",
    "    end = time.time()\n",
    "    times.append((pairs, end-start))"
   ]
  },
  {
   "cell_type": "code",
   "execution_count": 18,
   "metadata": {},
   "outputs": [
    {
     "data": {
      "text/plain": [
       "[(10, 0.00010371208190917969),\n",
       " (25, 0.0004730224609375),\n",
       " (50, 0.0020151138305664062),\n",
       " (75, 0.004564046859741211),\n",
       " (100, 0.008741140365600586),\n",
       " (300, 0.0758061408996582),\n",
       " (500, 0.20188093185424805),\n",
       " (750, 0.451138973236084),\n",
       " (1000, 0.8161067962646484),\n",
       " (2000, 3.5307672023773193),\n",
       " (3100, 8.264407873153687)]"
      ]
     },
     "execution_count": 18,
     "metadata": {},
     "output_type": "execute_result"
    }
   ],
   "source": [
    "times"
   ]
  },
  {
   "cell_type": "code",
   "execution_count": 19,
   "metadata": {},
   "outputs": [
    {
     "name": "stderr",
     "output_type": "stream",
     "text": [
      "/anaconda2/envs/composable-recs/lib/python3.6/site-packages/altair/utils/core.py:294: FutureWarning: A future version of pandas will default to `skipna=True`. To silence this warning, pass `skipna=True|False` explicitly.\n",
      "  attrs['type'] = infer_vegalite_type(data[attrs['field']])\n"
     ]
    },
    {
     "data": {
      "application/javascript": [
       "var spec = {\"config\": {\"view\": {\"width\": 400, \"height\": 300}}, \"data\": {\"name\": \"data-b944d46249eb5c2d4b834e47fa3e1da2\"}, \"mark\": \"line\", \"encoding\": {\"x\": {\"type\": \"quantitative\", \"field\": \"nusers\"}, \"y\": {\"type\": \"quantitative\", \"field\": \"time (s)\"}}, \"$schema\": \"https://vega.github.io/schema/vega-lite/v2.6.0.json\", \"datasets\": {\"data-b944d46249eb5c2d4b834e47fa3e1da2\": [{\"nusers\": 10, \"time (s)\": 0.00010371208190917969}, {\"nusers\": 25, \"time (s)\": 0.0004730224609375}, {\"nusers\": 50, \"time (s)\": 0.0020151138305664062}, {\"nusers\": 75, \"time (s)\": 0.004564046859741211}, {\"nusers\": 100, \"time (s)\": 0.008741140365600586}, {\"nusers\": 300, \"time (s)\": 0.0758061408996582}, {\"nusers\": 500, \"time (s)\": 0.20188093185424805}, {\"nusers\": 750, \"time (s)\": 0.451138973236084}, {\"nusers\": 1000, \"time (s)\": 0.8161067962646484}, {\"nusers\": 2000, \"time (s)\": 3.5307672023773193}, {\"nusers\": 3100, \"time (s)\": 8.264407873153687}]}};\n",
       "var opt = {};\n",
       "var type = \"vega-lite\";\n",
       "var id = \"755cbc28-bf62-4eb6-b198-bd2d8ced8701\";\n",
       "\n",
       "var output_area = this;\n",
       "\n",
       "require([\"nbextensions/jupyter-vega/index\"], function(vega) {\n",
       "  var target = document.createElement(\"div\");\n",
       "  target.id = id;\n",
       "  target.className = \"vega-embed\";\n",
       "\n",
       "  var style = document.createElement(\"style\");\n",
       "  style.textContent = [\n",
       "    \".vega-embed .error p {\",\n",
       "    \"  color: firebrick;\",\n",
       "    \"  font-size: 14px;\",\n",
       "    \"}\",\n",
       "  ].join(\"\\\\n\");\n",
       "\n",
       "  // element is a jQuery wrapped DOM element inside the output area\n",
       "  // see http://ipython.readthedocs.io/en/stable/api/generated/\\\n",
       "  // IPython.display.html#IPython.display.Javascript.__init__\n",
       "  element[0].appendChild(target);\n",
       "  element[0].appendChild(style);\n",
       "\n",
       "  vega.render(\"#\" + id, spec, type, opt, output_area);\n",
       "}, function (err) {\n",
       "  if (err.requireType !== \"scripterror\") {\n",
       "    throw(err);\n",
       "  }\n",
       "});\n"
      ],
      "text/plain": [
       "<vega.vegalite.VegaLite at 0xa2f860518>"
      ]
     },
     "metadata": {
      "jupyter-vega": "#755cbc28-bf62-4eb6-b198-bd2d8ced8701"
     },
     "output_type": "display_data"
    },
    {
     "data": {
      "text/plain": []
     },
     "execution_count": 19,
     "metadata": {},
     "output_type": "execute_result"
    },
    {
     "data": {
      "image/png": "[encoded data removed]"
     },
     "metadata": {
      "jupyter-vega": "#755cbc28-bf62-4eb6-b198-bd2d8ced8701"
     },
     "output_type": "display_data"
    }
   ],
   "source": [
    "import altair as alt\n",
    "\n",
    "times_df = pd.DataFrame.from_records(times)\n",
    "times_df.rename(columns = {0:\"nusers\", 1:\"time (s)\"}, inplace = True)\n",
    "alt.renderers.enable('notebook')\n",
    "alt.Chart(times_df). mark_line().encode(x=\"nusers\", y=\"time (s)\")"
   ]
  },
  {
   "cell_type": "markdown",
   "metadata": {},
   "source": [
    "## Locality-Sensitive Minhash\n",
    "\n",
    "As the graph above shows, one big disadvantage of using Minhash signatures to identify similar users is the number of pairwise comparisons which must be made to determine similarity - Comparing 500 users takes less than half a second, but it takes nearly 8 seconds to compare 3000 users. This quadratic growth means that extensively comparing all users is not possible for real applications of this method with a non-trivial number of users. \n",
    "\n",
    "Locality-sensitive Minhash is a technique we can use to identify candidate pairs of similar users for a much smaller computational cost. The MinHash signature is split into subsets, and if two users have identical signatures in ANY of the subsets these users are considered a _candidate pair_. From there you can go and compute their approximate Jaccard index, or similarity, using the full minhash signatures, to determine just how similar they are, and decide if you want to make recommendations. \n",
    "\n",
    "In practice, the subsets into which we split the minhash signature are known as 'bands'. The contents of the bands are hashed to a set of buckets. Any two users who have at least one band which hashes to the same bucket are a candidate pair. "
   ]
  },
  {
   "cell_type": "code",
   "execution_count": 20,
   "metadata": {},
   "outputs": [],
   "source": [
    "from collections import defaultdict\n",
    "\n",
    "bands = [defaultdict(lambda: list()) for i in range(len(mh_structs.lsh_keys()))]\n",
    "\n",
    "for ind, lshm in minhashes:\n",
    "    for idx, key in enumerate(lshm.lsh_keys()):\n",
    "        bands[idx][key % (1 << 14)].append(ind)"
   ]
  },
  {
   "cell_type": "markdown",
   "metadata": {},
   "source": [
    "We've made a dictionary of values for each band, where the keys correspond to buckets, and the values are indexes of minhash signature which mapped to that bucket. "
   ]
  },
  {
   "cell_type": "code",
   "execution_count": 21,
   "metadata": {},
   "outputs": [],
   "source": [
    "import itertools\n",
    "candidates = []\n",
    "for b in bands:\n",
    "    for it in b.items():\n",
    "        if len(it[1])>1:\n",
    "            candidates.extend(list(itertools.combinations(it[1],2)))"
   ]
  },
  {
   "cell_type": "markdown",
   "metadata": {},
   "source": [
    "`candidates` holds an extensive list of all candidate pairs of similar users. "
   ]
  },
  {
   "cell_type": "code",
   "execution_count": 22,
   "metadata": {},
   "outputs": [],
   "source": [
    "# extract set of users who are similar to _user_\n",
    "def candidate_pairs(user, full_candidate_list):\n",
    "    return set([y for x in [tup for tup in full_candidate_list if user in tup] for y in x]) - set([user])"
   ]
  },
  {
   "cell_type": "code",
   "execution_count": 25,
   "metadata": {
    "scrolled": true
   },
   "outputs": [
    {
     "data": {
      "text/plain": [
       "51"
      ]
     },
     "execution_count": 25,
     "metadata": {},
     "output_type": "execute_result"
    }
   ],
   "source": [
    "len(candidate_pairs(1, full_candidate_list=candidates))"
   ]
  },
  {
   "cell_type": "markdown",
   "metadata": {},
   "source": [
    "By using locality-sensitive MinHash we have reduced the number of pairwise comparisons needed from 3099 to 51, for user 1. "
   ]
  }
 ],
 "metadata": {
  "kernelspec": {
   "display_name": "Python 3",
   "language": "python",
   "name": "python3"
  },
  "language_info": {
   "codemirror_mode": {
    "name": "ipython",
    "version": 3
   },
   "file_extension": ".py",
   "mimetype": "text/x-python",
   "name": "python",
   "nbconvert_exporter": "python",
   "pygments_lexer": "ipython3",
   "version": "3.6.8"
  }
 },
 "nbformat": 4,
 "nbformat_minor": 2
}
