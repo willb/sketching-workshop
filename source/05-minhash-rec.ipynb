{
 "cells": [
  {
   "cell_type": "markdown",
   "metadata": {},
   "source": [
    "# Minhash for recommendations\n",
    "\n",
    "In the [previous notebook](04-minhash.ipynb) we saw how Minhash can be used to approximate the similarity of sets. In this notebook we will see that Minhash can also be used to make recommendations. \n",
    "\n",
    "We illustrate this technique using a data set which contains users' listening history from a music streaming service. If you're interested in how we generated this data, take a look at [this notebook](99a-data-generator.ipynb). "
   ]
  },
  {
   "cell_type": "code",
   "execution_count": 1,
   "metadata": {},
   "outputs": [
    {
     "name": "stdout",
     "output_type": "stream",
     "text": [
      "(2593050, 3)\n"
     ]
    }
   ],
   "source": [
    "import os\n",
    "import pandas as pd\n",
    "\n",
    "path = 'data/' \n",
    "files = os.listdir(path)\n",
    "files_data = [i for i in files if i.startswith('userdat')][0:1] #listing all files in the directory of the correct form\n",
    "df = pd.DataFrame(columns=['user', 'artist','plays'])\n",
    "for j in files_data:\n",
    "    pseudo_data = pd.read_parquet('data/'+j)\n",
    "    df = pd.concat([df, pseudo_data])\n",
    "    print(df.shape)"
   ]
  },
  {
   "cell_type": "markdown",
   "metadata": {},
   "source": [
    "The data contains three columns and over three million rows. Let's take a closer look at a sample of the data. "
   ]
  },
  {
   "cell_type": "code",
   "execution_count": 2,
   "metadata": {
    "scrolled": true
   },
   "outputs": [
    {
     "data": {
      "text/html": [
       "<div>\n",
       "<style scoped>\n",
       "    .dataframe tbody tr th:only-of-type {\n",
       "        vertical-align: middle;\n",
       "    }\n",
       "\n",
       "    .dataframe tbody tr th {\n",
       "        vertical-align: top;\n",
       "    }\n",
       "\n",
       "    .dataframe thead th {\n",
       "        text-align: right;\n",
       "    }\n",
       "</style>\n",
       "<table border=\"1\" class=\"dataframe\">\n",
       "  <thead>\n",
       "    <tr style=\"text-align: right;\">\n",
       "      <th></th>\n",
       "      <th>user</th>\n",
       "      <th>artist</th>\n",
       "      <th>plays</th>\n",
       "    </tr>\n",
       "  </thead>\n",
       "  <tbody>\n",
       "    <tr>\n",
       "      <th>4163</th>\n",
       "      <td>17140</td>\n",
       "      <td>69858</td>\n",
       "      <td>3</td>\n",
       "    </tr>\n",
       "    <tr>\n",
       "      <th>505</th>\n",
       "      <td>18032</td>\n",
       "      <td>133660</td>\n",
       "      <td>71</td>\n",
       "    </tr>\n",
       "    <tr>\n",
       "      <th>186</th>\n",
       "      <td>18545</td>\n",
       "      <td>142027</td>\n",
       "      <td>61</td>\n",
       "    </tr>\n",
       "    <tr>\n",
       "      <th>238</th>\n",
       "      <td>15553</td>\n",
       "      <td>58412</td>\n",
       "      <td>1</td>\n",
       "    </tr>\n",
       "    <tr>\n",
       "      <th>2052</th>\n",
       "      <td>17129</td>\n",
       "      <td>69605</td>\n",
       "      <td>9</td>\n",
       "    </tr>\n",
       "    <tr>\n",
       "      <th>112</th>\n",
       "      <td>18313</td>\n",
       "      <td>91561</td>\n",
       "      <td>1</td>\n",
       "    </tr>\n",
       "    <tr>\n",
       "      <th>349</th>\n",
       "      <td>16952</td>\n",
       "      <td>50141</td>\n",
       "      <td>259</td>\n",
       "    </tr>\n",
       "    <tr>\n",
       "      <th>523</th>\n",
       "      <td>15503</td>\n",
       "      <td>136162</td>\n",
       "      <td>9</td>\n",
       "    </tr>\n",
       "    <tr>\n",
       "      <th>480</th>\n",
       "      <td>17444</td>\n",
       "      <td>58716</td>\n",
       "      <td>13</td>\n",
       "    </tr>\n",
       "    <tr>\n",
       "      <th>1640</th>\n",
       "      <td>17978</td>\n",
       "      <td>62871</td>\n",
       "      <td>2</td>\n",
       "    </tr>\n",
       "  </tbody>\n",
       "</table>\n",
       "</div>"
      ],
      "text/plain": [
       "       user  artist plays\n",
       "4163  17140   69858     3\n",
       "505   18032  133660    71\n",
       "186   18545  142027    61\n",
       "238   15553   58412     1\n",
       "2052  17129   69605     9\n",
       "112   18313   91561     1\n",
       "349   16952   50141   259\n",
       "523   15503  136162     9\n",
       "480   17444   58716    13\n",
       "1640  17978   62871     2"
      ]
     },
     "execution_count": 2,
     "metadata": {},
     "output_type": "execute_result"
    }
   ],
   "source": [
    "df.sample(10, random_state=1)"
   ]
  },
  {
   "cell_type": "markdown",
   "metadata": {},
   "source": [
    "The first column is an integer representing a user id, the second is an integer representing an artist name, and the third column is an integer indicating how many times the user listened to the artist. \n",
    "\n",
    "(It turns out, these are not currently stored as integers, but as strings instead. In the next cell we transform these to integers)"
   ]
  },
  {
   "cell_type": "code",
   "execution_count": 3,
   "metadata": {},
   "outputs": [],
   "source": [
    "df['artist'] = df['artist'].astype('int')\n",
    "df['user'] = df['user'].astype('int')"
   ]
  },
  {
   "cell_type": "code",
   "execution_count": 4,
   "metadata": {},
   "outputs": [
    {
     "data": {
      "text/html": [
       "<div>\n",
       "<style scoped>\n",
       "    .dataframe tbody tr th:only-of-type {\n",
       "        vertical-align: middle;\n",
       "    }\n",
       "\n",
       "    .dataframe tbody tr th {\n",
       "        vertical-align: top;\n",
       "    }\n",
       "\n",
       "    .dataframe thead th {\n",
       "        text-align: right;\n",
       "    }\n",
       "</style>\n",
       "<table border=\"1\" class=\"dataframe\">\n",
       "  <thead>\n",
       "    <tr style=\"text-align: right;\">\n",
       "      <th></th>\n",
       "      <th>user</th>\n",
       "      <th>artist</th>\n",
       "      <th>plays</th>\n",
       "    </tr>\n",
       "  </thead>\n",
       "  <tbody>\n",
       "    <tr>\n",
       "      <th>4163</th>\n",
       "      <td>17140</td>\n",
       "      <td>69858</td>\n",
       "      <td>3</td>\n",
       "    </tr>\n",
       "    <tr>\n",
       "      <th>505</th>\n",
       "      <td>18032</td>\n",
       "      <td>133660</td>\n",
       "      <td>71</td>\n",
       "    </tr>\n",
       "    <tr>\n",
       "      <th>186</th>\n",
       "      <td>18545</td>\n",
       "      <td>142027</td>\n",
       "      <td>61</td>\n",
       "    </tr>\n",
       "    <tr>\n",
       "      <th>238</th>\n",
       "      <td>15553</td>\n",
       "      <td>58412</td>\n",
       "      <td>1</td>\n",
       "    </tr>\n",
       "    <tr>\n",
       "      <th>2052</th>\n",
       "      <td>17129</td>\n",
       "      <td>69605</td>\n",
       "      <td>9</td>\n",
       "    </tr>\n",
       "    <tr>\n",
       "      <th>112</th>\n",
       "      <td>18313</td>\n",
       "      <td>91561</td>\n",
       "      <td>1</td>\n",
       "    </tr>\n",
       "    <tr>\n",
       "      <th>349</th>\n",
       "      <td>16952</td>\n",
       "      <td>50141</td>\n",
       "      <td>259</td>\n",
       "    </tr>\n",
       "    <tr>\n",
       "      <th>523</th>\n",
       "      <td>15503</td>\n",
       "      <td>136162</td>\n",
       "      <td>9</td>\n",
       "    </tr>\n",
       "    <tr>\n",
       "      <th>480</th>\n",
       "      <td>17444</td>\n",
       "      <td>58716</td>\n",
       "      <td>13</td>\n",
       "    </tr>\n",
       "    <tr>\n",
       "      <th>1640</th>\n",
       "      <td>17978</td>\n",
       "      <td>62871</td>\n",
       "      <td>2</td>\n",
       "    </tr>\n",
       "  </tbody>\n",
       "</table>\n",
       "</div>"
      ],
      "text/plain": [
       "       user  artist plays\n",
       "4163  17140   69858     3\n",
       "505   18032  133660    71\n",
       "186   18545  142027    61\n",
       "238   15553   58412     1\n",
       "2052  17129   69605     9\n",
       "112   18313   91561     1\n",
       "349   16952   50141   259\n",
       "523   15503  136162     9\n",
       "480   17444   58716    13\n",
       "1640  17978   62871     2"
      ]
     },
     "execution_count": 4,
     "metadata": {},
     "output_type": "execute_result"
    }
   ],
   "source": [
    "df.sample(10, random_state = 1)"
   ]
  },
  {
   "cell_type": "markdown",
   "metadata": {},
   "source": [
    "We take one pass through the data set to identify the set of unique users and the set of unique artists. "
   ]
  },
  {
   "cell_type": "code",
   "execution_count": 5,
   "metadata": {},
   "outputs": [],
   "source": [
    "artists = df['artist'].unique()\n",
    "users = df['user'].unique()"
   ]
  },
  {
   "cell_type": "code",
   "execution_count": 6,
   "metadata": {},
   "outputs": [
    {
     "name": "stdout",
     "output_type": "stream",
     "text": [
      "There are 29356 artists and 3100 users in our data.\n"
     ]
    }
   ],
   "source": [
    "print(\"There are \", len(artists), \" artists and \", len(users), \" users in our data.\" , sep=\"\")"
   ]
  },
  {
   "cell_type": "markdown",
   "metadata": {},
   "source": [
    "We also load in a dictionary which maps from the artist integers to artist names. "
   ]
  },
  {
   "cell_type": "code",
   "execution_count": 7,
   "metadata": {},
   "outputs": [],
   "source": [
    "import pickle\n",
    "file = open(\"data/dartists.pkl\",\"rb\")\n",
    "dartists = pickle.load(file)"
   ]
  },
  {
   "cell_type": "markdown",
   "metadata": {},
   "source": [
    "We want to convert the integers representing artist names back into artist names, using the dictionary. "
   ]
  },
  {
   "cell_type": "markdown",
   "metadata": {},
   "source": [
    "We group the data set by user. From there we can see which artists a particular user has listened to:"
   ]
  },
  {
   "cell_type": "code",
   "execution_count": 8,
   "metadata": {},
   "outputs": [],
   "source": [
    "import numpy as np\n",
    "\n",
    "def user_data(user, grouped_data):\n",
    "    return grouped_data.get_group(user) \n",
    "\n",
    "def top_k_listens(listening_history, k=10):\n",
    "    top_k = listening_history.sort_values(by=\"plays\", ascending = False)[\"artist\"].head(k).values\n",
    "    return artist_names(top_k)\n",
    "\n",
    "def artist_names(artist_ints, artist_dic = dartists):\n",
    "    return [artist_dic[k] for k in artist_ints]"
   ]
  },
  {
   "cell_type": "code",
   "execution_count": 9,
   "metadata": {},
   "outputs": [
    {
     "data": {
      "text/html": [
       "<div>\n",
       "<style scoped>\n",
       "    .dataframe tbody tr th:only-of-type {\n",
       "        vertical-align: middle;\n",
       "    }\n",
       "\n",
       "    .dataframe tbody tr th {\n",
       "        vertical-align: top;\n",
       "    }\n",
       "\n",
       "    .dataframe thead th {\n",
       "        text-align: right;\n",
       "    }\n",
       "</style>\n",
       "<table border=\"1\" class=\"dataframe\">\n",
       "  <thead>\n",
       "    <tr style=\"text-align: right;\">\n",
       "      <th></th>\n",
       "      <th>user</th>\n",
       "      <th>artist</th>\n",
       "      <th>plays</th>\n",
       "    </tr>\n",
       "  </thead>\n",
       "  <tbody>\n",
       "    <tr>\n",
       "      <th>825</th>\n",
       "      <td>15877</td>\n",
       "      <td>10120</td>\n",
       "      <td>1</td>\n",
       "    </tr>\n",
       "    <tr>\n",
       "      <th>1347</th>\n",
       "      <td>17994</td>\n",
       "      <td>136059</td>\n",
       "      <td>4</td>\n",
       "    </tr>\n",
       "    <tr>\n",
       "      <th>250</th>\n",
       "      <td>16134</td>\n",
       "      <td>121788</td>\n",
       "      <td>10</td>\n",
       "    </tr>\n",
       "    <tr>\n",
       "      <th>377</th>\n",
       "      <td>16414</td>\n",
       "      <td>50276</td>\n",
       "      <td>1</td>\n",
       "    </tr>\n",
       "    <tr>\n",
       "      <th>204</th>\n",
       "      <td>16316</td>\n",
       "      <td>70471</td>\n",
       "      <td>4</td>\n",
       "    </tr>\n",
       "    <tr>\n",
       "      <th>1165</th>\n",
       "      <td>17147</td>\n",
       "      <td>40708</td>\n",
       "      <td>1</td>\n",
       "    </tr>\n",
       "    <tr>\n",
       "      <th>1858</th>\n",
       "      <td>17291</td>\n",
       "      <td>18204</td>\n",
       "      <td>1</td>\n",
       "    </tr>\n",
       "    <tr>\n",
       "      <th>516</th>\n",
       "      <td>16161</td>\n",
       "      <td>140950</td>\n",
       "      <td>1</td>\n",
       "    </tr>\n",
       "    <tr>\n",
       "      <th>568</th>\n",
       "      <td>16845</td>\n",
       "      <td>168729</td>\n",
       "      <td>1</td>\n",
       "    </tr>\n",
       "    <tr>\n",
       "      <th>838</th>\n",
       "      <td>18124</td>\n",
       "      <td>147402</td>\n",
       "      <td>100</td>\n",
       "    </tr>\n",
       "  </tbody>\n",
       "</table>\n",
       "</div>"
      ],
      "text/plain": [
       "       user  artist plays\n",
       "825   15877   10120     1\n",
       "1347  17994  136059     4\n",
       "250   16134  121788    10\n",
       "377   16414   50276     1\n",
       "204   16316   70471     4\n",
       "1165  17147   40708     1\n",
       "1858  17291   18204     1\n",
       "516   16161  140950     1\n",
       "568   16845  168729     1\n",
       "838   18124  147402   100"
      ]
     },
     "execution_count": 9,
     "metadata": {},
     "output_type": "execute_result"
    }
   ],
   "source": [
    "df.sample(10, random_state = 3)"
   ]
  },
  {
   "cell_type": "code",
   "execution_count": 10,
   "metadata": {},
   "outputs": [],
   "source": [
    "grouped_df = df.groupby(['user'])"
   ]
  },
  {
   "cell_type": "markdown",
   "metadata": {},
   "source": [
    "For a particular user we can have a look at their listening history as well as their most listened to artists. "
   ]
  },
  {
   "cell_type": "code",
   "execution_count": 11,
   "metadata": {},
   "outputs": [
    {
     "data": {
      "text/html": [
       "<div>\n",
       "<style scoped>\n",
       "    .dataframe tbody tr th:only-of-type {\n",
       "        vertical-align: middle;\n",
       "    }\n",
       "\n",
       "    .dataframe tbody tr th {\n",
       "        vertical-align: top;\n",
       "    }\n",
       "\n",
       "    .dataframe thead th {\n",
       "        text-align: right;\n",
       "    }\n",
       "</style>\n",
       "<table border=\"1\" class=\"dataframe\">\n",
       "  <thead>\n",
       "    <tr style=\"text-align: right;\">\n",
       "      <th></th>\n",
       "      <th>user</th>\n",
       "      <th>artist</th>\n",
       "      <th>plays</th>\n",
       "    </tr>\n",
       "  </thead>\n",
       "  <tbody>\n",
       "    <tr>\n",
       "      <th>744</th>\n",
       "      <td>15877</td>\n",
       "      <td>45917</td>\n",
       "      <td>1</td>\n",
       "    </tr>\n",
       "    <tr>\n",
       "      <th>572</th>\n",
       "      <td>15877</td>\n",
       "      <td>131919</td>\n",
       "      <td>2</td>\n",
       "    </tr>\n",
       "    <tr>\n",
       "      <th>733</th>\n",
       "      <td>15877</td>\n",
       "      <td>136363</td>\n",
       "      <td>1</td>\n",
       "    </tr>\n",
       "    <tr>\n",
       "      <th>113</th>\n",
       "      <td>15877</td>\n",
       "      <td>14621</td>\n",
       "      <td>1</td>\n",
       "    </tr>\n",
       "    <tr>\n",
       "      <th>964</th>\n",
       "      <td>15877</td>\n",
       "      <td>91073</td>\n",
       "      <td>5</td>\n",
       "    </tr>\n",
       "    <tr>\n",
       "      <th>1142</th>\n",
       "      <td>15877</td>\n",
       "      <td>139915</td>\n",
       "      <td>1</td>\n",
       "    </tr>\n",
       "    <tr>\n",
       "      <th>28</th>\n",
       "      <td>15877</td>\n",
       "      <td>170498</td>\n",
       "      <td>2</td>\n",
       "    </tr>\n",
       "    <tr>\n",
       "      <th>392</th>\n",
       "      <td>15877</td>\n",
       "      <td>17261</td>\n",
       "      <td>6</td>\n",
       "    </tr>\n",
       "    <tr>\n",
       "      <th>1465</th>\n",
       "      <td>15877</td>\n",
       "      <td>5933</td>\n",
       "      <td>6</td>\n",
       "    </tr>\n",
       "    <tr>\n",
       "      <th>998</th>\n",
       "      <td>15877</td>\n",
       "      <td>43382</td>\n",
       "      <td>3</td>\n",
       "    </tr>\n",
       "  </tbody>\n",
       "</table>\n",
       "</div>"
      ],
      "text/plain": [
       "       user  artist plays\n",
       "744   15877   45917     1\n",
       "572   15877  131919     2\n",
       "733   15877  136363     1\n",
       "113   15877   14621     1\n",
       "964   15877   91073     5\n",
       "1142  15877  139915     1\n",
       "28    15877  170498     2\n",
       "392   15877   17261     6\n",
       "1465  15877    5933     6\n",
       "998   15877   43382     3"
      ]
     },
     "execution_count": 11,
     "metadata": {},
     "output_type": "execute_result"
    }
   ],
   "source": [
    "import numpy as np\n",
    "u_samp = user_data(15877, grouped_df)\n",
    "u_samp.sample(10)"
   ]
  },
  {
   "cell_type": "markdown",
   "metadata": {},
   "source": [
    "And we can use the 'top_k_listened' function to look up the k artists most listened to by a particular user:"
   ]
  },
  {
   "cell_type": "code",
   "execution_count": 12,
   "metadata": {},
   "outputs": [
    {
     "data": {
      "text/plain": [
       "['Mikica Bojanic',\n",
       " 'Nick Rowland',\n",
       " 'Hollandse Kerststerren',\n",
       " 'D.H.T. Featuring Edmee',\n",
       " 'Samurai Sam',\n",
       " 'Dipnoi',\n",
       " 'Alex C. Ft Y',\n",
       " 'Baby Shakes',\n",
       " 'Matt Sharp',\n",
       " 'David Pogue Of The New York Times']"
      ]
     },
     "execution_count": 12,
     "metadata": {},
     "output_type": "execute_result"
    }
   ],
   "source": [
    "top_k_listens(u_samp, 10) "
   ]
  },
  {
   "cell_type": "markdown",
   "metadata": {},
   "source": [
    "For each user, we want to generate a minhash of their listening history. The minhash class which we used in the previous notebook has been put into its own module for ease. "
   ]
  },
  {
   "cell_type": "markdown",
   "metadata": {},
   "source": [
    "So for each user, we want to compose a list of all the artists they listened to. From there we will generate minhashes for each user, then make predictions. "
   ]
  },
  {
   "cell_type": "markdown",
   "metadata": {},
   "source": [
    "TODO Explain that we have this fast function - it works by .... (?combinng mh for artists)\n",
    "\n",
    "(this is a min hash with 128 rows)"
   ]
  },
  {
   "cell_type": "code",
   "execution_count": 13,
   "metadata": {},
   "outputs": [],
   "source": [
    "from datasketching.minhash import generate_minhashes_for\n",
    "from datasketching.minhash import LSHMinhash"
   ]
  },
  {
   "cell_type": "code",
   "execution_count": 14,
   "metadata": {},
   "outputs": [],
   "source": [
    "mh_structs = LSHMinhash(32, 4)\n",
    "minhashes = generate_minhashes_for(grouped_df, \"user\", \"artist\", mh_structs)"
   ]
  },
  {
   "cell_type": "code",
   "execution_count": 15,
   "metadata": {},
   "outputs": [
    {
     "name": "stdout",
     "output_type": "stream",
     "text": [
      "3100\n"
     ]
    },
    {
     "data": {
      "text/plain": [
       "<datasketching.minhash.LSHMinhash at 0x12a2e0550>"
      ]
     },
     "execution_count": 15,
     "metadata": {},
     "output_type": "execute_result"
    }
   ],
   "source": [
    "print(len(minhashes))\n",
    "minhashes[0][1] ## this is a minhash object. "
   ]
  },
  {
   "cell_type": "markdown",
   "metadata": {},
   "source": [
    "We can compare minhash signatures with the 'similarity' function. This returns a number between 0 and 1 where a 1 denotes identical signatures, and a 0 means that no corresponding buckets of the min hash signatures hold the same value. "
   ]
  },
  {
   "cell_type": "code",
   "execution_count": 16,
   "metadata": {},
   "outputs": [
    {
     "data": {
      "text/plain": [
       "0.7421875"
      ]
     },
     "execution_count": 16,
     "metadata": {},
     "output_type": "execute_result"
    }
   ],
   "source": [
    "minhashes[2][1].similarity(minhashes[1][1])"
   ]
  },
  {
   "cell_type": "code",
   "execution_count": 17,
   "metadata": {},
   "outputs": [
    {
     "name": "stdout",
     "output_type": "stream",
     "text": [
      "15503\n",
      "15516\n",
      "15522\n",
      "15524\n",
      "15532\n",
      "15537\n",
      "15539\n",
      "15540\n",
      "15542\n",
      "15548\n"
     ]
    }
   ],
   "source": [
    "sim = []\n",
    "for i in range(len(minhashes)):\n",
    "    sim.append(minhashes[1][1].similarity(minhashes[i][1]))\n",
    "    \n",
    "similar = set(sorted(sim, reverse = True)[1:10])\n",
    "similar_users = ([i for i, e in enumerate(sim) if e in similar])\n",
    "for j in similar_users:\n",
    "    print(users[j])"
   ]
  },
  {
   "cell_type": "markdown",
   "metadata": {},
   "source": [
    "These are the most similar users. Let's go ahead and look at the top artists listened to by all these users. \n",
    "\n",
    "Going to look at the unique artists listened to by each of these, remove uniques listened to by user 2, and then return the most listened across the other users. "
   ]
  },
  {
   "cell_type": "markdown",
   "metadata": {},
   "source": [
    "Look at the ?top 10 artists most listened to by these users that our user didnt listen to. "
   ]
  },
  {
   "cell_type": "code",
   "execution_count": 18,
   "metadata": {},
   "outputs": [],
   "source": [
    "unheard = []\n",
    "for u in similar_users:\n",
    "    u_dat = user_data(users[u], grouped_df)\n",
    "    unheard = unheard + list(top_k_listens(u_dat, 2))"
   ]
  },
  {
   "cell_type": "code",
   "execution_count": 19,
   "metadata": {},
   "outputs": [
    {
     "data": {
      "text/plain": [
       "['(Congo) Ombiza Charles',\n",
       " 'Foreign Beggars Vs Rouge À Lèvres',\n",
       " 'Jimmy Martin',\n",
       " 'Radius System',\n",
       " 'Sc 1)',\n",
       " 'Henry Badowski',\n",
       " 'Alexis Taylor',\n",
       " 'Eminem & Marilyn Manson',\n",
       " 'Oreiro',\n",
       " 'Sin 34',\n",
       " 'Atomic Forest',\n",
       " 'Pavor',\n",
       " 'Dachshund',\n",
       " 'Midge Ure & Kate Bush',\n",
       " 'Eli Roth & Michael Bacall',\n",
       " 'Haloblack',\n",
       " 'Thompson, Judd & Wright',\n",
       " 'Grad_U',\n",
       " 'Magnum',\n",
       " 'Alejandro Sanz Featuring Shakira']"
      ]
     },
     "execution_count": 19,
     "metadata": {},
     "output_type": "execute_result"
    }
   ],
   "source": [
    "unheard"
   ]
  },
  {
   "cell_type": "markdown",
   "metadata": {},
   "source": [
    "So that's just a quick example of how we can use minhash to identify songs we should recommend to a particular user. This method works fine on a small number of users, but falls into dificulty when the number of users grows, and the number of users for which we want to make recommendations for grows. \n",
    "\n",
    "Let's plot the time required to compare users:"
   ]
  },
  {
   "cell_type": "code",
   "execution_count": 20,
   "metadata": {},
   "outputs": [],
   "source": [
    "import time\n",
    "npairs = [10, 25, 50, 75, 100, 300, 500, 750, 1000, 2000, 3100]\n",
    "times = []\n",
    "for pairs in npairs:\n",
    "    start = time.time()\n",
    "    sim=[]\n",
    "    for i in range(1, pairs):\n",
    "        for j in range((i+1), pairs):\n",
    "            sim.append(minhashes[i][1].similarity(minhashes[j][1]))\n",
    "    end = time.time()\n",
    "    times.append((pairs, end-start))"
   ]
  },
  {
   "cell_type": "code",
   "execution_count": 21,
   "metadata": {},
   "outputs": [
    {
     "data": {
      "text/plain": [
       "[(10, 0.00010895729064941406),\n",
       " (25, 0.0005309581756591797),\n",
       " (50, 0.002137899398803711),\n",
       " (75, 0.004729032516479492),\n",
       " (100, 0.00880575180053711),\n",
       " (300, 0.07836794853210449),\n",
       " (500, 0.23706579208374023),\n",
       " (750, 0.49386096000671387),\n",
       " (1000, 0.86287522315979),\n",
       " (2000, 3.634202003479004),\n",
       " (3100, 8.452794790267944)]"
      ]
     },
     "execution_count": 21,
     "metadata": {},
     "output_type": "execute_result"
    }
   ],
   "source": [
    "times"
   ]
  },
  {
   "cell_type": "code",
   "execution_count": 22,
   "metadata": {},
   "outputs": [
    {
     "name": "stderr",
     "output_type": "stream",
     "text": [
      "/anaconda2/envs/composable-recs/lib/python3.6/site-packages/altair/utils/core.py:294: FutureWarning: A future version of pandas will default to `skipna=True`. To silence this warning, pass `skipna=True|False` explicitly.\n",
      "  attrs['type'] = infer_vegalite_type(data[attrs['field']])\n"
     ]
    },
    {
     "data": {
      "application/javascript": [
       "var spec = {\"config\": {\"view\": {\"width\": 400, \"height\": 300}}, \"data\": {\"name\": \"data-5a00dadda4c52a832c056e33d183621f\"}, \"mark\": \"line\", \"encoding\": {\"x\": {\"type\": \"quantitative\", \"field\": \"nusers\"}, \"y\": {\"type\": \"quantitative\", \"field\": \"time (s)\"}}, \"$schema\": \"https://vega.github.io/schema/vega-lite/v2.6.0.json\", \"datasets\": {\"data-5a00dadda4c52a832c056e33d183621f\": [{\"nusers\": 10, \"time (s)\": 0.00010895729064941406}, {\"nusers\": 25, \"time (s)\": 0.0005309581756591797}, {\"nusers\": 50, \"time (s)\": 0.002137899398803711}, {\"nusers\": 75, \"time (s)\": 0.004729032516479492}, {\"nusers\": 100, \"time (s)\": 0.00880575180053711}, {\"nusers\": 300, \"time (s)\": 0.07836794853210449}, {\"nusers\": 500, \"time (s)\": 0.23706579208374023}, {\"nusers\": 750, \"time (s)\": 0.49386096000671387}, {\"nusers\": 1000, \"time (s)\": 0.86287522315979}, {\"nusers\": 2000, \"time (s)\": 3.634202003479004}, {\"nusers\": 3100, \"time (s)\": 8.452794790267944}]}};\n",
       "var opt = {};\n",
       "var type = \"vega-lite\";\n",
       "var id = \"d3315322-7d5a-403f-85af-e6ec4c48857d\";\n",
       "\n",
       "var output_area = this;\n",
       "\n",
       "require([\"nbextensions/jupyter-vega/index\"], function(vega) {\n",
       "  var target = document.createElement(\"div\");\n",
       "  target.id = id;\n",
       "  target.className = \"vega-embed\";\n",
       "\n",
       "  var style = document.createElement(\"style\");\n",
       "  style.textContent = [\n",
       "    \".vega-embed .error p {\",\n",
       "    \"  color: firebrick;\",\n",
       "    \"  font-size: 14px;\",\n",
       "    \"}\",\n",
       "  ].join(\"\\\\n\");\n",
       "\n",
       "  // element is a jQuery wrapped DOM element inside the output area\n",
       "  // see http://ipython.readthedocs.io/en/stable/api/generated/\\\n",
       "  // IPython.display.html#IPython.display.Javascript.__init__\n",
       "  element[0].appendChild(target);\n",
       "  element[0].appendChild(style);\n",
       "\n",
       "  vega.render(\"#\" + id, spec, type, opt, output_area);\n",
       "}, function (err) {\n",
       "  if (err.requireType !== \"scripterror\") {\n",
       "    throw(err);\n",
       "  }\n",
       "});\n"
      ],
      "text/plain": [
       "<vega.vegalite.VegaLite at 0x12b0e3438>"
      ]
     },
     "metadata": {
      "jupyter-vega": "#d3315322-7d5a-403f-85af-e6ec4c48857d"
     },
     "output_type": "display_data"
    },
    {
     "data": {
      "text/plain": []
     },
     "execution_count": 22,
     "metadata": {},
     "output_type": "execute_result"
    },
    {
     "data": {
      "image/png": "[encoded data removed]"
     },
     "metadata": {
      "jupyter-vega": "#d3315322-7d5a-403f-85af-e6ec4c48857d"
     },
     "output_type": "display_data"
    }
   ],
   "source": [
    "import altair as alt\n",
    "\n",
    "times_df = pd.DataFrame.from_records(times)\n",
    "times_df.rename(columns = {0:\"nusers\", 1:\"time (s)\"}, inplace = True)\n",
    "alt.renderers.enable('notebook')\n",
    "alt.Chart(times_df). mark_line().encode(x=\"nusers\", y=\"time (s)\")"
   ]
  },
  {
   "cell_type": "markdown",
   "metadata": {},
   "source": [
    "## Locality-Sensitive Minhash\n",
    "\n",
    "As the graph above shows, one big disadvantage of using Minhash signatures to identify similar users is the number of pairwise comparisons which must be made to determine similarity. \n",
    "\n",
    "Locality-sensitive Minhash is a technique we can use to identify candidate pairs of similar users for a much smaller computational cost. The method works by hashing subsets minhash signatures. If 2 users have identical signatures in ANY of the subsets these users are considered a candidate pair. And from there you can go and compute their approximate Jaccard index, or similarity, using the full minhash signatures, to determine just how similar they are, and decide if you want to make recommendations. \n",
    "\n",
    "The way in locality sensitive minhash works is by splitting the minhash signatures into bands. The bands are then hashed to buckets. \n",
    "\n",
    "if, in any band, two users map to the same bucket, they would be considered a candidate pair. At that point you’d go back and look at their minhash signatures, and compare those to determine how similar the users are. \n",
    "\n",
    "\n",
    "And thus we only have to compute the similarity of the minhash signatures for a subset of the whole population. "
   ]
  },
  {
   "cell_type": "code",
   "execution_count": 26,
   "metadata": {},
   "outputs": [],
   "source": [
    "from collections import defaultdict\n",
    "\n",
    "bands = [defaultdict(lambda: list()) for i in range(len(lshm.lsh_keys()))]\n",
    "\n",
    "for ind, lshm in minhashes:\n",
    "    for idx, key in enumerate(lshm.lsh_keys()):\n",
    "        bands[idx][key % (1 << 14)].append(ind)"
   ]
  },
  {
   "cell_type": "markdown",
   "metadata": {},
   "source": [
    "We've made a dictionary of values for each band, where the keys correspond to buckets, and the values are indexes of minhash signature which mapped to that bucket. \n",
    "\n",
    "If two minhash signatures hash to the same key in ANY band we consider them to be 'candidate pairs'. \n",
    "\n",
    "This means that the corresponding users _may_ be similar. We can check if they are similar by comparing the set of artists they have each listend to. From there we can use this information to make recomendations, or move on to consider other candidate pairs. "
   ]
  },
  {
   "cell_type": "code",
   "execution_count": null,
   "metadata": {},
   "outputs": [],
   "source": [
    "bands"
   ]
  },
  {
   "cell_type": "code",
   "execution_count": null,
   "metadata": {},
   "outputs": [],
   "source": []
  }
 ],
 "metadata": {
  "kernelspec": {
   "display_name": "Python 3",
   "language": "python",
   "name": "python3"
  },
  "language_info": {
   "codemirror_mode": {
    "name": "ipython",
    "version": 3
   },
   "file_extension": ".py",
   "mimetype": "text/x-python",
   "name": "python",
   "nbconvert_exporter": "python",
   "pygments_lexer": "ipython3",
   "version": "3.6.8"
  }
 },
 "nbformat": 4,
 "nbformat_minor": 2
}
