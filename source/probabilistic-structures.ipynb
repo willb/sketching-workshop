{
 "cells": [
  {
   "cell_type": "markdown",
   "metadata": {},
   "source": [
    "# Probabilistic structures for scalable computing\n",
    "\n"
   ]
  },
  {
   "cell_type": "markdown",
   "metadata": {},
   "source": [
    "# Online mean and variance estimates\n",
    "\n",
    "The first technique we'll introduce isn't a probabilistic structure at all, but it will serve as a warm-up to introduce some of the more involved concepts we'll look at later.  We'll look at Chan's formula for online mean and variance estimates, so that we can calculate estimated mean and variance in a single pass over a large data set.  As we'll see, this technique will also let us combine estimates for several data sets (i.e., for processing a partitioned collection in parallel)."
   ]
  },
  {
   "cell_type": "code",
   "execution_count": null,
   "metadata": {},
   "outputs": [],
   "source": [
    "class StreamMV(object):\n",
    "    from sys import float_info\n",
    "\n",
    "    def __init__(self, count=0, min=float_info.max,\n",
    "                 max=-float_info.max, m1=0.0, m2=0.0):\n",
    "        (self.count, self.min, self.max) = (count, min, max)\n",
    "        (self.m1, self.m2) = (m1, m2)\n",
    "\n",
    "    def __lshift__(self, sample):\n",
    "        (self.max, self.min) = (max(self.max, sample), min(self.min, sample))\n",
    "        dev = sample - self.m1\n",
    "        self.m1 = self.m1 + (dev / (self.count + 1))\n",
    "        self.m2 = self.m2 + (dev * dev) * self.count / (self.count + 1)\n",
    "        self.count += 1\n",
    "        return self\n",
    "\n",
    "    def mean(self): \n",
    "        return self.m1\n",
    "\n",
    "    def variance(self): \n",
    "        return self.m2 / self.count\n",
    "\n",
    "    def stddev(self): \n",
    "        return math.sqrt(self.variance)\n",
    "    \n",
    "    def merge_from(self, other):\n",
    "        if other.count == 0:\n",
    "            return self\n",
    "        if self.count == 0:\n",
    "            (self.m1, self.m2) = (other.m1, other.m2)\n",
    "            self.count = other.count\n",
    "            (self.min, self.max) = (other.min, other.max)\n",
    "            return self\n",
    "        else:\n",
    "            dev = other.m1 - self.m1\n",
    "            new_count = other.count + self.count\n",
    "            self.m1 = (self.count * self.m1 + other.count * other.m1) / new_count\n",
    "            self.m2 = self.m2 + other.m2 + (dev * dev) * self.count * other.count / new_count\n",
    "            self.count = new_count\n",
    "            self.max = max(self.max, other.max)\n",
    "            self.min = min(self.min, other.min)\n",
    "            return self"
   ]
  },
  {
   "cell_type": "markdown",
   "metadata": {},
   "source": [
    "We can test this code by sampling from a random distribution with known mean and variance.  (We're using the Poisson distribution with a $\\lambda$ parameter of 7, which should have a mean and variance of 7, but you could try with any other distribution if you wanted.)"
   ]
  },
  {
   "cell_type": "code",
   "execution_count": null,
   "metadata": {},
   "outputs": [],
   "source": [
    "from scipy.stats import poisson\n",
    "sink = StreamMV()\n",
    "\n",
    "for p in poisson.rvs(7, size=10000):\n",
    "    sink << p\n",
    "\n",
    "print (sink.mean(), sink.variance())"
   ]
  },
  {
   "cell_type": "markdown",
   "metadata": {},
   "source": [
    "We can see that we can also parallelize this work:"
   ]
  },
  {
   "cell_type": "code",
   "execution_count": null,
   "metadata": {},
   "outputs": [],
   "source": [
    "from scipy.stats import poisson\n",
    "s1, s2 = StreamMV(), StreamMV()\n",
    "\n",
    "for p in poisson.rvs(7, size=10000):\n",
    "    s1 << p\n",
    "\n",
    "\n",
    "for p in poisson.rvs(7, size=10000):\n",
    "    s2 << p\n",
    "\n",
    "print(\"s1 mean %f, variance %f, count %d\" % (s1.mean(), s1.variance(), s1.count))\n",
    "print(\"s2 mean %f, variance %f, count %d\" % (s2.mean(), s2.variance(), s2.count))\n",
    "\n",
    "s1.merge_from(s2)\n",
    "\n",
    "print(\"s1+s2 mean %f, variance %f, count %d\" % (s1.mean(), s1.variance(), s1.count))"
   ]
  },
  {
   "cell_type": "markdown",
   "metadata": {},
   "source": [
    "The mean and variance estimate technique we've just shown has a few things in common with the other techniques we'll look at:\n",
    "\n",
    "1.  It's _incremental_, meaning that it is possible to update an estimate with a single sample at a time (this also implies that it's _single-pass_, meaning that you only need to see each sample once).\n",
    "2.  It's _parallel_, meaning that it is possible to combine estimates for subsets of the population of interest and get an estimate for their union, and\n",
    "3.  It's _scalable_, meaning that it requires a constant amount of space no matter how many samples it processes."
   ]
  },
  {
   "cell_type": "markdown",
   "metadata": {},
   "source": [
    "# Bloom filter"
   ]
  },
  {
   "cell_type": "markdown",
   "metadata": {},
   "source": [
    "<img width=\"50%\" style=\"float: left;\" src=\"data:image/svg+xml;base64,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\" />"
   ]
  },
  {
   "cell_type": "markdown",
   "metadata": {},
   "source": [
    "A conventional hash table (or hash table-backed set structure) consists of a series of _buckets_.  Hash table insert looks like this:\n",
    "\n",
    "1.  First, use the hash value of the key to identify the index of the bucket that should contain it.  \n",
    "2.  If the bucket is empty, update the bucket to contain the key and value (with a trivial value in the case of a hashed set).  \n",
    "3.  If the bucket is not empty and the key stored in it is not the one you've hashed, handle this _hash collision_.  There are several strategies to handle hash collisions precisely; most involve extra lookups (e.g., having a second hash function or going to the next available bucket) or extra space (e.g., having a linked list of keys and values in each bucket).\n",
    "\n",
    "Hash table lookup proceeds similarly:  \n",
    "\n",
    "1.  Looking up the index of the bucket that should contain a key (as above).\n",
    "2.  Check to see if that bucket contains the key.  \n",
    "  - If the bucket contains the key, return the value (or \"true\" in the case of a hash-backed set).\n",
    "  - If the bucket contains nothing, then the key is not in the table.  \n",
    "  - If the bucket contains something else, follow the strategy for resolving collisions until finding a bucket that contains the key or exhausting all possible buckets.\n",
    "\n",
    "Think of a [Bloom filter](https://en.wikipedia.org/wiki/Bloom_filter) as a hashed set structure that has no precise way to handle collisions.  Instead, the Bloom filter ameliorates the impact of hash collisions by using _multiple hash functions_.  The buckets in the Bloom filter are merely bits:  they do not have the identities of keys.  When a value is inserted into the Bloom filter, multiple hash functions are used to select which buckets should be set to true (buckets that are already true are not changed).  This means that if _all_ of the buckets for a given key are true, then the Bloom filter _may_ contain it, but that if _any_ of the buckets for a given key are false, then the Bloom filter _must not_ contain it.\n",
    "\n",
    "Let's see an implementation.  We'll start by building a basic bit vector class so that we can efficiently store values."
   ]
  },
  {
   "cell_type": "code",
   "execution_count": null,
   "metadata": {},
   "outputs": [],
   "source": [
    "import numpy\n",
    "\n",
    "class BitVector(object):\n",
    "    def __init__(self, size):\n",
    "        self._size = size\n",
    "        ct = size % 64 == 0 and (size / 64) or (size / 64 + 1)\n",
    "        self._entries = numpy.zeros(int(ct), numpy.uint64)\n",
    "    \n",
    "    def __len__(self):\n",
    "        return self._size\n",
    "    \n",
    "    def __getitem__(self, key):\n",
    "        k = int(key)\n",
    "        return (self._entries[int(k / 64)] & numpy.uint64(1 << (k % 64))) > 0\n",
    "    \n",
    "    def __setitem__(self, key, value):\n",
    "        k = int(key)\n",
    "        if value:\n",
    "            update = numpy.uint64(1 << key % 64)\n",
    "            self._entries[int(k / 64)] = self._entries[int(k / 64)] | update\n",
    "        else:\n",
    "            update = numpy.uint64(1 << key % 64)\n",
    "            self._entries[int(k / 64)] = self._entries[int(k / 64)] ^ update\n",
    "    \n",
    "    def merge_from(self, other):\n",
    "        numpy.bitwise_or(self._entries, other._entries, self._entries)\n",
    "    \n",
    "    def intersect_from(self, other):\n",
    "        numpy.bitwise_and(self._entries, other._entries, self._entries)\n",
    "    \n",
    "    def dup(self):\n",
    "        result = BitVector(self._size)\n",
    "        result.merge_from(self)\n",
    "        return result\n",
    "    \n",
    "    def intersect(self, other):\n",
    "        result = BitVector(self._size)\n",
    "        numpy.bitwise_and(self._entries, other._entries, result._entries)\n",
    "        return result\n",
    "    \n",
    "    def union(self, other):\n",
    "        result = BitVector(self._size)\n",
    "        numpy.bitwise_or(self._entries, other._entries, result._entries)\n",
    "        return result\n",
    "    \n",
    "    def count_set_bits(self):\n",
    "        \"\"\" Count the number of bits set in this vector. \n",
    "            There are absolutely better ways to do this\n",
    "            but this implementation is suitable for\n",
    "            occasional use. \"\"\"\n",
    "        def set_bits(i):\n",
    "            result = 0\n",
    "            i = int(i)\n",
    "            while i:\n",
    "                result += (i & 1)\n",
    "                i >>= 1\n",
    "            return result\n",
    "        return sum([set_bits(x) for x in self._entries])\n",
    "        "
   ]
  },
  {
   "cell_type": "markdown",
   "metadata": {},
   "source": [
    "We can now implement the Bloom filter using the bit vector to store values."
   ]
  },
  {
   "cell_type": "code",
   "execution_count": null,
   "metadata": {},
   "outputs": [],
   "source": [
    "class Bloom(object):\n",
    "    def __init__(self, size, hashes):\n",
    "        \"\"\" Initializes a Bloom filter with the\n",
    "            given size and a collection of hashes, \n",
    "            which are functions taking arbitrary \n",
    "            values and returning integers. \n",
    "            \n",
    "            hashes can be either a function taking \n",
    "            a value and returning a list of results\n",
    "            or a list of functions.  In the latter \n",
    "            case, this constructor will synthesize \n",
    "            the former \"\"\"\n",
    "        self.__buckets = BitVector(size)\n",
    "        self.__size = len(self.__buckets)\n",
    "        \n",
    "        if hasattr(hashes, '__call__'):\n",
    "            self.__hashes = hashes\n",
    "        else:\n",
    "            funs = hashes[:]\n",
    "            def h(value):\n",
    "                return [f(value) for f in funs]\n",
    "            self.__hashes = h\n",
    "    \n",
    "    def size(self):\n",
    "        return self.__size\n",
    "    \n",
    "    def insert(self, value):\n",
    "        \"\"\" Inserts a value into this set \"\"\"\n",
    "        for h in self.__hashes(value):\n",
    "            self.__buckets[h % self.__size] = True\n",
    "    \n",
    "    def lookup(self, value):\n",
    "        \"\"\" Returns true if value may be in this set\n",
    "            (i.e., may return false positives) \"\"\"\n",
    "        for h in self.__hashes(value):\n",
    "            if self.__buckets[h % self.__size] == False:\n",
    "                return False\n",
    "        return True"
   ]
  },
  {
   "cell_type": "markdown",
   "metadata": {},
   "source": [
    "Now we'll need some different hash functions to use in our Bloom filter.  We can simulate multiple hashes by using one of the hashes supplied in `hashlib` and simply masking out parts of the digest."
   ]
  },
  {
   "cell_type": "code",
   "execution_count": null,
   "metadata": {},
   "outputs": [],
   "source": [
    "from hashlib import sha1\n",
    "import pickle\n",
    "\n",
    "def h_sha1(value):\n",
    "    bvalue = type(value) == bytes and value or pickle.dumps(value)\n",
    "    return sha1(bvalue).hexdigest()\n",
    "\n",
    "def hashes_for(value):\n",
    "    bvalue = type(value) == bytes and value or pickle.dumps(value)\n",
    "    digest = sha1(bvalue).hexdigest()\n",
    "    return [int(digest[s:s+7], 16) for s in [0,8,16,24]]\n",
    "\n",
    "def h1(value):\n",
    "    return int(h_sha1(value)[0:8], 16)\n",
    "\n",
    "def h2(value):\n",
    "    return int(h_sha1(value)[8:16], 16)\n",
    "\n",
    "def h3(value):\n",
    "    return int(h_sha1(value)[16:24], 16)\n",
    "\n",
    "def hashes_for(count, stride):\n",
    "    def hashes(value):\n",
    "        bvalue = type(value) == bytes and value or pickle.dumps(value)\n",
    "        digest = sha1(bvalue).hexdigest()\n",
    "        return [int(digest[s:s+stride], 16) for s in [x * stride for x in range(count)]]\n",
    "    return hashes"
   ]
  },
  {
   "cell_type": "markdown",
   "metadata": {},
   "source": [
    "Now let's construct a Bloom filter using our three hashes."
   ]
  },
  {
   "cell_type": "code",
   "execution_count": null,
   "metadata": {},
   "outputs": [],
   "source": [
    "# equivalent to bloom = Bloom(1024, [h1, h2, h3])\n",
    "bloom = Bloom(1024, hashes_for(3, 8))"
   ]
  },
  {
   "cell_type": "code",
   "execution_count": null,
   "metadata": {},
   "outputs": [],
   "source": [
    "bloom.insert(\"foobar\")\n",
    "bloom.lookup(\"foobar\")"
   ]
  },
  {
   "cell_type": "code",
   "execution_count": null,
   "metadata": {},
   "outputs": [],
   "source": [
    "bloom.lookup(\"absent\")"
   ]
  },
  {
   "cell_type": "markdown",
   "metadata": {},
   "source": [
    "So far, so good!  Now let's run an experiment to see how our false positive rate changes over time.  We're going to construct a random stream of values and insert them into a Bloom filter -- but we're going to look them up first.  Since it is extremely improbable that we'll get the same random values twice in a short simulation (the period of the Mersenne Twister that Python uses is too large to allow this), we can be fairly certain that any values for which `lookup` returns true before we've inserted them are false positives.  We'll collect the false positive rate at every 100 samples."
   ]
  },
  {
   "cell_type": "code",
   "execution_count": null,
   "metadata": {},
   "outputs": [],
   "source": [
    "def bloom_experiment(sample_count, size, hashes, seed=0x15300625):\n",
    "    import random\n",
    "    from collections import namedtuple\n",
    "   \n",
    "    random.seed(seed)\n",
    "    bloom = Bloom(size, hashes)\n",
    "    \n",
    "    result = []\n",
    "    false_positives = 0\n",
    "    \n",
    "    for i in range(sample_count):\n",
    "        bits = random.getrandbits(64)\n",
    "        if bloom.lookup(bits):\n",
    "            false_positives = false_positives + 1\n",
    "        bloom.insert(bits)\n",
    "        \n",
    "        if i % 100 == 0:\n",
    "            result.append((i + 1, false_positives / float(i + 1)))\n",
    "    result.append((i + 1, false_positives / float(i + 1)))\n",
    "    return result"
   ]
  },
  {
   "cell_type": "code",
   "execution_count": null,
   "metadata": {},
   "outputs": [],
   "source": [
    "from pandas import DataFrame\n",
    "\n",
    "results = bloom_experiment(1 << 18, 4096, hashes_for(3, 8))\n",
    "df = DataFrame.from_records(results)\n",
    "df.rename(columns={0: \"unique values\", 1: \"false positive rate\"}, inplace=True)"
   ]
  },
  {
   "cell_type": "code",
   "execution_count": null,
   "metadata": {},
   "outputs": [],
   "source": [
    "%matplotlib inline\n",
    "%config InlineBackend.figure_format = 'svg'\n",
    "\n",
    "import seaborn as sns\n",
    "import numpy as np\n",
    "import matplotlib.pyplot as plt\n",
    "\n",
    "sns.set(color_codes=True)\n",
    "_, ax = plt.subplots(figsize=(5,5))\n",
    "ax.set(xscale=\"log\")\n",
    "\n",
    "_ = sns.regplot(\"unique values\", \"false positive rate\", df, ax=ax, fit_reg=False, scatter=True)"
   ]
  },
  {
   "cell_type": "markdown",
   "metadata": {},
   "source": [
    "We can see how increasing the size of the filter changes our results:"
   ]
  },
  {
   "cell_type": "code",
   "execution_count": null,
   "metadata": {},
   "outputs": [],
   "source": [
    "results = bloom_experiment(1 << 18, 16384, hashes_for(3, 8))\n",
    "df = DataFrame.from_records(results )\n",
    "df.rename(columns={0: \"unique values\", 1: \"false positive rate\"}, inplace=True)\n",
    "_, ax = plt.subplots(figsize=(5,5))\n",
    "ax.set(xscale=\"log\")\n",
    "\n",
    "\n",
    "_ = sns.regplot(\"unique values\", \"false positive rate\", df, ax=ax, fit_reg=False, scatter=True)"
   ]
  },
  {
   "cell_type": "markdown",
   "metadata": {},
   "source": [
    "## Analytic properties\n",
    "\n",
    "We can analytically predict a false positive rate for a given Bloom filter.  If $k$ is the number of hash functions, $m$ is the size of the Bloom filter in bits, and $n$ is the number of elements in the set, we can expect a false positive rate of $ ( 1 - e^{- kn / m} )^k $.  Let's plot that function for our previous example:"
   ]
  },
  {
   "cell_type": "code",
   "execution_count": null,
   "metadata": {},
   "outputs": [],
   "source": [
    "results = []\n",
    "import math\n",
    "hash_count = 3\n",
    "filter_size = 16384\n",
    "\n",
    "entries = 0\n",
    "while entries < 1 << 18:\n",
    "    results.append((entries + 1, math.pow(1 - math.pow(math.e, -((hash_count * (entries + 1)) / filter_size)), hash_count)))\n",
    "    entries = entries + 100\n",
    "\n",
    "df = DataFrame.from_records(results)\n",
    "df.rename(columns={0: \"unique values\", 1: \"false positive rate\"}, inplace=True)\n",
    "_, ax = plt.subplots(figsize=(5,5))\n",
    "ax.set(xscale=\"log\")\n",
    "\n",
    "\n",
    "_ = sns.regplot(\"unique values\", \"false positive rate\", df, ax=ax, fit_reg=False, scatter=True)"
   ]
  },
  {
   "cell_type": "markdown",
   "metadata": {},
   "source": [
    "As we can see, our expected false positive rate lines up very closely to our actual false positive rate.\n",
    "\n",
    "## Other useful properties\n",
    "\n",
    "Since it is possible to incrementally update a Bloom filter by adding a single element, the Bloom filter is suitable for stream processing.\n",
    "\n",
    "However, it is also possible to find the _union_ of two Bloom filters if they have the same size and were constructed with the same hash functions, which means it is possible to use the Bloom filter for parallel batch processing (i.e., approximating a very large set by combining the Bloom filters approximating its subsets).  The union of Bloom filters approximating sets $A$ and $B$ is the bucketwise OR of $A$ and $B$.  The union of Bloom filters approximating sets $A$ and $B$ will produce the same result as the Bloom filter approximating the set $A \\cup B$.\n",
    "\n",
    "It is also possible to find the _intersection_ of two Bloom filters by taking their bucketwise AND.  $ \\mathrm{Bloom}(A) \\cap \\mathrm{Bloom}(B) $ may be less precise than $ \\mathrm{Bloom}(A \\cap B) $; the upper bound on the false positive rate for $ \\mathrm{Bloom}(A) \\cap \\mathrm{Bloom}(B) $ will be the greater of the false positive rates for $ \\mathrm{Bloom}(A) $ and $ \\mathrm{Bloom}(B) $."
   ]
  },
  {
   "cell_type": "code",
   "execution_count": null,
   "metadata": {},
   "outputs": [],
   "source": [
    "class Bloom(object):\n",
    "    def __init__(self, size, hashes):\n",
    "        \"\"\" Initializes a Bloom filter with the\n",
    "            given size and a collection of hashes, \n",
    "            which are functions taking arbitrary \n",
    "            values and returning integers. \n",
    "            \n",
    "            hashes can be either a function taking \n",
    "            a value and returning a list of results\n",
    "            or a list of functions.  In the latter \n",
    "            case, this constructor will synthesize \n",
    "            the former \"\"\"\n",
    "        self.__buckets = BitVector(size)\n",
    "        self.__size = len(self.__buckets)\n",
    "        \n",
    "        if hasattr(hashes, '__call__'):\n",
    "            self.__hashes = hashes\n",
    "        else:\n",
    "            funs = hashes[:]\n",
    "            def h(value):\n",
    "                return [int(f(value)) for f in funs]\n",
    "            self.__hashes = h\n",
    "    \n",
    "    def size(self):\n",
    "        return self.__size\n",
    "    \n",
    "    def insert(self, value):\n",
    "        \"\"\" Inserts a value into this set \"\"\"\n",
    "        for h in self.__hashes(value):\n",
    "            self.__buckets[h % self.__size] = True\n",
    "    \n",
    "    def lookup(self, value):\n",
    "        \"\"\" Returns true if value may be in this set\n",
    "            (i.e., may return false positives) \"\"\"\n",
    "        for h in self.__hashes(value):\n",
    "            if self.__buckets[h % self.__size] == False:\n",
    "                return False\n",
    "        return True\n",
    "    \n",
    "    def merge_from(self, other):\n",
    "        \"\"\" Merges other in to this filter by \n",
    "            taking the bitwise OR of this and \n",
    "            other.  Updates this filter in place. \"\"\"\n",
    "        self.__buckets.merge_from(other.__buckets)\n",
    "    \n",
    "    def intersect(self, other):\n",
    "        \"\"\" Takes the approximate intersection of \n",
    "            this and other, returning a new filter \n",
    "            approximating the membership of the \n",
    "            intersection of the set approximated \n",
    "            by self and the set approximated by other.\n",
    "            \n",
    "            The upper bound on the false positive rate \n",
    "            of the resulting filter is the greater of \n",
    "            the false positive rates of self and other \n",
    "            (but the FPR may be worse than the FPR of \n",
    "            a Bloom filter constructed only from the \n",
    "            values in the intersection of the sets \n",
    "            approximated by self and other). \"\"\"\n",
    "        \n",
    "        b = Bloom(self.size(), self.__hashes)\n",
    "        b.__buckets.merge_from(self.__buckets)\n",
    "        b.__buckets.intersect_from(other.__buckets)\n",
    "        return b\n",
    "    \n",
    "    def union(self, other):\n",
    "        \"\"\" Generates a Bloom filter approximating the \n",
    "            membership of the union of the set approximated\n",
    "            by self and the set approximated by other.\n",
    "            \n",
    "            Unlike intersect, this does not affect the \n",
    "            precision of the filter (i.e., its precision\n",
    "            will be identical to that of a Bloom filter \n",
    "            built up from the union of the two sets). \"\"\"\n",
    "        \n",
    "        b = Bloom(self.size(), self.__hashes)\n",
    "        b.__buckets.merge_from(self.__buckets)\n",
    "        b.__buckets.merge_from(other.__buckets)\n",
    "        return b\n",
    "        \n",
    "    \n",
    "    def dup(self):\n",
    "        b = Bloom(self.size(), self.__hashes)\n",
    "        b.merge_from(self)\n",
    "        return b"
   ]
  },
  {
   "cell_type": "markdown",
   "metadata": {},
   "source": [
    "We can see these in action:"
   ]
  },
  {
   "cell_type": "code",
   "execution_count": null,
   "metadata": {},
   "outputs": [],
   "source": [
    "b1 = Bloom(1024, hashes_for(3, 8))\n",
    "b2 = Bloom(1024, hashes_for(3, 8))\n",
    "\n",
    "b1.insert(\"foo\")\n",
    "b1.insert(\"bar\")\n",
    "b2.insert(\"foo\")\n",
    "b2.insert(\"blah\")\n",
    "\n",
    "b_intersect = b1.intersect(b2)\n",
    "b_intersect.lookup(\"foo\")"
   ]
  },
  {
   "cell_type": "code",
   "execution_count": null,
   "metadata": {},
   "outputs": [],
   "source": [
    "b_intersect.lookup(\"blah\")"
   ]
  },
  {
   "cell_type": "code",
   "execution_count": null,
   "metadata": {},
   "outputs": [],
   "source": [
    "b_union = b1.union(b2) \n",
    "b_union.lookup(\"blah\"), b_union.lookup(\"bar\")"
   ]
  },
  {
   "cell_type": "markdown",
   "metadata": {},
   "source": [
    "## Partitioned Bloom Filters\n",
    "\n",
    "The _partitioned Bloom filter_ simply divides the set of buckets into several partitions (one for each hash function) so that, e.g., a bit in partition 0 can only be set by hash 0, and so on.  A major advantage of the partitioned Bloom filter is that it has a better false positive rate under intersection (see the reference to Jeffrey and Steffan below), which can be better used to identify potential conflicts between very large sets.\n",
    "\n",
    "Because we track the count of hash functions explicitly (in the count of partitions), we can also easily adapt the cardinality estimation technique of [Swamidass and Baldi](http://www.igb.uci.edu/~pfbaldi/publications/journals/2007/ci600526a.pdf)."
   ]
  },
  {
   "cell_type": "code",
   "execution_count": null,
   "metadata": {},
   "outputs": [],
   "source": [
    "class PartitionedBloom(object):\n",
    "    def __init__(self, size, hashes):\n",
    "        \"\"\" Initializes a Bloom filter with the\n",
    "            given per-partition size and a collection \n",
    "            of hashes, which are functions taking \n",
    "            arbitrary values and returning integers.  \n",
    "            The partition count is the number of hashes.\n",
    "            \n",
    "            hashes can be either a function taking \n",
    "            a value and returning a list of results\n",
    "            or a list of functions.  In the latter \n",
    "            case, this constructor will synthesize \n",
    "            the former \"\"\"\n",
    "        if hasattr(hashes, '__call__'):\n",
    "            self.__hashes = hashes\n",
    "            # inspect the tuple returned by the hash function to get a depth\n",
    "            self.__depth = len(hashes(bytes()))\n",
    "        else:\n",
    "            funs = hashes[:]\n",
    "            self.__depth = len(hashes)\n",
    "            def h(value):\n",
    "                return [int(f(value)) for f in funs]\n",
    "            self.__hashes = h\n",
    "        \n",
    "        self.__buckets = BitVector(size * self.__depth)\n",
    "        self.__size = size\n",
    "\n",
    "    \n",
    "    def size(self):\n",
    "        return self.__size\n",
    "    \n",
    "    def partitions(self):\n",
    "        return self.__depth\n",
    "    \n",
    "    def insert(self, value):\n",
    "        \"\"\" Inserts a value into this set \"\"\"\n",
    "        for (p, row) in enumerate(self.__hashes(value)):\n",
    "            self.__buckets[(p * self.__size) + (row % self.__size)] = True\n",
    "    \n",
    "    def lookup(self, value):\n",
    "        \"\"\" Returns true if value may be in this set\n",
    "            (i.e., may return false positives) \"\"\"\n",
    "        for (p, row) in enumerate(self.__hashes(value)):\n",
    "            if not self.__buckets[(p * self.__size) + (row % self.__size)]:\n",
    "                return False\n",
    "        return True\n",
    "    \n",
    "    def merge_from(self, other):\n",
    "        \"\"\" Merges other in to this filter by \n",
    "            taking the bitwise OR of this and \n",
    "            other.  Updates this filter in place. \"\"\"\n",
    "        self.__buckets.merge_from(other.__buckets)\n",
    "    \n",
    "    def intersect(self, other):\n",
    "        \"\"\" Takes the approximate intersection of \n",
    "            this and other, returning a new filter \n",
    "            approximating the membership of the \n",
    "            intersection of the set approximated \n",
    "            by self and the set approximated by other.\n",
    "            \n",
    "            The upper bound on the false positive rate \n",
    "            of the resulting filter is the greater of \n",
    "            the false positive rates of self and other \n",
    "            (but the FPR may be worse than the FPR of \n",
    "            a Bloom filter constructed only from the \n",
    "            values in the intersection of the sets \n",
    "            approximated by self and other). \"\"\"\n",
    "        \n",
    "        b = PartitionedBloom(self.size(), self.__hashes)\n",
    "        b.__buckets.merge_from(self.__buckets)\n",
    "        b.__buckets.intersect_from(other.__buckets)\n",
    "        return b\n",
    "    \n",
    "    def union(self, other):\n",
    "        \"\"\" Generates a Bloom filter approximating the \n",
    "            membership of the union of the set approximated\n",
    "            by self and the set approximated by other.\n",
    "            \n",
    "            Unlike intersect, this does not affect the \n",
    "            precision of the filter (i.e., its precision\n",
    "            will be identical to that of a Bloom filter \n",
    "            built up from the union of the two sets). \"\"\"\n",
    "        \n",
    "        b = PartitionedBloom(self.size(), self.__hashes)\n",
    "        b.__buckets.merge_from(self.__buckets)\n",
    "        b.__buckets.merge_from(other.__buckets)\n",
    "        return b\n",
    "        \n",
    "    \n",
    "    def dup(self):\n",
    "        b = PartitionedBloom(self.size(), self.__hashes)\n",
    "        b.merge_from(self)\n",
    "        return b\n",
    "    \n",
    "    def approx_cardinality(self):\n",
    "        \"\"\" Returns an estimate of the cardinality of\n",
    "            the set modeled by this filter.  Uses\n",
    "            a technique due to Swamidass and Baldi. \"\"\"\n",
    "        from math import log\n",
    "        m, k = self.size() * self.partitions(), self.partitions()\n",
    "        X = self.__buckets.count_set_bits()\n",
    "        print(m, k, X)\n",
    "        return -(m / k) * log(1 - (X / m))\n"
   ]
  },
  {
   "cell_type": "code",
   "execution_count": null,
   "metadata": {},
   "outputs": [],
   "source": [
    "def pbloom_experiment(sample_count, size, hashes, mod1=3, mod2=7, seed=0x15300625):\n",
    "    import random\n",
    "    from collections import namedtuple\n",
    "   \n",
    "    random.seed(seed)\n",
    "    pb1 = PartitionedBloom(size, hashes)\n",
    "    pb2 = PartitionedBloom(size, hashes)\n",
    "    \n",
    "    b1 = Bloom(pb1.size() * pb1.partitions(), hashes)\n",
    "    b2 = Bloom(pb1.size() * pb1.partitions(), hashes)\n",
    "    result = []\n",
    "    pb_fp, b_fp = 0, 0\n",
    "    \n",
    "    count = 0\n",
    "    \n",
    "    for i in range(sample_count):\n",
    "        bits = random.getrandbits(64)\n",
    "        if i % mod1 == 0:\n",
    "            pb1.insert(bits)\n",
    "            b1.insert(bits)\n",
    "        if i % mod2 == 0:\n",
    "            pb2.insert(bits)\n",
    "            b2.insert(bits)\n",
    "            if i % mod1 == 0:\n",
    "                count += 1\n",
    "    \n",
    "    pb = pb1.intersect(pb2)\n",
    "    b = b1.intersect(b2)\n",
    "    \n",
    "    random.seed(seed)\n",
    "    \n",
    "    for i in range(sample_count):\n",
    "        bits = random.getrandbits(64)\n",
    "        if pb.lookup(bits) and ((i % mod1 != 0) or (i % mod2 != 0)):\n",
    "            pb_fp += 1\n",
    "        if b.lookup(bits) and ((i % mod1 != 0) or (i % mod2 != 0)):\n",
    "            b_fp += 1\n",
    "    return (count, b_fp, pb_fp)"
   ]
  },
  {
   "cell_type": "code",
   "execution_count": null,
   "metadata": {},
   "outputs": [],
   "source": [
    "results = []\n",
    "\n",
    "for pwr in range(10, 17):\n",
    "    for count in [1 << pwr, (1 << pwr) + (1 << (pwr - 1))]:\n",
    "        tp, bfp, pbfp = pbloom_experiment(count, 16384, hashes_for(8, 4))\n",
    "        results.append((\"Bloom\", count, bfp / (float(tp) + bfp)))\n",
    "        results.append((\"partitioned Bloom\", count, pbfp / (float(tp) + pbfp)))\n",
    "    \n",
    "df = DataFrame.from_records(results )\n",
    "df.rename(columns={0: \"kind\", 1: \"unique values\", 2: \"FPR\"}, inplace=True)\n",
    "\n",
    "ax = sns.pointplot(\"unique values\", \"FPR\", hue=\"kind\", ci=None, data=df, scatter=True)\n",
    "_ = ax.set(ylabel=\"FPR\")"
   ]
  },
  {
   "cell_type": "markdown",
   "metadata": {},
   "source": [
    "## Applications\n",
    "\n",
    "* The application Bloom used as a case study in [his paper introducing the structure](http://citeseer.ist.psu.edu/viewdoc/summary?doi=10.1.1.20.2080) was a hyphenation program, in which roughly 90% of words could be hyphenated by simple rules but 10% required a dictionary lookup -- and the dictionary was too large to hold in core.  By using a small Bloom filter to record the words that required dictionary lookup, it would be possible possible to dramatically reduce disk accesses without impacting the correctness of the application.\n",
    "* [Bloom join](http://citeseerx.ist.psu.edu/viewdoc/summary?doi=10.1.1.134.5196) is a classic technique to optimize joins in distributed databases.  The result of a join is, logically, the subset of the Cartesian product of two relations that satisfies some predicate (typically an equality relation on a field).  There are many strategies for implementing joins in conventional databases, but these may prove prohibitive in a distributed database, where different relations may reside on different machines.  Bloom join optimizes these joins by allowing local filtering of the relations involved.  For example, consider the SQL statement `SELECT * FROM A, B WHERE A.x = B.x`:  by broadcasting Bloom filters of the sets of values for `x` in both `A` and `B`, it is possible to filter out many tuples that would never appe\n",
    "* Bloom filters are often implemented in hardware, since a range of microarchitectural features can benefit from fast approximate set membership queries.  For one example application, see [Jeffrey and Steffan](http://www.eecg.toronto.edu/~steffan/papers/jeffrey_spaa11.pdf), in which the motivating example involves using Bloom filters to show that two hardware transactions do not interfere before allowing them to commit.  (This technique is not their innovation; rather, the focus of Jeffrey and Steffan's work is to show that _partitioned Bloom filters_ admit a smaller false positive rate for the intersection of Bloom filters, and thus set disjointedness.)"
   ]
  },
  {
   "cell_type": "markdown",
   "metadata": {},
   "source": [
    "# Count-min sketch"
   ]
  },
  {
   "cell_type": "markdown",
   "metadata": {},
   "source": [
    "<img width=\"50%\" style=\"float: left;\" src=\"data:image/svg+xml;base64,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\" />"
   ]
  },
  {
   "cell_type": "code",
   "execution_count": null,
   "metadata": {},
   "outputs": [],
   "source": [
    "class CMS(object):\n",
    "    def __init__(self, width, hashes):\n",
    "        \"\"\" Initializes a Count-min sketch with the\n",
    "            given width and a collection of hashes, \n",
    "            which are functions taking arbitrary \n",
    "            values and returning integers.  The depth\n",
    "            of the sketch structure is taken from the\n",
    "            number of supplied hash functions.\n",
    "            \n",
    "            hashes can be either a function taking \n",
    "            a value and returning a list of results\n",
    "            or a list of functions.  In the latter \n",
    "            case, this constructor will synthesize \n",
    "            the former \"\"\"\n",
    "        self.__width = width\n",
    "        \n",
    "        if hasattr(hashes, '__call__'):\n",
    "            self.__hashes = hashes\n",
    "            # inspect the tuple returned by the hash function to get a depth\n",
    "            self.__depth = len(hashes(bytes()))\n",
    "        else:\n",
    "            funs = hashes[:]\n",
    "            self.__depth = len(hashes)\n",
    "            def h(value):\n",
    "                return [int(f(value)) for f in funs]\n",
    "            self.__hashes = h\n",
    "        \n",
    "        self.__buckets = numpy.zeros((int(width), int(self.__depth)), numpy.uint64)\n",
    "    \n",
    "    \n",
    "    def width(self):\n",
    "        return self.__width\n",
    "    \n",
    "    def depth(self):\n",
    "        return self.__depth\n",
    "    \n",
    "    def insert(self, value):\n",
    "        \"\"\" Inserts a value into this sketch \"\"\"\n",
    "        for (row, col) in enumerate(self.__hashes(value)):\n",
    "            self.__buckets[col % self.__width][row] += 1\n",
    "    \n",
    "    def lookup(self, value):\n",
    "        \"\"\" Returns a biased estimate of number of times value has been inserted in this sketch\"\"\"\n",
    "        return min([self.__buckets[col % self.__width][row] for (row, col) in enumerate(self.__hashes(value))])\n",
    "    \n",
    "    def merge_from(self, other):\n",
    "        \"\"\" Merges other in to this sketch by \n",
    "            adding the counts from each bucket in other\n",
    "            to the corresponding buckets in this\n",
    "            \n",
    "            Updates this. \"\"\"\n",
    "        self.__buckets += other.__buckets\n",
    "    \n",
    "    def merge(self, other):\n",
    "        \"\"\" Creates a new sketch by merging this sketch's\n",
    "            counts with those of another sketch. \"\"\"\n",
    "        \n",
    "        cms = CMS(self.width(), self.__hashes)\n",
    "        cms.__buckets += self.__buckets\n",
    "        cms.__buckets += other.__buckets\n",
    "        return cms\n",
    "    \n",
    "    def inner(self, other):\n",
    "        \"\"\" returns the inner product of self and other, estimating \n",
    "            the equijoin size between the streams modeled by \n",
    "            self and other \"\"\"\n",
    "        r, = numpy.tensordot(self.__buckets, other.__buckets).flat\n",
    "        return r\n",
    "    \n",
    "    def minimum(self, other):\n",
    "        \"\"\" Creates a new sketch by taking the elementwise minimum \n",
    "            of this sketch and another. \"\"\"\n",
    "        cms = CMS(self.width(), self.__hashes)\n",
    "        cms.__buckets = numpy.minimum(self.__buckets, other.__buckets)\n",
    "        return cms\n",
    "\n",
    "    def dup(self):\n",
    "        cms = CMS(self.width(), self.__hashes)\n",
    "        cms.merge_from(self)\n",
    "        return cms"
   ]
  },
  {
   "cell_type": "code",
   "execution_count": null,
   "metadata": {},
   "outputs": [],
   "source": [
    "cms = CMS(16384, hashes_for(3,8))"
   ]
  },
  {
   "cell_type": "code",
   "execution_count": null,
   "metadata": {},
   "outputs": [],
   "source": [
    "cms.lookup(\"foo\")"
   ]
  },
  {
   "cell_type": "code",
   "execution_count": null,
   "metadata": {},
   "outputs": [],
   "source": [
    "cms.insert(\"foo\")\n",
    "cms.lookup(\"foo\")"
   ]
  },
  {
   "cell_type": "markdown",
   "metadata": {},
   "source": [
    "While hash collisions in Bloom filters lead to false positives, hash collisions in count-min sketches lead to overestimating counts.  To see how much this will affect us in practice, we can design an empirical experiment to plot the cumulative distribution of the factors that we've overestimated counts by in sketches of various sizes."
   ]
  },
  {
   "cell_type": "code",
   "execution_count": null,
   "metadata": {},
   "outputs": [],
   "source": [
    "def cms_experiment(sample_count, size, hashes, seed=0x15300625):\n",
    "    import random\n",
    "    from collections import namedtuple\n",
    "   \n",
    "    random.seed(seed)\n",
    "    cms = CMS(size, hashes)\n",
    "    \n",
    "    result = []\n",
    "    total_count = 0\n",
    "    \n",
    "    # update the counts\n",
    "    for i in range(sample_count):\n",
    "        bits = random.getrandbits(64)\n",
    "        if i % 100 == 0:\n",
    "            # every hundredth entry is a heavy hitter\n",
    "            insert_count = (bits % 512) + 1\n",
    "        else:\n",
    "            insert_count = (bits % 8) + 1\n",
    "        \n",
    "        for i in range(insert_count):\n",
    "            cms.insert(bits)\n",
    "    \n",
    "    random.seed(seed)\n",
    "    # look up the bit sequences again\n",
    "    for i in range(sample_count):\n",
    "        bits = random.getrandbits(64)\n",
    "        if i % 100 == 0:\n",
    "            # every hundredth entry is a heavy hitter\n",
    "            expected_count = (bits % 512) + 1\n",
    "        else:\n",
    "            expected_count = (bits % 8) + 1\n",
    "\n",
    "        result.append((int(cms.lookup(bits)), int(expected_count)))\n",
    "    \n",
    "    return result"
   ]
  },
  {
   "cell_type": "code",
   "execution_count": null,
   "metadata": {},
   "outputs": [],
   "source": [
    "results = cms_experiment(1 << 14, 4096, hashes_for(3, 8))\n",
    "df = DataFrame.from_records(results)\n",
    "df.rename(columns={0: \"actual count\", 1: \"expected count\"}, inplace=True)\n",
    "sns.distplot(df[\"actual count\"] / df[\"expected count\"], hist_kws=dict(cumulative=True), kde_kws=dict(cumulative=True))"
   ]
  },
  {
   "cell_type": "markdown",
   "metadata": {},
   "source": [
    "As you can see, about 55% of our counts for this small sketch are overestimated by less than a factor of three, although the worst overestimates are quite large indeed.  Let's try with a larger sketch structure."
   ]
  },
  {
   "cell_type": "code",
   "execution_count": null,
   "metadata": {},
   "outputs": [],
   "source": [
    "results = cms_experiment(1 << 14, 8192, hashes_for(3, 8))\n",
    "df = DataFrame.from_records(results)\n",
    "df.rename(columns={0: \"actual count\", 1: \"expected count\"}, inplace=True)\n",
    "\n",
    "sns.distplot(df[\"actual count\"] / df[\"expected count\"], hist_kws=dict(cumulative=True), kde_kws=dict(cumulative=True))"
   ]
  },
  {
   "cell_type": "markdown",
   "metadata": {},
   "source": [
    "With a larger filter size (columns) *and* more hash functions (rows), we can dramatically reduce the bias."
   ]
  },
  {
   "cell_type": "code",
   "execution_count": null,
   "metadata": {},
   "outputs": [],
   "source": [
    "results = cms_experiment(1 << 14, 8192, hashes_for(8, 5))\n",
    "df = DataFrame.from_records(results)\n",
    "df.rename(columns={0: \"actual count\", 1: \"expected count\"}, inplace=True)\n",
    "\n",
    "sns.distplot(df[\"actual count\"] / df[\"expected count\"], hist_kws=dict(cumulative=True), kde_kws=dict(cumulative=True))"
   ]
  },
  {
   "cell_type": "markdown",
   "metadata": {},
   "source": [
    "## Exercises\n",
    "\n",
    "Here are some exercises to try out if you're interested in extending the count-min sketch:\n",
    "\n",
    "* The count-min sketch is a biased estimator.  Implement a technique to adjust the estimates for expected bias.\n",
    "* When paired with an auxiliary structure like a priority queue, the count-min sketch can be used to track the top-_k_ event types in a stream.  Try implementing a couple of approaches!\n",
    "* Consider how you'd handle negative inserts.  How would you need to change the query code?  What else might change?\n",
    "* The implementation includes a `minimum` method.  What might it be useful for?  What limitations might it have?\n",
    "\n"
   ]
  },
  {
   "cell_type": "markdown",
   "metadata": {
    "collapsed": true
   },
   "source": [
    "# HyperLogLog\n",
    "\n",
    "<img width=\"50%\" style=\"float: left;\" src=\"data:image/png;base64,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\"/>"
   ]
  },
  {
   "cell_type": "markdown",
   "metadata": {},
   "source": [
    "HyperLogLog is the trickiest of these three techniques, so let's start with some intuitions.\n",
    "\n",
    "If we have a source from which we can sample uniformly-distributed _n_-bit integers, we can also see it as a source for drawing _n_ coin flips -- each bit in an integer sampled from the population of uniformly-distributed _n_-bit integers is independent of the others and is equally likely to be true or false.\n",
    "\n",
    "Because each bit is independent and equally likely to be true or false, runs of consecutive bits with the same value become increasingly unlikely with length.  The probability of seeing _n_ consecutive zeros, for example, is $1$ in $2^n$.  Similarly, if the largest number of leading zeros we've seen in a stream of random numbers is _n_, we can estimate that we've seen $2^n$ numbers.\n",
    "\n",
    "To see this in action, let's sample some random numbers and plot the distribution of leading-zero counts.  We'll start with a function to count leading zeros:"
   ]
  },
  {
   "cell_type": "code",
   "execution_count": null,
   "metadata": {},
   "outputs": [],
   "source": [
    "def leading_zeros(bs):\n",
    "    \"\"\" Return the index of the leftmost one in an \n",
    "        integer represented as an array of bytes \"\"\"\n",
    "    first = 0\n",
    "    for b in bs:\n",
    "        if b == 0:\n",
    "            first += 8\n",
    "        else:\n",
    "            for bit in range(7, -1, -1):\n",
    "                if ((1 << bit) & b) > 0:\n",
    "                    return first\n",
    "                else:\n",
    "                    first += 1\n",
    "    return first"
   ]
  },
  {
   "cell_type": "markdown",
   "metadata": {},
   "source": [
    "We'll then generate some 32-bit random integers and plot the distribution of leading-zero counts."
   ]
  },
  {
   "cell_type": "code",
   "execution_count": null,
   "metadata": {},
   "outputs": [],
   "source": [
    "def lz_experiment(ct):\n",
    "    from numpy.random import randint as ri\n",
    "    result = []\n",
    "    for _ in range(ct):\n",
    "        result.append(leading_zeros(bytes([ri(255), ri(255), ri(255), ri(255)])))\n",
    "\n",
    "    return result\n",
    "\n",
    "lz = lz_experiment(4096)\n",
    "\n",
    "sns.distplot(lz, hist_kws=dict(cumulative=True), kde_kws=dict(cumulative=True))"
   ]
  },
  {
   "cell_type": "markdown",
   "metadata": {},
   "source": [
    "As we can see from inspecting the cumulative distribution plot, about 50% of the samples have no leading zeros, about 75% have one or fewer leading zeros, about 87.5% of samples have two or fewer leading zeros, and so on."
   ]
  },
  {
   "cell_type": "code",
   "execution_count": null,
   "metadata": {},
   "outputs": [],
   "source": [
    "from hashlib import sha1\n",
    "import pickle\n",
    "\n",
    "def h64(v):\n",
    "    bvalue = type(v) == bytes and v or pickle.dumps(v)\n",
    "    return int.from_bytes(sha1(bvalue).digest()[:8], 'little')\n",
    "\n",
    "def get_alpha(p):\n",
    "    return {\n",
    "        4: 0.673,\n",
    "        5: 0.697,\n",
    "        6: 0.709,\n",
    "    }.get(p, 0.7213 / (1.0 + 1.079 / (1 << p)))\n",
    "\n",
    "def first_set_bit(i, isize):\n",
    "    return isize - i.bit_length() + 1\n",
    "\n",
    "class HLL(object):\n",
    "    import numpy as np\n",
    "    def __init__(self, p=4):\n",
    "        self.p = min(max(p, 4), 12)\n",
    "        self.m = int(2 ** self.p)\n",
    "        self.alpha = get_alpha(self.p)\n",
    "        self._registers = np.zeros(self.m, np.uint8)\n",
    "        self._zeros = self.m\n",
    "    \n",
    "    def add(self, v):\n",
    "        h = h64(v)\n",
    "        idx = h & (self.m - 1)\n",
    "        h >>= self.p\n",
    "        fsb = first_set_bit(h, 64 - self.p)\n",
    "        if self._zeros > 0 and self._registers[idx] == 0 and fsb > 0:\n",
    "            self._zeros -= 1\n",
    "        self._registers[idx] = max(self._registers[idx], fsb)\n",
    "    \n",
    "    def approx_count(self):\n",
    "        from math import log\n",
    "        from scipy.stats import hmean\n",
    "        \n",
    "        if self._zeros > 0:\n",
    "            # if we have empty registers (and thus probably a small set),\n",
    "            # use a different approximation that will be more precise\n",
    "            return self.m * math.log(float(self.m) / self._zeros)\n",
    "        else:\n",
    "            # return the harmonic mean of 2 to the power of every register, \n",
    "            # scaled by the number of registers\n",
    "            return self.alpha * self.m * hmean(np.power(2.0, self._registers))"
   ]
  },
  {
   "cell_type": "code",
   "execution_count": null,
   "metadata": {},
   "outputs": [],
   "source": [
    "hll = HLL()\n",
    "\n",
    "import random\n",
    "\n",
    "for i in range(20000):\n",
    "    hll.add(random.getrandbits(64).to_bytes(8, \"big\"))\n",
    "\n",
    "hll.approx_count()"
   ]
  },
  {
   "cell_type": "markdown",
   "metadata": {},
   "source": [
    "Like Bloom filters and count-min sketches, HyperLogLog estimates can also be added together so that you can summarize large data sets in parallel.  To combine two HyperLogLog estimates with the same number of registers, simply take the maximum of each pair of registers with the same index.  (As an easy exercise, implement this above and convince yourself that it works the same as using a single estimate for a large stream.)\n",
    "\n",
    "If you're interested in learning more about HyperLogLog, a great place to start is [\"HyperLogLog in Practice:  Algorithmic Engineering of a State of The Art Cardinality Estimation Algorithm\"](https://research.google.com/pubs/pub40671.html).  As an exercise, try implementing some of their techniques to improve the performance of the code above!"
   ]
  },
  {
   "cell_type": "markdown",
   "metadata": {},
   "source": [
    "# Minhash\n",
    "\n",
    "To calculate the similarity of two sets, we can use the [Jaccard index](https://en.wikipedia.org/wiki/Jaccard_index), which divides the size of the sets' intersection by the size of their union.  As with the other problems we've discussed so far, keeping explicit representations of sets around is intractable for very large sets, but it is also intractable if we have very many sets, for example, if we're building a search engine.  We would like a way to construct _signatures_ of sets in such a way that we can calculate their approximate similarity.\n",
    "\n",
    "Minhash is a technique for constructing signatures of sets that will allow us to estimate their approximate similarity.  Here's the basic technique, which tracks document signatures by keeping track of the _minimum_ value seen for multiple hash functions across every element in the set."
   ]
  },
  {
   "cell_type": "code",
   "execution_count": null,
   "metadata": {},
   "outputs": [],
   "source": [
    "from sklearn.utils.murmurhash import murmurhash3_bytes_u32 as mhash\n",
    "\n",
    "def murmurmaker(seed):\n",
    "    \"\"\" \n",
    "    return a function to calculate a 32-bit murmurhash of v \n",
    "    (an object or bytes), using the given seed\n",
    "    \"\"\"\n",
    "    def m(v):\n",
    "        bvalue = type(v) == bytes and v or pickle.dumps(v)\n",
    "        return mhash(bvalue, seed=seed)\n",
    "    \n",
    "    return m\n",
    "\n",
    "class SimpleMinhash(object):\n",
    "    \"\"\" This is a very basic implementation of minhash \"\"\"\n",
    "    def __init__(self, hashes):\n",
    "        rng = numpy.random.RandomState(seed=int.from_bytes(b\"rad!\", \"big\"))\n",
    "        self.buckets = numpy.full(hashes, (1 << 32) - 1)\n",
    "        self.hashes = [murmurmaker(seed) for seed in rng.randint(0, (1<<32) - 1, hashes)]\n",
    "    \n",
    "    def add(self, obj):\n",
    "        self.buckets = numpy.minimum(self.buckets, [h(obj) for h in self.hashes])\n",
    "    \n",
    "    def similarity(self, other):\n",
    "        \"\"\"  \"\"\"\n",
    "        return numpy.count_nonzero(self.buckets==other.buckets) / float(len(self.buckets))\n",
    "    \n",
    "    def merge(self, other):\n",
    "        \"\"\" returns a newly-allocated minhash structure containing \n",
    "            the merge of this hash and another \"\"\"\n",
    "        result = SimpleMinhash(0)\n",
    "        result.buckets = numpy.minimum(self.buckets, other.buckets)\n",
    "        result.hashes = self.hashes\n",
    "        return result"
   ]
  },
  {
   "cell_type": "markdown",
   "metadata": {},
   "source": [
    "We can test a small Minhash with random values to see how well the approximate Jaccard index implementation works."
   ]
  },
  {
   "cell_type": "code",
   "execution_count": null,
   "metadata": {},
   "outputs": [],
   "source": [
    "def test_minhash(count=50000, expected_percentage=.20):\n",
    "    m1 = SimpleMinhash(1024)\n",
    "    m2 = SimpleMinhash(1024)\n",
    "    for i in range(count):\n",
    "        bits = random.getrandbits(64).to_bytes(8, \"big\")\n",
    "        if i % 1000 < (1000 * expected_percentage):\n",
    "            m1.add(bits)\n",
    "            m2.add(bits)\n",
    "        elif i % 2 == 0:\n",
    "            m1.add(bits)\n",
    "        else:\n",
    "            m2.add(bits)\n",
    "    return m1.similarity(m2)"
   ]
  },
  {
   "cell_type": "code",
   "execution_count": null,
   "metadata": {},
   "outputs": [],
   "source": [
    "test_minhash()"
   ]
  },
  {
   "cell_type": "markdown",
   "metadata": {},
   "source": [
    "A very common application for these kinds of document signatures is identifying similar documents based on the words that they contain -- this is useful, e.g., for detecting plagiarized prose or grouping similar web pages or news articles together.  Unfortunately, even having an efficient way to calculate pairwise similarities is insufficient for this application:  it doesn't matter how cheap it is to do a pairwise comparison if we have to compare every pair in a large document collection!  We can use _locality-sensitive hashing_ to quickly identify similar documents without explicit pairwise comparisons.  The basic idea is that we'll return a set of keys, each corresponding to the hash of a subset of the signature."
   ]
  },
  {
   "cell_type": "code",
   "execution_count": null,
   "metadata": {},
   "outputs": [],
   "source": [
    "class LSHMinhash(object):\n",
    "    \"\"\" This is a very basic implementation of minhash with locality-sensitive hashing \"\"\"\n",
    "    def __init__(self, rows, bands):\n",
    "        rng = numpy.random.RandomState(seed=int.from_bytes(b\"rad!\", \"big\"))\n",
    "        hashes = rows * bands\n",
    "        self.rows = rows\n",
    "        self.bands = bands\n",
    "        self.buckets = numpy.full(hashes, (1 << 32) - 1)\n",
    "        self.hashes = [murmurmaker(seed) for seed in rng.randint(0, (1<<32) - 1, hashes)]\n",
    "    \n",
    "    def add(self, obj):\n",
    "        self.buckets = numpy.minimum(self.buckets, [h(obj) for h in self.hashes])\n",
    "    \n",
    "    def similarity(self, other):\n",
    "        \"\"\"  \"\"\"\n",
    "        return numpy.count_nonzero(self.buckets==other.buckets) / float(len(self.buckets))\n",
    "    \n",
    "    def merge(self, other):\n",
    "        \"\"\" returns a newly-allocated minhash structure containing \n",
    "            the merge of this hash and another \"\"\"\n",
    "        result = SimpleMinhash(0)\n",
    "        result.buckets = numpy.minimum(self.buckets, other.buckets)\n",
    "        result.hashes = self.hashes\n",
    "        return result\n",
    "    \n",
    "    def lsh_keys(self):\n",
    "        return [self.hashes[0]([b for b in band]) for band in self.buckets.copy().reshape((self.rows, self.bands))]"
   ]
  },
  {
   "cell_type": "code",
   "execution_count": null,
   "metadata": {},
   "outputs": [],
   "source": [
    "def test_lsh_minhash(count=50000, expected_percentage=.20):\n",
    "    m1 = LSHMinhash(64, 16)\n",
    "    m2 = LSHMinhash(64, 16)\n",
    "    for i in range(count):\n",
    "        bits = random.getrandbits(64).to_bytes(8, \"big\")\n",
    "        if i % 1000 < (1000 * expected_percentage):\n",
    "            m1.add(bits)\n",
    "            m2.add(bits)\n",
    "        elif i % 2 == 0:\n",
    "            m1.add(bits)\n",
    "        else:\n",
    "            m2.add(bits)\n",
    "    return (m1.similarity(m2), m1.lsh_keys(), m2.lsh_keys())"
   ]
  },
  {
   "cell_type": "code",
   "execution_count": null,
   "metadata": {},
   "outputs": [],
   "source": [
    "tup = test_lsh_minhash(expected_percentage=.95)"
   ]
  },
  {
   "cell_type": "markdown",
   "metadata": {},
   "source": [
    "We can then group cells by keys (or even by parts of their keys) to identify candidate matches, which lets us only check a subset of all potential matches for similarity:"
   ]
  },
  {
   "cell_type": "code",
   "execution_count": null,
   "metadata": {},
   "outputs": [],
   "source": [
    "for t in zip(tup[1], tup[2]):\n",
    "    if t[0] == t[1]:\n",
    "        print(t)"
   ]
  },
  {
   "cell_type": "markdown",
   "metadata": {},
   "source": [
    "To learn more about Minhash, locality-sensitive hashing, and similar techniques, see [Chapter 3](http://infolab.stanford.edu/~ullman/mmds/ch3.pdf) of [_Mining of Massive Datasets_](http://infolab.stanford.edu/~ullman/mmds/book.pdf) by Leskovec, Rajaraman, and Ullman."
   ]
  }
 ],
 "metadata": {
  "kernelspec": {
   "display_name": "Python 3.6",
   "language": "python",
   "name": "jupyter"
  },
  "language_info": {
   "codemirror_mode": {
    "name": "ipython",
    "version": 3
   },
   "file_extension": ".py",
   "mimetype": "text/x-python",
   "name": "python",
   "nbconvert_exporter": "python",
   "pygments_lexer": "ipython3",
   "version": "3.6.5"
  }
 },
 "nbformat": 4,
 "nbformat_minor": 2
}
