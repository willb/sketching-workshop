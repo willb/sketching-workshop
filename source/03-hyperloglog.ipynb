{
 "cells": [
  {
   "cell_type": "markdown",
   "metadata": {
    "collapsed": true
   },
   "source": [
    "# HyperLogLog\n",
    "\n",
    "<img width=\"50%\" style=\"float: left;\" src=\"data:image/png;base64,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\"/>"
   ]
  },
  {
   "cell_type": "markdown",
   "metadata": {},
   "source": [
    "HyperLogLog is trickier to understand than Bloom filters or count-min sketch, so let's start with some intuitions.\n",
    "\n",
    "If we have a source from which we can sample uniformly-distributed _n_-bit integers, we can also see it as a source for drawing _n_ coin flips -- each bit in an integer sampled from the population of uniformly-distributed _n_-bit integers is independent of the others and is equally likely to be true or false.\n",
    "\n",
    "Because each bit is independent and equally likely to be true or false, runs of consecutive bits with the same value become increasingly unlikely with length.  The probability of seeing _n_ consecutive zeros, for example, is $1$ in $2^n$.  Similarly, if the largest number of leading zeros we've seen in a stream of random numbers is _n_, we can estimate that we've seen $2^n$ numbers.\n",
    "\n",
    "To see this in action, let's sample some random numbers and plot the distribution of leading-zero counts.  We'll start by importing the libraries we need (`numpy` and plotting support):\n",
    "\n",
    "\n",
    "\n",
    "We'll start with a function to count leading zeros:"
   ]
  },
  {
   "cell_type": "code",
   "execution_count": null,
   "metadata": {},
   "outputs": [],
   "source": [
    "import numpy as np\n",
    "import seaborn as sns\n",
    "from matplotlib import pyplot as plt"
   ]
  },
  {
   "cell_type": "code",
   "execution_count": null,
   "metadata": {},
   "outputs": [],
   "source": [
    "def leading_zeros(bs):\n",
    "    \"\"\" Return the index of the leftmost one in an \n",
    "        integer represented as an array of bytes \"\"\"\n",
    "    first = 0\n",
    "    for b in bs:\n",
    "        if b == 0:\n",
    "            first += 8\n",
    "        else:\n",
    "            for bit in range(7, -1, -1):\n",
    "                if ((1 << bit) & b) > 0:\n",
    "                    return first\n",
    "                else:\n",
    "                    first += 1\n",
    "    return first"
   ]
  },
  {
   "cell_type": "markdown",
   "metadata": {},
   "source": [
    "We'll then generate some 32-bit random integers and plot the distribution of leading-zero counts."
   ]
  },
  {
   "cell_type": "code",
   "execution_count": null,
   "metadata": {},
   "outputs": [],
   "source": [
    "def lz_experiment(ct):\n",
    "    from numpy.random import randint as ri\n",
    "    result = []\n",
    "    for _ in range(ct):\n",
    "        result.append(leading_zeros(bytes([ri(255), ri(255), ri(255), ri(255)])))\n",
    "\n",
    "    return result\n",
    "\n",
    "lz = lz_experiment(4096)\n",
    "\n",
    "sns.distplot(lz, hist_kws=dict(cumulative=True), kde_kws=dict(cumulative=True))"
   ]
  },
  {
   "cell_type": "markdown",
   "metadata": {},
   "source": [
    "As we can see from inspecting the cumulative distribution plot, about 50% of the samples have no leading zeros, about 75% have one or fewer leading zeros, about 87.5% of samples have two or fewer leading zeros, and so on."
   ]
  },
  {
   "cell_type": "code",
   "execution_count": null,
   "metadata": {},
   "outputs": [],
   "source": [
    "from hashlib import sha1\n",
    "import pickle\n",
    "\n",
    "def h64(v):\n",
    "    bvalue = type(v) == bytes and v or pickle.dumps(v)\n",
    "    return int.from_bytes(sha1(bvalue).digest()[:8], 'little')\n",
    "\n",
    "def get_alpha(p):\n",
    "    return {\n",
    "        4: 0.673,\n",
    "        5: 0.697,\n",
    "        6: 0.709,\n",
    "    }.get(p, 0.7213 / (1.0 + 1.079 / (1 << p)))\n",
    "\n",
    "def first_set_bit(i, isize):\n",
    "    return isize - i.bit_length() + 1\n",
    "\n",
    "class HLL(object):\n",
    "    def __init__(self, p=4):\n",
    "        self.p = min(max(p, 4), 12)\n",
    "        self.m = int(2 ** self.p)\n",
    "        self.alpha = get_alpha(self.p)\n",
    "        self._registers = np.zeros(self.m, np.uint8)\n",
    "        self._zeros = self.m\n",
    "    \n",
    "    def add(self, v):\n",
    "        h = h64(v)\n",
    "        idx = h & (self.m - 1)\n",
    "        h >>= self.p\n",
    "        fsb = first_set_bit(h, 64 - self.p)\n",
    "        if self._zeros > 0 and self._registers[idx] == 0 and fsb > 0:\n",
    "            self._zeros -= 1\n",
    "        self._registers[idx] = max(self._registers[idx], fsb)\n",
    "    \n",
    "    def approx_count(self):\n",
    "        from math import log\n",
    "        from scipy.stats import hmean\n",
    "        \n",
    "        if self._zeros > 0:\n",
    "            # if we have empty registers (and thus probably a small set),\n",
    "            # use a different approximation that will be more precise\n",
    "            return self.m * math.log(float(self.m) / self._zeros)\n",
    "        else:\n",
    "            # return the harmonic mean of 2 to the power of every register, \n",
    "            # scaled by the number of registers\n",
    "            return self.alpha * self.m * hmean(np.power(2.0, self._registers))"
   ]
  },
  {
   "cell_type": "code",
   "execution_count": null,
   "metadata": {},
   "outputs": [],
   "source": [
    "hll = HLL()\n",
    "\n",
    "import random\n",
    "\n",
    "for i in range(20000):\n",
    "    hll.add(random.getrandbits(64).to_bytes(8, \"big\"))\n",
    "\n",
    "hll.approx_count()"
   ]
  },
  {
   "cell_type": "markdown",
   "metadata": {},
   "source": [
    "Like Bloom filters and count-min sketches, HyperLogLog estimates can also be added together so that you can summarize large data sets in parallel.  To combine two HyperLogLog estimates with the same number of registers, simply take the maximum of each pair of registers with the same index.  (As an easy exercise, implement this above and convince yourself that it works the same as using a single estimate for a large stream.)\n",
    "\n",
    "If you're interested in learning more about HyperLogLog, a great place to start is [\"HyperLogLog in Practice:  Algorithmic Engineering of a State of The Art Cardinality Estimation Algorithm\"](https://research.google.com/pubs/pub40671.html).  As an exercise, try implementing some of their techniques to improve the performance of the code above!"
   ]
  }
 ],
 "metadata": {
  "kernelspec": {
   "display_name": "Python 3.6",
   "language": "python",
   "name": "jupyter"
  },
  "language_info": {
   "codemirror_mode": {
    "name": "ipython",
    "version": 3
   },
   "file_extension": ".py",
   "mimetype": "text/x-python",
   "name": "python",
   "nbconvert_exporter": "python",
   "pygments_lexer": "ipython3",
   "version": "3.6.5"
  }
 },
 "nbformat": 4,
 "nbformat_minor": 2
}
