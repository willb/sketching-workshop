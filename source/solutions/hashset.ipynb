{
 "cells": [
  {
   "cell_type": "code",
   "execution_count": 15,
   "metadata": {},
   "outputs": [],
   "source": [
    "class HashSet(object):\n",
    "    def __init__(self, sz=256):\n",
    "        \n",
    "        # initialize elements to empty lists\n",
    "        self.items = [[] for _ in range(sz)]\n",
    "        self.size = sz\n",
    "    \n",
    "    \n",
    "    def __len__(self):\n",
    "        \"\"\" Returns the number of elements in this set \"\"\"\n",
    "        return sum([len(it) for it in self.items])\n",
    "    \n",
    "    \n",
    "    def __iter__(self):\n",
    "        import itertools\n",
    "        return itertools.chain(*self.items)\n",
    "    \n",
    "        \n",
    "    def index_for(self, item):\n",
    "        \"\"\" Returns the index of the hash bucket for _item_ \"\"\"\n",
    "        return hash(item) % self.size\n",
    "    \n",
    "    \n",
    "    def contains(self, item):\n",
    "        \"\"\" Returns True if this set contains _item_ and False otherwise \"\"\"\n",
    "        for i in self.items[self.index_for(item)]:\n",
    "            if i == item:\n",
    "                return True\n",
    "        \n",
    "        return False\n",
    "    \n",
    "    \n",
    "    def add(self, item):\n",
    "        \"\"\" If _item_ is not already in the set, add it to the appropriate\n",
    "            bucket.  If _item_ is already in the set, do nothing. \"\"\"\n",
    "        \n",
    "        if not self.contains(item):\n",
    "            self.items[self.index_for(item)].append(item)\n",
    "    \n",
    "    \n",
    "    def intersection(self, other):\n",
    "        \"\"\" Returns a new set containing all the items that are members of \n",
    "            both this set and _other_ \"\"\"\n",
    "        result = HashSet()\n",
    "        \n",
    "        # save a bit of time by looping over the elements in \n",
    "        # the smaller set, since the intersection will not be \n",
    "        # a superset of the elements in the smaller set\n",
    "        \n",
    "        if len(self) >= len(other):\n",
    "            smaller = other\n",
    "            larger = self\n",
    "        else:\n",
    "            smaller = self\n",
    "            larger = other\n",
    "        \n",
    "        for i in smaller:\n",
    "            if larger.contains(i):\n",
    "                result.add(i)\n",
    "        \n",
    "        return result\n",
    "    \n",
    "    \n",
    "    def union(self, other):\n",
    "        \"\"\" Returns a new set containing all the items that are members of \n",
    "            either this set or _other_ \"\"\"\n",
    "        result = HashSet()\n",
    "        \n",
    "        for i in self:\n",
    "            result.add(i)\n",
    "            \n",
    "        for i in other:\n",
    "            result.add(i)\n",
    "        \n",
    "        return result\n",
    "\n"
   ]
  },
  {
   "cell_type": "markdown",
   "metadata": {},
   "source": [
    "# Tests"
   ]
  },
  {
   "cell_type": "code",
   "execution_count": 16,
   "metadata": {},
   "outputs": [
    {
     "name": "stdout",
     "output_type": "stream",
     "text": [
      "a 1 ['a'] False True\n",
      "b 2 ['a', 'b'] False True\n",
      "c 3 ['a', 'b', 'c'] False True\n",
      "d 4 ['a', 'b', 'c', 'd'] False True\n",
      "e 5 ['a', 'b', 'c', 'd', 'e'] False True\n",
      "a 5 ['a', 'b', 'c', 'd', 'e'] True True\n",
      "b 5 ['a', 'b', 'c', 'd', 'e'] True True\n",
      "f 6 ['a', 'b', 'c', 'd', 'e', 'f'] False True\n"
     ]
    }
   ],
   "source": [
    "test1 = HashSet()\n",
    "for item in [\"a\", \"b\", \"c\", \"d\", \"e\", \"a\", \"b\", \"f\"]:\n",
    "    pre_insert = test1.contains(item)\n",
    "    test1.add(item)\n",
    "    post_insert = test1.contains(item)\n",
    "    print(item, len(test1), list(sorted(test1)), pre_insert, post_insert)"
   ]
  },
  {
   "cell_type": "code",
   "execution_count": 20,
   "metadata": {},
   "outputs": [
    {
     "ename": "NameError",
     "evalue": "name 'sorted_iter' is not defined",
     "output_type": "error",
     "traceback": [
      "\u001b[0;31m---------------------------------------------------------------------------\u001b[0m",
      "\u001b[0;31mNameError\u001b[0m                                 Traceback (most recent call last)",
      "\u001b[0;32m<ipython-input-20-388601e26a0c>\u001b[0m in \u001b[0;36m<module>\u001b[0;34m\u001b[0m\n\u001b[0;32m----> 1\u001b[0;31m \u001b[0mhelp\u001b[0m\u001b[0;34m(\u001b[0m\u001b[0msorted_iter\u001b[0m\u001b[0;34m)\u001b[0m\u001b[0;34m\u001b[0m\u001b[0m\n\u001b[0m",
      "\u001b[0;31mNameError\u001b[0m: name 'sorted_iter' is not defined"
     ]
    }
   ],
   "source": [
    "help(sorted_iter)"
   ]
  },
  {
   "cell_type": "code",
   "execution_count": 24,
   "metadata": {},
   "outputs": [
    {
     "data": {
      "text/plain": [
       "['a', 'b', 'c', 'd', 'e', 'f']"
      ]
     },
     "execution_count": 24,
     "metadata": {},
     "output_type": "execute_result"
    }
   ],
   "source": [
    "list(iter(sorted(test1)))"
   ]
  },
  {
   "cell_type": "code",
   "execution_count": 23,
   "metadata": {},
   "outputs": [
    {
     "data": {
      "text/plain": [
       "<function iter>"
      ]
     },
     "execution_count": 23,
     "metadata": {},
     "output_type": "execute_result"
    }
   ],
   "source": [
    "iter\n"
   ]
  },
  {
   "cell_type": "code",
   "execution_count": null,
   "metadata": {},
   "outputs": [],
   "source": []
  }
 ],
 "metadata": {
  "kernelspec": {
   "display_name": "Python 3.6",
   "language": "python",
   "name": "jupyter"
  },
  "language_info": {
   "codemirror_mode": {
    "name": "ipython",
    "version": 3
   },
   "file_extension": ".py",
   "mimetype": "text/x-python",
   "name": "python",
   "nbconvert_exporter": "python",
   "pygments_lexer": "ipython3",
   "version": "3.6.5"
  }
 },
 "nbformat": 4,
 "nbformat_minor": 2
}
