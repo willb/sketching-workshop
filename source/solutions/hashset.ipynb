{
 "cells": [
  {
   "cell_type": "code",
   "execution_count": 1,
   "metadata": {},
   "outputs": [],
   "source": [
    "class HashSet(object):\n",
    "    def __init__(self, sz=256):\n",
    "        \n",
    "        # initialize elements to empty lists\n",
    "        self.items = [[] for _ in range(sz)]\n",
    "        self.size = sz\n",
    "    \n",
    "    \n",
    "    def __len__(self):\n",
    "        \"\"\" Returns the number of elements in this set \"\"\"\n",
    "        return sum([len(it) for it in self.items])\n",
    "    \n",
    "    \n",
    "    def __iter__(self):\n",
    "        import itertools\n",
    "        return itertools.chain(*self.items)\n",
    "    \n",
    "        \n",
    "    def index_for(self, item):\n",
    "        \"\"\" Returns the index of the hash bucket for _item_ \"\"\"\n",
    "        return hash(item) % self.size\n",
    "    \n",
    "    \n",
    "    def contains(self, item):\n",
    "        \"\"\" Returns True if this set contains _item_ and False otherwise \"\"\"\n",
    "        for i in self.items[self.index_for(item)]:\n",
    "            if i == item:\n",
    "                return True\n",
    "        \n",
    "        return False\n",
    "    \n",
    "    \n",
    "    def add(self, item):\n",
    "        \"\"\" If _item_ is not already in the set, add it to the appropriate\n",
    "            bucket.  If _item_ is already in the set, do nothing. \"\"\"\n",
    "        \n",
    "        if not self.contains(item):\n",
    "            self.items[self.index_for(item)].append(item)\n",
    "    \n",
    "    \n",
    "    def add_all(self, items):\n",
    "        for item in items:\n",
    "            self.add(item)\n",
    "\n",
    "\n",
    "    def intersection(self, other):\n",
    "        \"\"\" Returns a new set containing all the items that are members of \n",
    "            both this set and _other_ \"\"\"\n",
    "        result = HashSet()\n",
    "        \n",
    "        # save a bit of time by looping over the elements in \n",
    "        # the smaller set, since the intersection will not be \n",
    "        # a superset of the elements in the smaller set\n",
    "        \n",
    "        if len(self) >= len(other):\n",
    "            smaller = other\n",
    "            larger = self\n",
    "        else:\n",
    "            smaller = self\n",
    "            larger = other\n",
    "        \n",
    "        for i in smaller:\n",
    "            if larger.contains(i):\n",
    "                result.add(i)\n",
    "        \n",
    "        return result\n",
    "    \n",
    "    \n",
    "    def union(self, other):\n",
    "        \"\"\" Returns a new set containing all the items that are members of \n",
    "            either this set or _other_ \"\"\"\n",
    "        result = HashSet()\n",
    "        \n",
    "        for i in self:\n",
    "            result.add(i)\n",
    "            \n",
    "        for i in other:\n",
    "            result.add(i)\n",
    "        \n",
    "        return result\n",
    "\n"
   ]
  },
  {
   "cell_type": "markdown",
   "metadata": {},
   "source": [
    "# Tests"
   ]
  },
  {
   "cell_type": "code",
   "execution_count": 2,
   "metadata": {},
   "outputs": [
    {
     "name": "stdout",
     "output_type": "stream",
     "text": [
      "a 1 ['a'] False True\n",
      "b 2 ['a', 'b'] False True\n",
      "c 3 ['a', 'b', 'c'] False True\n",
      "d 4 ['a', 'b', 'c', 'd'] False True\n",
      "e 5 ['a', 'b', 'c', 'd', 'e'] False True\n",
      "a 5 ['a', 'b', 'c', 'd', 'e'] True True\n",
      "b 5 ['a', 'b', 'c', 'd', 'e'] True True\n",
      "f 6 ['a', 'b', 'c', 'd', 'e', 'f'] False True\n"
     ]
    }
   ],
   "source": [
    "test1 = HashSet()\n",
    "for item in [\"a\", \"b\", \"c\", \"d\", \"e\", \"a\", \"b\", \"f\"]:\n",
    "    pre_insert = test1.contains(item)\n",
    "    test1.add(item)\n",
    "    post_insert = test1.contains(item)\n",
    "    print(item, len(test1), sorted(test1), pre_insert, post_insert)"
   ]
  },
  {
   "cell_type": "markdown",
   "metadata": {},
   "source": [
    "We expect the previous cell to print out\n",
    "```\n",
    "a 1 ['a'] False True\n",
    "b 2 ['a', 'b'] False True\n",
    "c 3 ['a', 'b', 'c'] False True\n",
    "d 4 ['a', 'b', 'c', 'd'] False True\n",
    "e 5 ['a', 'b', 'c', 'd', 'e'] False True\n",
    "a 5 ['a', 'b', 'c', 'd', 'e'] True True\n",
    "b 5 ['a', 'b', 'c', 'd', 'e'] True True\n",
    "f 6 ['a', 'b', 'c', 'd', 'e', 'f'] False True```\n",
    "\n",
    "Once we're confident that adding an element to a set works, we can also run some tests to ensure that intersection and union work the way we'd expect.  For these tests, we'll check to make sure that our set works the same way as Python's built-in `set` type for given inputs."
   ]
  },
  {
   "cell_type": "code",
   "execution_count": 3,
   "metadata": {},
   "outputs": [
    {
     "name": "stdout",
     "output_type": "stream",
     "text": [
      "finished tests with 0 failures\n"
     ]
    }
   ],
   "source": [
    "from itertools import combinations\n",
    "\n",
    "failures = 0\n",
    "\n",
    "for t in combinations(combinations(['a', 'b', 'c', 'd', 'e', 'f', 'g', 'h'], 4), 2):\n",
    "    left = HashSet()\n",
    "    right = HashSet()\n",
    "    \n",
    "    left.add_all(t[0])\n",
    "    right.add_all(t[1])\n",
    "\n",
    "    lr = (repr(sorted(left)), repr(sorted(right)))\n",
    "\n",
    "    if sorted(left.union(right)) != sorted(right.union(left)):\n",
    "        failures += 1\n",
    "        print(\"uh oh, union isn't commutative for %s and %s\" % lr)\n",
    "\n",
    "    if sorted(left.intersection(right)) != sorted(right.intersection(left)):\n",
    "        failures += 1\n",
    "        print(\"uh oh, intersection isn't commutative for %s and %s\" % lr)\n",
    "\n",
    "    if sorted(left.union(right)) != sorted(set(t[0]).union(set(t[1]))):\n",
    "        failures += 1\n",
    "        print(\"union wasn't what we expected for %s and %s\" % lr)\n",
    "\n",
    "    if sorted(left.intersection(right)) != sorted(set(t[0]).intersection(set(t[1]))):\n",
    "        failures += 1\n",
    "        print(\"intersection wasn't what we expected for %s and %s\" % lr)\n",
    "        \n",
    "print(\"finished tests with %d failures\" % failures)"
   ]
  },
  {
   "cell_type": "markdown",
   "metadata": {},
   "source": [
    "Our last test checks that we handle hash collisions appropriately."
   ]
  },
  {
   "cell_type": "code",
   "execution_count": 4,
   "metadata": {},
   "outputs": [],
   "source": [
    "hs = HashSet()\n",
    "\n",
    "for i in range(1024):\n",
    "    if len(hs) != i:\n",
    "        print(\"len(hs) was %d; expected %d\" % (len(hs), i))\n",
    "    hs.add(i)"
   ]
  },
  {
   "cell_type": "markdown",
   "metadata": {},
   "source": [
    "Precise sets must use space proportional to the number of elements in the set.  In our implementation, we handle collisions by appending an entry to a list.  This has a performance impact as the number of elements in the hash table continues to grow beyond the number of buckets, since we're no longer looking up an entry in an array keyed by a hash value (which takes *constant time*); we're now looking up an entry in a list (which takes time proportional to the number of elements in the list).\n",
    "\n",
    "To see this performance impact, let's plot the average time it takes to do one insert and a corresponding lookup as the number of elements grows."
   ]
  },
  {
   "cell_type": "code",
   "execution_count": 5,
   "metadata": {},
   "outputs": [],
   "source": [
    "from datasketching import plot"
   ]
  },
  {
   "cell_type": "code",
   "execution_count": 6,
   "metadata": {},
   "outputs": [
    {
     "name": "stderr",
     "output_type": "stream",
     "text": [
      "/Users/willb/anaconda/envs/jupyter/lib/python3.6/site-packages/altair/utils/core.py:294: FutureWarning: A future version of pandas will default to `skipna=True`. To silence this warning, pass `skipna=True|False` explicitly.\n",
      "  attrs['type'] = infer_vegalite_type(data[attrs['field']])\n"
     ]
    },
    {
     "data": {
      "application/javascript": [
       "var spec = {\"config\": {\"view\": {\"width\": 400, \"height\": 300}}, \"data\": {\"name\": \"data-2880fb8e971494ff4b4e4d58198c9d9a\"}, \"mark\": \"line\", \"encoding\": {\"x\": {\"type\": \"quantitative\", \"field\": \"elements\", \"scale\": {\"base\": 2, \"type\": \"log\"}}, \"y\": {\"type\": \"quantitative\", \"field\": \"avgtime\"}}, \"selection\": {\"selector001\": {\"type\": \"interval\", \"bind\": \"scales\", \"encodings\": [\"x\", \"y\"]}}, \"$schema\": \"https://vega.github.io/schema/vega-lite/v2.6.0.json\", \"datasets\": {\"data-2880fb8e971494ff4b4e4d58198c9d9a\": [{\"elements\": 64, \"avgtime\": 1.567161755010602}, {\"elements\": 128, \"avgtime\": 1.4014640184859264}, {\"elements\": 256, \"avgtime\": 1.2196640224355064}, {\"elements\": 512, \"avgtime\": 1.3400485627448104}, {\"elements\": 1024, \"avgtime\": 1.4652095302380985}, {\"elements\": 2048, \"avgtime\": 1.5806620388663346}, {\"elements\": 4096, \"avgtime\": 1.7970097655843158}, {\"elements\": 8192, \"avgtime\": 3.039185918189228}, {\"elements\": 16384, \"avgtime\": 4.07871194966584}, {\"elements\": 32768, \"avgtime\": 6.521013498961281}, {\"elements\": 65536, \"avgtime\": 11.127368932125256}, {\"elements\": 131072, \"avgtime\": 23.24137228393308}]}};\n",
       "var opt = {};\n",
       "var type = \"vega-lite\";\n",
       "var id = \"54d4131f-f563-4670-b573-af7f1ab39eb1\";\n",
       "\n",
       "var output_area = this;\n",
       "\n",
       "require([\"nbextensions/jupyter-vega/index\"], function(vega) {\n",
       "  var target = document.createElement(\"div\");\n",
       "  target.id = id;\n",
       "  target.className = \"vega-embed\";\n",
       "\n",
       "  var style = document.createElement(\"style\");\n",
       "  style.textContent = [\n",
       "    \".vega-embed .error p {\",\n",
       "    \"  color: firebrick;\",\n",
       "    \"  font-size: 14px;\",\n",
       "    \"}\",\n",
       "  ].join(\"\\\\n\");\n",
       "\n",
       "  // element is a jQuery wrapped DOM element inside the output area\n",
       "  // see http://ipython.readthedocs.io/en/stable/api/generated/\\\n",
       "  // IPython.display.html#IPython.display.Javascript.__init__\n",
       "  element[0].appendChild(target);\n",
       "  element[0].appendChild(style);\n",
       "\n",
       "  vega.render(\"#\" + id, spec, type, opt, output_area);\n",
       "}, function (err) {\n",
       "  if (err.requireType !== \"scripterror\") {\n",
       "    throw(err);\n",
       "  }\n",
       "});\n"
      ],
      "text/plain": [
       "<vega.vegalite.VegaLite at 0x111000048>"
      ]
     },
     "metadata": {
      "jupyter-vega": "#54d4131f-f563-4670-b573-af7f1ab39eb1"
     },
     "output_type": "display_data"
    },
    {
     "data": {
      "image/png": "[encoded data removed]"
     },
     "metadata": {
      "jupyter-vega": "#54d4131f-f563-4670-b573-af7f1ab39eb1"
     },
     "output_type": "display_data"
    },
    {
     "data": {
      "text/plain": []
     },
     "execution_count": 6,
     "metadata": {},
     "output_type": "execute_result"
    }
   ],
   "source": [
    "plot.hash_experiment(HashSet(256), 5, 16)"
   ]
  },
  {
   "cell_type": "code",
   "execution_count": null,
   "metadata": {},
   "outputs": [],
   "source": []
  }
 ],
 "metadata": {
  "kernelspec": {
   "display_name": "Python 3.6",
   "language": "python",
   "name": "jupyter"
  },
  "language_info": {
   "codemirror_mode": {
    "name": "ipython",
    "version": 3
   },
   "file_extension": ".py",
   "mimetype": "text/x-python",
   "name": "python",
   "nbconvert_exporter": "python",
   "pygments_lexer": "ipython3",
   "version": "3.6.5"
  }
 },
 "nbformat": 4,
 "nbformat_minor": 2
}
