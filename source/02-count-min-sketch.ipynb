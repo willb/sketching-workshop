{
 "cells": [
  {
   "cell_type": "markdown",
   "metadata": {},
   "source": [
    "# Count-min sketch"
   ]
  },
  {
   "cell_type": "markdown",
   "metadata": {},
   "source": [
    "<img width=\"50%\" style=\"float: left;\" src=\"data:image/svg+xml;base64,PD94bWwgdmVyc2lvbj0iMS4wIiBlbmNvZGluZz0iVVRGLTgiIHN0YW5kYWxvbmU9Im5vIj8+CjwhRE9DVFlQRSBzdmcgUFVCTElDICItLy9XM0MvL0RURCBTVkcgMS4xLy9FTiIgImh0dHA6Ly93d3cudzMub3JnL0dyYXBoaWNzL1NWRy8xLjEvRFREL3N2ZzExLmR0ZCI+CjxzdmcgeG1sbnM9Imh0dHA6Ly93d3cudzMub3JnLzIwMDAvc3ZnIiB4bWxuczp4bD0iaHR0cDovL3d3dy53My5vcmcvMTk5OS94bGluayIgdmVyc2lvbj0iMS4xIiB2aWV3Qm94PSIxNjYgMzM0IDEzNDggMzI5IiB3aWR0aD0iMTM0OHB0IiBoZWlnaHQ9IjMyOXB0IiB4bWxuczpkYz0iaHR0cDovL3B1cmwub3JnL2RjL2VsZW1lbnRzLzEuMS8iPgogIDxtZXRhZGF0YT4gUHJvZHVjZWQgYnkgT21uaUdyYWZmbGUgNy42IAogICAgPGRjOmRhdGU+MjAxOC0wMS0yNSAwNToyMjoyMCArMDAwMDwvZGM6ZGF0ZT4KICA8L21ldGFkYXRhPgogIDxkZWZzPgogICAgPGZvbnQtZmFjZSBmb250LWZhbWlseT0iT3ZlcnBhc3MgTW9ubyIgZm9udC1zaXplPSIzMiIgcGFub3NlLTE9IjAgMCA1IDkgMCAwIDAgMCAwIDAiIHVuaXRzLXBlci1lbT0iMTAwMCIgdW5kZXJsaW5lLXBvc2l0aW9uPSItMTI1IiB1bmRlcmxpbmUtdGhpY2tuZXNzPSIzOCIgc2xvcGU9IjAiIHgtaGVpZ2h0PSI1MTEiIGNhcC1oZWlnaHQ9IjcwMCIgYXNjZW50PSI5ODIuMDAyIiBkZXNjZW50PSItMjg0LjAwMDU4IiBmb250LXdlaWdodD0iNTAwIj4KICAgICAgPGZvbnQtZmFjZS1zcmM+CiAgICAgICAgPGZvbnQtZmFjZS1uYW1lIG5hbWU9Ik92ZXJwYXNzTW9uby1SZWd1bGFyIi8+CiAgICAgIDwvZm9udC1mYWNlLXNyYz4KICAgIDwvZm9udC1mYWNlPgogICAgPGZvbnQtZmFjZSBmb250LWZhbWlseT0iT3ZlcnBhc3MgTW9ubyIgZm9udC1zaXplPSIzMiIgcGFub3NlLTE9IjAgMCA4IDkgMCAwIDAgMCAwIDAiIHVuaXRzLXBlci1lbT0iMTAwMCIgdW5kZXJsaW5lLXBvc2l0aW9uPSItMTMwIiB1bmRlcmxpbmUtdGhpY2tuZXNzPSI3MyIgc2xvcGU9IjAiIHgtaGVpZ2h0PSI1MTEiIGNhcC1oZWlnaHQ9IjcwMCIgYXNjZW50PSI5ODIuMDAyIiBkZXNjZW50PSItMjg0LjAwMDU4IiBmb250LXdlaWdodD0iYm9sZCI+CiAgICAgIDxmb250LWZhY2Utc3JjPgogICAgICAgIDxmb250LWZhY2UtbmFtZSBuYW1lPSJPdmVycGFzc01vbm8tQm9sZCIvPgogICAgICA8L2ZvbnQtZmFjZS1zcmM+CiAgICA8L2ZvbnQtZmFjZT4KICA8L2RlZnM+CiAgPGcgc3Ryb2tlPSJub25lIiBzdHJva2Utb3BhY2l0eT0iMSIgc3Ryb2tlLWRhc2hhcnJheT0ibm9uZSIgZmlsbD0ibm9uZSIgZmlsbC1vcGFjaXR5PSIxIj4KICAgIDx0aXRsZT5jbXMtbG9va3VwIDA8L3RpdGxlPgogICAgPGc+CiAgICAgIDx0aXRsZT5MYXllciAxPC90aXRsZT4KICAgICAgPHJlY3QgeD0iMTQ1MiIgeT0iMzQ4IiB3aWR0aD0iNjAiIGhlaWdodD0iNjAiIGZpbGw9IndoaXRlIi8+CiAgICAgIDxyZWN0IHg9IjE0NTIiIHk9IjM0OCIgd2lkdGg9IjYwIiBoZWlnaHQ9IjYwIiBzdHJva2U9ImJsYWNrIiBzdHJva2UtbGluZWNhcD0icm91bmQiIHN0cm9rZS1saW5lam9pbj0icm91bmQiIHN0cm9rZS13aWR0aD0iMyIvPgogICAgICA8dGV4dCB0cmFuc2Zvcm09InRyYW5zbGF0ZSgxNDUyLjMgMzYxLjc4OCkiIGZpbGw9ImJsYWNrIj4KICAgICAgICA8dHNwYW4gZm9udC1mYW1pbHk9Ik92ZXJwYXNzIE1vbm8iIGZvbnQtc2l6ZT0iMzIiIGZvbnQtd2VpZ2h0PSI1MDAiIHg9IjkuOTg4IiB5PSIzMSI+MzE8L3RzcGFuPgogICAgICA8L3RleHQ+CiAgICAgIDxyZWN0IHg9IjEzOTIiIHk9IjM0OCIgd2lkdGg9IjYwIiBoZWlnaHQ9IjYwIiBmaWxsPSJ3aGl0ZSIvPgogICAgICA8cmVjdCB4PSIxMzkyIiB5PSIzNDgiIHdpZHRoPSI2MCIgaGVpZ2h0PSI2MCIgc3Ryb2tlPSJibGFjayIgc3Ryb2tlLWxpbmVjYXA9InJvdW5kIiBzdHJva2UtbGluZWpvaW49InJvdW5kIiBzdHJva2Utd2lkdGg9IjMiLz4KICAgICAgPHRleHQgdHJhbnNmb3JtPSJ0cmFuc2xhdGUoMTM5Mi4zIDM2MS43ODgpIiBmaWxsPSJibGFjayI+CiAgICAgICAgPHRzcGFuIGZvbnQtZmFtaWx5PSJPdmVycGFzcyBNb25vIiBmb250LXNpemU9IjMyIiBmb250LXdlaWdodD0iNTAwIiB4PSIxOS44NDQiIHk9IjMxIj4wPC90c3Bhbj4KICAgICAgPC90ZXh0PgogICAgICA8cmVjdCB4PSIxMzMyIiB5PSIzNDgiIHdpZHRoPSI2MCIgaGVpZ2h0PSI2MCIgZmlsbD0id2hpdGUiLz4KICAgICAgPHJlY3QgeD0iMTMzMiIgeT0iMzQ4IiB3aWR0aD0iNjAiIGhlaWdodD0iNjAiIHN0cm9rZT0iYmxhY2siIHN0cm9rZS1saW5lY2FwPSJyb3VuZCIgc3Ryb2tlLWxpbmVqb2luPSJyb3VuZCIgc3Ryb2tlLXdpZHRoPSIzIi8+CiAgICAgIDx0ZXh0IHRyYW5zZm9ybT0idHJhbnNsYXRlKDEzMzIuMyAzNjEuNzg4KSIgZmlsbD0iYmxhY2siPgogICAgICAgIDx0c3BhbiBmb250LWZhbWlseT0iT3ZlcnBhc3MgTW9ubyIgZm9udC1zaXplPSIzMiIgZm9udC13ZWlnaHQ9IjUwMCIgeD0iMTkuODQ0IiB5PSIzMSI+NjwvdHNwYW4+CiAgICAgIDwvdGV4dD4KICAgICAgPHJlY3QgeD0iMTI3MiIgeT0iMzQ4IiB3aWR0aD0iNjAiIGhlaWdodD0iNjAiIGZpbGw9IndoaXRlIi8+CiAgICAgIDxyZWN0IHg9IjEyNzIiIHk9IjM0OCIgd2lkdGg9IjYwIiBoZWlnaHQ9IjYwIiBzdHJva2U9ImJsYWNrIiBzdHJva2UtbGluZWNhcD0icm91bmQiIHN0cm9rZS1saW5lam9pbj0icm91bmQiIHN0cm9rZS13aWR0aD0iMyIvPgogICAgICA8dGV4dCB0cmFuc2Zvcm09InRyYW5zbGF0ZSgxMjcyLjMgMzYxLjc4OCkiIGZpbGw9ImJsYWNrIj4KICAgICAgICA8dHNwYW4gZm9udC1mYW1pbHk9Ik92ZXJwYXNzIE1vbm8iIGZvbnQtc2l6ZT0iMzIiIGZvbnQtd2VpZ2h0PSI1MDAiIHg9IjkuOTg4IiB5PSIzMSI+NDU8L3RzcGFuPgogICAgICA8L3RleHQ+CiAgICAgIDxyZWN0IHg9IjEyMTIiIHk9IjM0OCIgd2lkdGg9IjYwIiBoZWlnaHQ9IjYwIiBmaWxsPSJ3aGl0ZSIvPgogICAgICA8cmVjdCB4PSIxMjEyIiB5PSIzNDgiIHdpZHRoPSI2MCIgaGVpZ2h0PSI2MCIgc3Ryb2tlPSJibGFjayIgc3Ryb2tlLWxpbmVjYXA9InJvdW5kIiBzdHJva2UtbGluZWpvaW49InJvdW5kIiBzdHJva2Utd2lkdGg9IjMiLz4KICAgICAgPHRleHQgdHJhbnNmb3JtPSJ0cmFuc2xhdGUoMTIxMi4zIDM2MS43ODgpIiBmaWxsPSJibGFjayI+CiAgICAgICAgPHRzcGFuIGZvbnQtZmFtaWx5PSJPdmVycGFzcyBNb25vIiBmb250LXNpemU9IjMyIiBmb250LXdlaWdodD0iNTAwIiB4PSIxOS44NDQiIHk9IjMxIj4wPC90c3Bhbj4KICAgICAgPC90ZXh0PgogICAgICA8cmVjdCB4PSIxMTUyIiB5PSIzNDgiIHdpZHRoPSI2MCIgaGVpZ2h0PSI2MCIgZmlsbD0id2hpdGUiLz4KICAgICAgPHJlY3QgeD0iMTE1MiIgeT0iMzQ4IiB3aWR0aD0iNjAiIGhlaWdodD0iNjAiIHN0cm9rZT0iYmxhY2siIHN0cm9rZS1saW5lY2FwPSJyb3VuZCIgc3Ryb2tlLWxpbmVqb2luPSJyb3VuZCIgc3Ryb2tlLXdpZHRoPSIzIi8+CiAgICAgIDx0ZXh0IHRyYW5zZm9ybT0idHJhbnNsYXRlKDExNTIuMyAzNjEuNzg4KSIgZmlsbD0iYmxhY2siPgogICAgICAgIDx0c3BhbiBmb250LWZhbWlseT0iT3ZlcnBhc3MgTW9ubyIgZm9udC1zaXplPSIzMiIgZm9udC13ZWlnaHQ9IjUwMCIgeD0iMTkuODQ0IiB5PSIzMSI+MTwvdHNwYW4+CiAgICAgIDwvdGV4dD4KICAgICAgPHJlY3QgeD0iMTA5MiIgeT0iMzQ4IiB3aWR0aD0iNjAiIGhlaWdodD0iNjAiIGZpbGw9IndoaXRlIi8+CiAgICAgIDxyZWN0IHg9IjEwOTIiIHk9IjM0OCIgd2lkdGg9IjYwIiBoZWlnaHQ9IjYwIiBzdHJva2U9ImJsYWNrIiBzdHJva2UtbGluZWNhcD0icm91bmQiIHN0cm9rZS1saW5lam9pbj0icm91bmQiIHN0cm9rZS13aWR0aD0iMyIvPgogICAgICA8dGV4dCB0cmFuc2Zvcm09InRyYW5zbGF0ZSgxMDkyLjMgMzYxLjc4OCkiIGZpbGw9ImJsYWNrIj4KICAgICAgICA8dHNwYW4gZm9udC1mYW1pbHk9Ik92ZXJwYXNzIE1vbm8iIGZvbnQtc2l6ZT0iMzIiIGZvbnQtd2VpZ2h0PSI1MDAiIHg9IjkuOTg4IiB5PSIzMSI+MzE8L3RzcGFuPgogICAgICA8L3RleHQ+CiAgICAgIDxyZWN0IHg9IjEwMzIiIHk9IjM0OCIgd2lkdGg9IjYwIiBoZWlnaHQ9IjYwIiBmaWxsPSJ3aGl0ZSIvPgogICAgICA8cmVjdCB4PSIxMDMyIiB5PSIzNDgiIHdpZHRoPSI2MCIgaGVpZ2h0PSI2MCIgc3Ryb2tlPSJibGFjayIgc3Ryb2tlLWxpbmVjYXA9InJvdW5kIiBzdHJva2UtbGluZWpvaW49InJvdW5kIiBzdHJva2Utd2lkdGg9IjMiLz4KICAgICAgPHRleHQgdHJhbnNmb3JtPSJ0cmFuc2xhdGUoMTAzMi4zIDM2MS43ODgpIiBmaWxsPSJibGFjayI+CiAgICAgICAgPHRzcGFuIGZvbnQtZmFtaWx5PSJPdmVycGFzcyBNb25vIiBmb250LXNpemU9IjMyIiBmb250LXdlaWdodD0iNTAwIiB4PSI5Ljk4OCIgeT0iMzEiPjQwPC90c3Bhbj4KICAgICAgPC90ZXh0PgogICAgICA8cmVjdCB4PSI5NzIiIHk9IjM0OCIgd2lkdGg9IjYwIiBoZWlnaHQ9IjYwIiBmaWxsPSJ3aGl0ZSIvPgogICAgICA8cmVjdCB4PSI5NzIiIHk9IjM0OCIgd2lkdGg9IjYwIiBoZWlnaHQ9IjYwIiBzdHJva2U9ImJsYWNrIiBzdHJva2UtbGluZWNhcD0icm91bmQiIHN0cm9rZS1saW5lam9pbj0icm91bmQiIHN0cm9rZS13aWR0aD0iMyIvPgogICAgICA8dGV4dCB0cmFuc2Zvcm09InRyYW5zbGF0ZSg5NzIuMyAzNjEuNzg4KSIgZmlsbD0iYmxhY2siPgogICAgICAgIDx0c3BhbiBmb250LWZhbWlseT0iT3ZlcnBhc3MgTW9ubyIgZm9udC1zaXplPSIzMiIgZm9udC13ZWlnaHQ9IjUwMCIgeD0iMTkuODQ0IiB5PSIzMSI+MDwvdHNwYW4+CiAgICAgIDwvdGV4dD4KICAgICAgPHJlY3QgeD0iOTEyIiB5PSIzNDgiIHdpZHRoPSI2MCIgaGVpZ2h0PSI2MCIgZmlsbD0id2hpdGUiLz4KICAgICAgPHJlY3QgeD0iOTEyIiB5PSIzNDgiIHdpZHRoPSI2MCIgaGVpZ2h0PSI2MCIgc3Ryb2tlPSJibGFjayIgc3Ryb2tlLWxpbmVjYXA9InJvdW5kIiBzdHJva2UtbGluZWpvaW49InJvdW5kIiBzdHJva2Utd2lkdGg9IjMiLz4KICAgICAgPHRleHQgdHJhbnNmb3JtPSJ0cmFuc2xhdGUoOTEyLjMgMzYxLjc4OCkiIGZpbGw9ImJsYWNrIj4KICAgICAgICA8dHNwYW4gZm9udC1mYW1pbHk9Ik92ZXJwYXNzIE1vbm8iIGZvbnQtc2l6ZT0iMzIiIGZvbnQtd2VpZ2h0PSI1MDAiIHg9IjkuOTg4IiB5PSIzMSI+MTI8L3RzcGFuPgogICAgICA8L3RleHQ+CiAgICAgIDxyZWN0IHg9Ijg1MiIgeT0iMzQ4IiB3aWR0aD0iNjAiIGhlaWdodD0iNjAiIGZpbGw9IndoaXRlIi8+CiAgICAgIDxyZWN0IHg9Ijg1MiIgeT0iMzQ4IiB3aWR0aD0iNjAiIGhlaWdodD0iNjAiIHN0cm9rZT0iYmxhY2siIHN0cm9rZS1saW5lY2FwPSJyb3VuZCIgc3Ryb2tlLWxpbmVqb2luPSJyb3VuZCIgc3Ryb2tlLXdpZHRoPSIzIi8+CiAgICAgIDx0ZXh0IHRyYW5zZm9ybT0idHJhbnNsYXRlKDg1Mi4zIDM2MS43ODgpIiBmaWxsPSJibGFjayI+CiAgICAgICAgPHRzcGFuIGZvbnQtZmFtaWx5PSJPdmVycGFzcyBNb25vIiBmb250LXNpemU9IjMyIiBmb250LXdlaWdodD0iNTAwIiB4PSI5Ljk4OCIgeT0iMzEiPjU2PC90c3Bhbj4KICAgICAgPC90ZXh0PgogICAgICA8cmVjdCB4PSI3OTIiIHk9IjM0OCIgd2lkdGg9IjYwIiBoZWlnaHQ9IjYwIiBmaWxsPSJ3aGl0ZSIvPgogICAgICA8cmVjdCB4PSI3OTIiIHk9IjM0OCIgd2lkdGg9IjYwIiBoZWlnaHQ9IjYwIiBzdHJva2U9ImJsYWNrIiBzdHJva2UtbGluZWNhcD0icm91bmQiIHN0cm9rZS1saW5lam9pbj0icm91bmQiIHN0cm9rZS13aWR0aD0iMyIvPgogICAgICA8dGV4dCB0cmFuc2Zvcm09InRyYW5zbGF0ZSg3OTIuMyAzNjEuNzg4KSIgZmlsbD0iYmxhY2siPgogICAgICAgIDx0c3BhbiBmb250LWZhbWlseT0iT3ZlcnBhc3MgTW9ubyIgZm9udC1zaXplPSIzMiIgZm9udC13ZWlnaHQ9IjUwMCIgeD0iMTkuODQ0IiB5PSIzMSI+MDwvdHNwYW4+CiAgICAgIDwvdGV4dD4KICAgICAgPHJlY3QgeD0iNzMyIiB5PSIzNDgiIHdpZHRoPSI2MCIgaGVpZ2h0PSI2MCIgZmlsbD0id2hpdGUiLz4KICAgICAgPHJlY3QgeD0iNzMyIiB5PSIzNDgiIHdpZHRoPSI2MCIgaGVpZ2h0PSI2MCIgc3Ryb2tlPSJibGFjayIgc3Ryb2tlLWxpbmVjYXA9InJvdW5kIiBzdHJva2UtbGluZWpvaW49InJvdW5kIiBzdHJva2Utd2lkdGg9IjMiLz4KICAgICAgPHRleHQgdHJhbnNmb3JtPSJ0cmFuc2xhdGUoNzMyLjMgMzYxLjc4OCkiIGZpbGw9ImJsYWNrIj4KICAgICAgICA8dHNwYW4gZm9udC1mYW1pbHk9Ik92ZXJwYXNzIE1vbm8iIGZvbnQtc2l6ZT0iMzIiIGZvbnQtd2VpZ2h0PSI1MDAiIHg9IjkuOTg4IiB5PSIzMSI+MzA8L3RzcGFuPgogICAgICA8L3RleHQ+CiAgICAgIDxyZWN0IHg9IjY3MiIgeT0iMzQ4IiB3aWR0aD0iNjAiIGhlaWdodD0iNjAiIGZpbGw9IndoaXRlIi8+CiAgICAgIDxyZWN0IHg9IjY3MiIgeT0iMzQ4IiB3aWR0aD0iNjAiIGhlaWdodD0iNjAiIHN0cm9rZT0iYmxhY2siIHN0cm9rZS1saW5lY2FwPSJyb3VuZCIgc3Ryb2tlLWxpbmVqb2luPSJyb3VuZCIgc3Ryb2tlLXdpZHRoPSIzIi8+CiAgICAgIDx0ZXh0IHRyYW5zZm9ybT0idHJhbnNsYXRlKDY3Mi4zIDM2MS43ODgpIiBmaWxsPSJibGFjayI+CiAgICAgICAgPHRzcGFuIGZvbnQtZmFtaWx5PSJPdmVycGFzcyBNb25vIiBmb250LXNpemU9IjMyIiBmb250LXdlaWdodD0iNTAwIiB4PSIxOS44NDQiIHk9IjMxIj4wPC90c3Bhbj4KICAgICAgPC90ZXh0PgogICAgICA8cmVjdCB4PSI2MTIiIHk9IjM0OCIgd2lkdGg9IjYwIiBoZWlnaHQ9IjYwIiBmaWxsPSJ3aGl0ZSIvPgogICAgICA8cmVjdCB4PSI2MTIiIHk9IjM0OCIgd2lkdGg9IjYwIiBoZWlnaHQ9IjYwIiBzdHJva2U9ImJsYWNrIiBzdHJva2UtbGluZWNhcD0icm91bmQiIHN0cm9rZS1saW5lam9pbj0icm91bmQiIHN0cm9rZS13aWR0aD0iMyIvPgogICAgICA8dGV4dCB0cmFuc2Zvcm09InRyYW5zbGF0ZSg2MTIuMyAzNjEuNzg4KSIgZmlsbD0iYmxhY2siPgogICAgICAgIDx0c3BhbiBmb250LWZhbWlseT0iT3ZlcnBhc3MgTW9ubyIgZm9udC1zaXplPSIzMiIgZm9udC13ZWlnaHQ9IjUwMCIgeD0iMTkuODQ0IiB5PSIzMSI+NTwvdHNwYW4+CiAgICAgIDwvdGV4dD4KICAgICAgPHJlY3QgeD0iNTUyIiB5PSIzNDgiIHdpZHRoPSI2MCIgaGVpZ2h0PSI2MCIgZmlsbD0id2hpdGUiLz4KICAgICAgPHJlY3QgeD0iNTUyIiB5PSIzNDgiIHdpZHRoPSI2MCIgaGVpZ2h0PSI2MCIgc3Ryb2tlPSJibGFjayIgc3Ryb2tlLWxpbmVjYXA9InJvdW5kIiBzdHJva2UtbGluZWpvaW49InJvdW5kIiBzdHJva2Utd2lkdGg9IjMiLz4KICAgICAgPHRleHQgdHJhbnNmb3JtPSJ0cmFuc2xhdGUoNTUyLjMgMzYxLjc4OCkiIGZpbGw9ImJsYWNrIj4KICAgICAgICA8dHNwYW4gZm9udC1mYW1pbHk9Ik92ZXJwYXNzIE1vbm8iIGZvbnQtc2l6ZT0iMzIiIGZvbnQtd2VpZ2h0PSI1MDAiIHg9IjE5Ljg0NCIgeT0iMzEiPjA8L3RzcGFuPgogICAgICA8L3RleHQ+CiAgICAgIDxyZWN0IHg9IjE2OCIgeT0iMzM2IiB3aWR0aD0iMzAwIiBoZWlnaHQ9IjYwIiBmaWxsPSIjZjViODAwIiBmaWxsLW9wYWNpdHk9Ii41Ii8+CiAgICAgIDxyZWN0IHg9IjE2OCIgeT0iMzM2IiB3aWR0aD0iMzAwIiBoZWlnaHQ9IjYwIiBzdHJva2U9ImJsYWNrIiBzdHJva2UtbGluZWNhcD0icm91bmQiIHN0cm9rZS1saW5lam9pbj0icm91bmQiIHN0cm9rZS13aWR0aD0iMyIvPgogICAgICA8dGV4dCB0cmFuc2Zvcm09InRyYW5zbGF0ZSgxNjkuNSAzNDkuNzg4KSIgZmlsbD0iYmxhY2siPgogICAgICAgIDx0c3BhbiBmb250LWZhbWlseT0iT3ZlcnBhc3MgTW9ubyIgZm9udC1zaXplPSIzMiIgZm9udC13ZWlnaHQ9IjUwMCIgeD0iNTkuNzk2IiB5PSIzMSI+aDEoJnF1b3Q7Zm9vJnF1b3Q7KTwvdHNwYW4+CiAgICAgIDwvdGV4dD4KICAgICAgPHJlY3QgeD0iMTY4IiB5PSI0MDgiIHdpZHRoPSIzMDAiIGhlaWdodD0iNjAiIGZpbGw9IiMwMGI5ZTQiIGZpbGwtb3BhY2l0eT0iLjUiLz4KICAgICAgPHJlY3QgeD0iMTY4IiB5PSI0MDgiIHdpZHRoPSIzMDAiIGhlaWdodD0iNjAiIHN0cm9rZT0iYmxhY2siIHN0cm9rZS1saW5lY2FwPSJyb3VuZCIgc3Ryb2tlLWxpbmVqb2luPSJyb3VuZCIgc3Ryb2tlLXdpZHRoPSIzIi8+CiAgICAgIDx0ZXh0IHRyYW5zZm9ybT0idHJhbnNsYXRlKDE2OS41IDQyMS43ODgpIiBmaWxsPSJibGFjayI+CiAgICAgICAgPHRzcGFuIGZvbnQtZmFtaWx5PSJPdmVycGFzcyBNb25vIiBmb250LXNpemU9IjMyIiBmb250LXdlaWdodD0iNTAwIiB4PSI1OS43OTYiIHk9IjMxIj5oMigmcXVvdDtmb28mcXVvdDspPC90c3Bhbj4KICAgICAgPC90ZXh0PgogICAgICA8cmVjdCB4PSIxNjgiIHk9IjQ4MCIgd2lkdGg9IjMwMCIgaGVpZ2h0PSI2MCIgZmlsbD0iIzliNjg5NyIgZmlsbC1vcGFjaXR5PSIuNSIvPgogICAgICA8cmVjdCB4PSIxNjgiIHk9IjQ4MCIgd2lkdGg9IjMwMCIgaGVpZ2h0PSI2MCIgc3Ryb2tlPSJibGFjayIgc3Ryb2tlLWxpbmVjYXA9InJvdW5kIiBzdHJva2UtbGluZWpvaW49InJvdW5kIiBzdHJva2Utd2lkdGg9IjMiLz4KICAgICAgPHRleHQgdHJhbnNmb3JtPSJ0cmFuc2xhdGUoMTY5LjUgNDkzLjc4OCkiIGZpbGw9ImJsYWNrIj4KICAgICAgICA8dHNwYW4gZm9udC1mYW1pbHk9Ik92ZXJwYXNzIE1vbm8iIGZvbnQtc2l6ZT0iMzIiIGZvbnQtd2VpZ2h0PSI1MDAiIHg9IjU5Ljc5NiIgeT0iMzEiPmgzKCZxdW90O2ZvbyZxdW90Oyk8L3RzcGFuPgogICAgICA8L3RleHQ+CiAgICAgIDxyZWN0IHg9IjE0NTIiIHk9IjQwOCIgd2lkdGg9IjYwIiBoZWlnaHQ9IjYwIiBmaWxsPSJ3aGl0ZSIvPgogICAgICA8cmVjdCB4PSIxNDUyIiB5PSI0MDgiIHdpZHRoPSI2MCIgaGVpZ2h0PSI2MCIgc3Ryb2tlPSJibGFjayIgc3Ryb2tlLWxpbmVjYXA9InJvdW5kIiBzdHJva2UtbGluZWpvaW49InJvdW5kIiBzdHJva2Utd2lkdGg9IjMiLz4KICAgICAgPHRleHQgdHJhbnNmb3JtPSJ0cmFuc2xhdGUoMTQ1Mi4zIDQyMS43ODgpIiBmaWxsPSJibGFjayI+CiAgICAgICAgPHRzcGFuIGZvbnQtZmFtaWx5PSJPdmVycGFzcyBNb25vIiBmb250LXNpemU9IjMyIiBmb250LXdlaWdodD0iNTAwIiB4PSI5Ljk4OCIgeT0iMzEiPjU0PC90c3Bhbj4KICAgICAgPC90ZXh0PgogICAgICA8cmVjdCB4PSIxMzkyIiB5PSI0MDgiIHdpZHRoPSI2MCIgaGVpZ2h0PSI2MCIgZmlsbD0id2hpdGUiLz4KICAgICAgPHJlY3QgeD0iMTM5MiIgeT0iNDA4IiB3aWR0aD0iNjAiIGhlaWdodD0iNjAiIHN0cm9rZT0iYmxhY2siIHN0cm9rZS1saW5lY2FwPSJyb3VuZCIgc3Ryb2tlLWxpbmVqb2luPSJyb3VuZCIgc3Ryb2tlLXdpZHRoPSIzIi8+CiAgICAgIDx0ZXh0IHRyYW5zZm9ybT0idHJhbnNsYXRlKDEzOTIuMyA0MjEuNzg4KSIgZmlsbD0iYmxhY2siPgogICAgICAgIDx0c3BhbiBmb250LWZhbWlseT0iT3ZlcnBhc3MgTW9ubyIgZm9udC1zaXplPSIzMiIgZm9udC13ZWlnaHQ9IjUwMCIgeD0iMTkuODQ0IiB5PSIzMSI+NzwvdHNwYW4+CiAgICAgIDwvdGV4dD4KICAgICAgPHJlY3QgeD0iMTMzMiIgeT0iNDA4IiB3aWR0aD0iNjAiIGhlaWdodD0iNjAiIGZpbGw9IndoaXRlIi8+CiAgICAgIDxyZWN0IHg9IjEzMzIiIHk9IjQwOCIgd2lkdGg9IjYwIiBoZWlnaHQ9IjYwIiBzdHJva2U9ImJsYWNrIiBzdHJva2UtbGluZWNhcD0icm91bmQiIHN0cm9rZS1saW5lam9pbj0icm91bmQiIHN0cm9rZS13aWR0aD0iMyIvPgogICAgICA8dGV4dCB0cmFuc2Zvcm09InRyYW5zbGF0ZSgxMzMyLjMgNDIxLjc4OCkiIGZpbGw9ImJsYWNrIj4KICAgICAgICA8dHNwYW4gZm9udC1mYW1pbHk9Ik92ZXJwYXNzIE1vbm8iIGZvbnQtc2l6ZT0iMzIiIGZvbnQtd2VpZ2h0PSI1MDAiIHg9IjE5Ljg0NCIgeT0iMzEiPjU8L3RzcGFuPgogICAgICA8L3RleHQ+CiAgICAgIDxyZWN0IHg9IjEyNzIiIHk9IjQwOCIgd2lkdGg9IjYwIiBoZWlnaHQ9IjYwIiBmaWxsPSJ3aGl0ZSIvPgogICAgICA8cmVjdCB4PSIxMjcyIiB5PSI0MDgiIHdpZHRoPSI2MCIgaGVpZ2h0PSI2MCIgc3Ryb2tlPSJibGFjayIgc3Ryb2tlLWxpbmVjYXA9InJvdW5kIiBzdHJva2UtbGluZWpvaW49InJvdW5kIiBzdHJva2Utd2lkdGg9IjMiLz4KICAgICAgPHRleHQgdHJhbnNmb3JtPSJ0cmFuc2xhdGUoMTI3Mi4zIDQyMS43ODgpIiBmaWxsPSJibGFjayI+CiAgICAgICAgPHRzcGFuIGZvbnQtZmFtaWx5PSJPdmVycGFzcyBNb25vIiBmb250LXNpemU9IjMyIiBmb250LXdlaWdodD0iNTAwIiB4PSI5Ljk4OCIgeT0iMzEiPjMzPC90c3Bhbj4KICAgICAgPC90ZXh0PgogICAgICA8cmVjdCB4PSIxMjEyIiB5PSI0MDgiIHdpZHRoPSI2MCIgaGVpZ2h0PSI2MCIgZmlsbD0id2hpdGUiLz4KICAgICAgPHJlY3QgeD0iMTIxMiIgeT0iNDA4IiB3aWR0aD0iNjAiIGhlaWdodD0iNjAiIHN0cm9rZT0iYmxhY2siIHN0cm9rZS1saW5lY2FwPSJyb3VuZCIgc3Ryb2tlLWxpbmVqb2luPSJyb3VuZCIgc3Ryb2tlLXdpZHRoPSIzIi8+CiAgICAgIDx0ZXh0IHRyYW5zZm9ybT0idHJhbnNsYXRlKDEyMTIuMyA0MjEuNzg4KSIgZmlsbD0iYmxhY2siPgogICAgICAgIDx0c3BhbiBmb250LWZhbWlseT0iT3ZlcnBhc3MgTW9ubyIgZm9udC1zaXplPSIzMiIgZm9udC13ZWlnaHQ9IjUwMCIgeD0iOS45ODgiIHk9IjMxIj4zMTwvdHNwYW4+CiAgICAgIDwvdGV4dD4KICAgICAgPHJlY3QgeD0iMTE1MiIgeT0iNDA4IiB3aWR0aD0iNjAiIGhlaWdodD0iNjAiIGZpbGw9IndoaXRlIi8+CiAgICAgIDxyZWN0IHg9IjExNTIiIHk9IjQwOCIgd2lkdGg9IjYwIiBoZWlnaHQ9IjYwIiBzdHJva2U9ImJsYWNrIiBzdHJva2UtbGluZWNhcD0icm91bmQiIHN0cm9rZS1saW5lam9pbj0icm91bmQiIHN0cm9rZS13aWR0aD0iMyIvPgogICAgICA8dGV4dCB0cmFuc2Zvcm09InRyYW5zbGF0ZSgxMTUyLjMgNDIxLjc4OCkiIGZpbGw9ImJsYWNrIj4KICAgICAgICA8dHNwYW4gZm9udC1mYW1pbHk9Ik92ZXJwYXNzIE1vbm8iIGZvbnQtc2l6ZT0iMzIiIGZvbnQtd2VpZ2h0PSI1MDAiIHg9IjkuOTg4IiB5PSIzMSI+NDA8L3RzcGFuPgogICAgICA8L3RleHQ+CiAgICAgIDxyZWN0IHg9IjEwOTIiIHk9IjQwOCIgd2lkdGg9IjYwIiBoZWlnaHQ9IjYwIiBmaWxsPSJ3aGl0ZSIvPgogICAgICA8cmVjdCB4PSIxMDkyIiB5PSI0MDgiIHdpZHRoPSI2MCIgaGVpZ2h0PSI2MCIgc3Ryb2tlPSJibGFjayIgc3Ryb2tlLWxpbmVjYXA9InJvdW5kIiBzdHJva2UtbGluZWpvaW49InJvdW5kIiBzdHJva2Utd2lkdGg9IjMiLz4KICAgICAgPHRleHQgdHJhbnNmb3JtPSJ0cmFuc2xhdGUoMTA5Mi4zIDQyMS43ODgpIiBmaWxsPSJibGFjayI+CiAgICAgICAgPHRzcGFuIGZvbnQtZmFtaWx5PSJPdmVycGFzcyBNb25vIiBmb250LXNpemU9IjMyIiBmb250LXdlaWdodD0iNTAwIiB4PSI5Ljk4OCIgeT0iMzEiPjIwPC90c3Bhbj4KICAgICAgPC90ZXh0PgogICAgICA8cmVjdCB4PSIxMDMyIiB5PSI0MDgiIHdpZHRoPSI2MCIgaGVpZ2h0PSI2MCIgZmlsbD0id2hpdGUiLz4KICAgICAgPHJlY3QgeD0iMTAzMiIgeT0iNDA4IiB3aWR0aD0iNjAiIGhlaWdodD0iNjAiIHN0cm9rZT0iYmxhY2siIHN0cm9rZS1saW5lY2FwPSJyb3VuZCIgc3Ryb2tlLWxpbmVqb2luPSJyb3VuZCIgc3Ryb2tlLXdpZHRoPSIzIi8+CiAgICAgIDx0ZXh0IHRyYW5zZm9ybT0idHJhbnNsYXRlKDEwMzIuMyA0MjEuNzg4KSIgZmlsbD0iYmxhY2siPgogICAgICAgIDx0c3BhbiBmb250LWZhbWlseT0iT3ZlcnBhc3MgTW9ubyIgZm9udC1zaXplPSIzMiIgZm9udC13ZWlnaHQ9IjUwMCIgeD0iMTkuODQ0IiB5PSIzMSI+MDwvdHNwYW4+CiAgICAgIDwvdGV4dD4KICAgICAgPHJlY3QgeD0iOTcyIiB5PSI0MDgiIHdpZHRoPSI2MCIgaGVpZ2h0PSI2MCIgZmlsbD0id2hpdGUiLz4KICAgICAgPHJlY3QgeD0iOTcyIiB5PSI0MDgiIHdpZHRoPSI2MCIgaGVpZ2h0PSI2MCIgc3Ryb2tlPSJibGFjayIgc3Ryb2tlLWxpbmVjYXA9InJvdW5kIiBzdHJva2UtbGluZWpvaW49InJvdW5kIiBzdHJva2Utd2lkdGg9IjMiLz4KICAgICAgPHRleHQgdHJhbnNmb3JtPSJ0cmFuc2xhdGUoOTcyLjMgNDIxLjc4OCkiIGZpbGw9ImJsYWNrIj4KICAgICAgICA8dHNwYW4gZm9udC1mYW1pbHk9Ik92ZXJwYXNzIE1vbm8iIGZvbnQtc2l6ZT0iMzIiIGZvbnQtd2VpZ2h0PSI1MDAiIHg9IjE5Ljg0NCIgeT0iMzEiPjY8L3RzcGFuPgogICAgICA8L3RleHQ+CiAgICAgIDxyZWN0IHg9IjkxMiIgeT0iNDA4IiB3aWR0aD0iNjAiIGhlaWdodD0iNjAiIGZpbGw9IndoaXRlIi8+CiAgICAgIDxyZWN0IHg9IjkxMiIgeT0iNDA4IiB3aWR0aD0iNjAiIGhlaWdodD0iNjAiIHN0cm9rZT0iYmxhY2siIHN0cm9rZS1saW5lY2FwPSJyb3VuZCIgc3Ryb2tlLWxpbmVqb2luPSJyb3VuZCIgc3Ryb2tlLXdpZHRoPSIzIi8+CiAgICAgIDx0ZXh0IHRyYW5zZm9ybT0idHJhbnNsYXRlKDkxMi4zIDQyMS43ODgpIiBmaWxsPSJibGFjayI+CiAgICAgICAgPHRzcGFuIGZvbnQtZmFtaWx5PSJPdmVycGFzcyBNb25vIiBmb250LXNpemU9IjMyIiBmb250LXdlaWdodD0iNTAwIiB4PSI5Ljk4OCIgeT0iMzEiPjIwPC90c3Bhbj4KICAgICAgPC90ZXh0PgogICAgICA8cmVjdCB4PSI4NTIiIHk9IjQwOCIgd2lkdGg9IjYwIiBoZWlnaHQ9IjYwIiBmaWxsPSJ3aGl0ZSIvPgogICAgICA8cmVjdCB4PSI4NTIiIHk9IjQwOCIgd2lkdGg9IjYwIiBoZWlnaHQ9IjYwIiBzdHJva2U9ImJsYWNrIiBzdHJva2UtbGluZWNhcD0icm91bmQiIHN0cm9rZS1saW5lam9pbj0icm91bmQiIHN0cm9rZS13aWR0aD0iMyIvPgogICAgICA8dGV4dCB0cmFuc2Zvcm09InRyYW5zbGF0ZSg4NTIuMyA0MjEuNzg4KSIgZmlsbD0iYmxhY2siPgogICAgICAgIDx0c3BhbiBmb250LWZhbWlseT0iT3ZlcnBhc3MgTW9ubyIgZm9udC1zaXplPSIzMiIgZm9udC13ZWlnaHQ9IjUwMCIgeD0iOS45ODgiIHk9IjMxIj40NTwvdHNwYW4+CiAgICAgIDwvdGV4dD4KICAgICAgPHJlY3QgeD0iNzkyIiB5PSI0MDgiIHdpZHRoPSI2MCIgaGVpZ2h0PSI2MCIgZmlsbD0id2hpdGUiLz4KICAgICAgPHJlY3QgeD0iNzkyIiB5PSI0MDgiIHdpZHRoPSI2MCIgaGVpZ2h0PSI2MCIgc3Ryb2tlPSJibGFjayIgc3Ryb2tlLWxpbmVjYXA9InJvdW5kIiBzdHJva2UtbGluZWpvaW49InJvdW5kIiBzdHJva2Utd2lkdGg9IjMiLz4KICAgICAgPHRleHQgdHJhbnNmb3JtPSJ0cmFuc2xhdGUoNzkyLjMgNDIxLjc4OCkiIGZpbGw9ImJsYWNrIj4KICAgICAgICA8dHNwYW4gZm9udC1mYW1pbHk9Ik92ZXJwYXNzIE1vbm8iIGZvbnQtc2l6ZT0iMzIiIGZvbnQtd2VpZ2h0PSI1MDAiIHg9IjE5Ljg0NCIgeT0iMzEiPjE8L3RzcGFuPgogICAgICA8L3RleHQ+CiAgICAgIDxyZWN0IHg9IjczMiIgeT0iNDA4IiB3aWR0aD0iNjAiIGhlaWdodD0iNjAiIGZpbGw9IndoaXRlIi8+CiAgICAgIDxyZWN0IHg9IjczMiIgeT0iNDA4IiB3aWR0aD0iNjAiIGhlaWdodD0iNjAiIHN0cm9rZT0iYmxhY2siIHN0cm9rZS1saW5lY2FwPSJyb3VuZCIgc3Ryb2tlLWxpbmVqb2luPSJyb3VuZCIgc3Ryb2tlLXdpZHRoPSIzIi8+CiAgICAgIDx0ZXh0IHRyYW5zZm9ybT0idHJhbnNsYXRlKDczMi4zIDQyMS43ODgpIiBmaWxsPSJibGFjayI+CiAgICAgICAgPHRzcGFuIGZvbnQtZmFtaWx5PSJPdmVycGFzcyBNb25vIiBmb250LXNpemU9IjMyIiBmb250LXdlaWdodD0iNTAwIiB4PSIxOS44NDQiIHk9IjMxIj4wPC90c3Bhbj4KICAgICAgPC90ZXh0PgogICAgICA8cmVjdCB4PSI2NzIiIHk9IjQwOCIgd2lkdGg9IjYwIiBoZWlnaHQ9IjYwIiBmaWxsPSJ3aGl0ZSIvPgogICAgICA8cmVjdCB4PSI2NzIiIHk9IjQwOCIgd2lkdGg9IjYwIiBoZWlnaHQ9IjYwIiBzdHJva2U9ImJsYWNrIiBzdHJva2UtbGluZWNhcD0icm91bmQiIHN0cm9rZS1saW5lam9pbj0icm91bmQiIHN0cm9rZS13aWR0aD0iMyIvPgogICAgICA8dGV4dCB0cmFuc2Zvcm09InRyYW5zbGF0ZSg2NzIuMyA0MjEuNzg4KSIgZmlsbD0iYmxhY2siPgogICAgICAgIDx0c3BhbiBmb250LWZhbWlseT0iT3ZlcnBhc3MgTW9ubyIgZm9udC1zaXplPSIzMiIgZm9udC13ZWlnaHQ9IjUwMCIgeD0iOS45ODgiIHk9IjMxIj4xNzwvdHNwYW4+CiAgICAgIDwvdGV4dD4KICAgICAgPHJlY3QgeD0iNjEyIiB5PSI0MDgiIHdpZHRoPSI2MCIgaGVpZ2h0PSI2MCIgZmlsbD0id2hpdGUiLz4KICAgICAgPHJlY3QgeD0iNjEyIiB5PSI0MDgiIHdpZHRoPSI2MCIgaGVpZ2h0PSI2MCIgc3Ryb2tlPSJibGFjayIgc3Ryb2tlLWxpbmVjYXA9InJvdW5kIiBzdHJva2UtbGluZWpvaW49InJvdW5kIiBzdHJva2Utd2lkdGg9IjMiLz4KICAgICAgPHRleHQgdHJhbnNmb3JtPSJ0cmFuc2xhdGUoNjEyLjMgNDIxLjc4OCkiIGZpbGw9ImJsYWNrIj4KICAgICAgICA8dHNwYW4gZm9udC1mYW1pbHk9Ik92ZXJwYXNzIE1vbm8iIGZvbnQtc2l6ZT0iMzIiIGZvbnQtd2VpZ2h0PSI1MDAiIHg9IjkuOTg4IiB5PSIzMSI+MjA8L3RzcGFuPgogICAgICA8L3RleHQ+CiAgICAgIDxyZWN0IHg9IjU1MiIgeT0iNDA4IiB3aWR0aD0iNjAiIGhlaWdodD0iNjAiIGZpbGw9IndoaXRlIi8+CiAgICAgIDxyZWN0IHg9IjU1MiIgeT0iNDA4IiB3aWR0aD0iNjAiIGhlaWdodD0iNjAiIHN0cm9rZT0iYmxhY2siIHN0cm9rZS1saW5lY2FwPSJyb3VuZCIgc3Ryb2tlLWxpbmVqb2luPSJyb3VuZCIgc3Ryb2tlLXdpZHRoPSIzIi8+CiAgICAgIDx0ZXh0IHRyYW5zZm9ybT0idHJhbnNsYXRlKDU1Mi4zIDQyMS43ODgpIiBmaWxsPSJibGFjayI+CiAgICAgICAgPHRzcGFuIGZvbnQtZmFtaWx5PSJPdmVycGFzcyBNb25vIiBmb250LXNpemU9IjMyIiBmb250LXdlaWdodD0iNTAwIiB4PSIxOS44NDQiIHk9IjMxIj41PC90c3Bhbj4KICAgICAgPC90ZXh0PgogICAgICA8cmVjdCB4PSIxNDUyIiB5PSI0NjgiIHdpZHRoPSI2MCIgaGVpZ2h0PSI2MCIgZmlsbD0id2hpdGUiLz4KICAgICAgPHJlY3QgeD0iMTQ1MiIgeT0iNDY4IiB3aWR0aD0iNjAiIGhlaWdodD0iNjAiIHN0cm9rZT0iYmxhY2siIHN0cm9rZS1saW5lY2FwPSJyb3VuZCIgc3Ryb2tlLWxpbmVqb2luPSJyb3VuZCIgc3Ryb2tlLXdpZHRoPSIzIi8+CiAgICAgIDx0ZXh0IHRyYW5zZm9ybT0idHJhbnNsYXRlKDE0NTIuMyA0ODEuNzg4KSIgZmlsbD0iYmxhY2siPgogICAgICAgIDx0c3BhbiBmb250LWZhbWlseT0iT3ZlcnBhc3MgTW9ubyIgZm9udC1zaXplPSIzMiIgZm9udC13ZWlnaHQ9IjUwMCIgeD0iMTkuODQ0IiB5PSIzMSI+NzwvdHNwYW4+CiAgICAgIDwvdGV4dD4KICAgICAgPHJlY3QgeD0iMTM5MiIgeT0iNDY4IiB3aWR0aD0iNjAiIGhlaWdodD0iNjAiIGZpbGw9IndoaXRlIi8+CiAgICAgIDxyZWN0IHg9IjEzOTIiIHk9IjQ2OCIgd2lkdGg9IjYwIiBoZWlnaHQ9IjYwIiBzdHJva2U9ImJsYWNrIiBzdHJva2UtbGluZWNhcD0icm91bmQiIHN0cm9rZS1saW5lam9pbj0icm91bmQiIHN0cm9rZS13aWR0aD0iMyIvPgogICAgICA8dGV4dCB0cmFuc2Zvcm09InRyYW5zbGF0ZSgxMzkyLjMgNDgxLjc4OCkiIGZpbGw9ImJsYWNrIj4KICAgICAgICA8dHNwYW4gZm9udC1mYW1pbHk9Ik92ZXJwYXNzIE1vbm8iIGZvbnQtc2l6ZT0iMzIiIGZvbnQtd2VpZ2h0PSI1MDAiIHg9IjkuOTg4IiB5PSIzMSI+NTA8L3RzcGFuPgogICAgICA8L3RleHQ+CiAgICAgIDxyZWN0IHg9IjEzMzIiIHk9IjQ2OCIgd2lkdGg9IjYwIiBoZWlnaHQ9IjYwIiBmaWxsPSJ3aGl0ZSIvPgogICAgICA8cmVjdCB4PSIxMzMyIiB5PSI0NjgiIHdpZHRoPSI2MCIgaGVpZ2h0PSI2MCIgc3Ryb2tlPSJibGFjayIgc3Ryb2tlLWxpbmVjYXA9InJvdW5kIiBzdHJva2UtbGluZWpvaW49InJvdW5kIiBzdHJva2Utd2lkdGg9IjMiLz4KICAgICAgPHRleHQgdHJhbnNmb3JtPSJ0cmFuc2xhdGUoMTMzMi4zIDQ4MS43ODgpIiBmaWxsPSJibGFjayI+CiAgICAgICAgPHRzcGFuIGZvbnQtZmFtaWx5PSJPdmVycGFzcyBNb25vIiBmb250LXNpemU9IjMyIiBmb250LXdlaWdodD0iNTAwIiB4PSIxOS44NDQiIHk9IjMxIj4wPC90c3Bhbj4KICAgICAgPC90ZXh0PgogICAgICA8cmVjdCB4PSIxMjcyIiB5PSI0NjgiIHdpZHRoPSI2MCIgaGVpZ2h0PSI2MCIgZmlsbD0id2hpdGUiLz4KICAgICAgPHJlY3QgeD0iMTI3MiIgeT0iNDY4IiB3aWR0aD0iNjAiIGhlaWdodD0iNjAiIHN0cm9rZT0iYmxhY2siIHN0cm9rZS1saW5lY2FwPSJyb3VuZCIgc3Ryb2tlLWxpbmVqb2luPSJyb3VuZCIgc3Ryb2tlLXdpZHRoPSIzIi8+CiAgICAgIDx0ZXh0IHRyYW5zZm9ybT0idHJhbnNsYXRlKDEyNzIuMyA0ODEuNzg4KSIgZmlsbD0iYmxhY2siPgogICAgICAgIDx0c3BhbiBmb250LWZhbWlseT0iT3ZlcnBhc3MgTW9ubyIgZm9udC1zaXplPSIzMiIgZm9udC13ZWlnaHQ9IjUwMCIgeD0iMTkuODQ0IiB5PSIzMSI+MDwvdHNwYW4+CiAgICAgIDwvdGV4dD4KICAgICAgPHJlY3QgeD0iMTIxMiIgeT0iNDY4IiB3aWR0aD0iNjAiIGhlaWdodD0iNjAiIGZpbGw9IndoaXRlIi8+CiAgICAgIDxyZWN0IHg9IjEyMTIiIHk9IjQ2OCIgd2lkdGg9IjYwIiBoZWlnaHQ9IjYwIiBzdHJva2U9ImJsYWNrIiBzdHJva2UtbGluZWNhcD0icm91bmQiIHN0cm9rZS1saW5lam9pbj0icm91bmQiIHN0cm9rZS13aWR0aD0iMyIvPgogICAgICA8dGV4dCB0cmFuc2Zvcm09InRyYW5zbGF0ZSgxMjEyLjMgNDgxLjc4OCkiIGZpbGw9ImJsYWNrIj4KICAgICAgICA8dHNwYW4gZm9udC1mYW1pbHk9Ik92ZXJwYXNzIE1vbm8iIGZvbnQtc2l6ZT0iMzIiIGZvbnQtd2VpZ2h0PSI1MDAiIHg9IjkuOTg4IiB5PSIzMSI+MjA8L3RzcGFuPgogICAgICA8L3RleHQ+CiAgICAgIDxyZWN0IHg9IjExNTIiIHk9IjQ2OCIgd2lkdGg9IjYwIiBoZWlnaHQ9IjYwIiBmaWxsPSJ3aGl0ZSIvPgogICAgICA8cmVjdCB4PSIxMTUyIiB5PSI0NjgiIHdpZHRoPSI2MCIgaGVpZ2h0PSI2MCIgc3Ryb2tlPSJibGFjayIgc3Ryb2tlLWxpbmVjYXA9InJvdW5kIiBzdHJva2UtbGluZWpvaW49InJvdW5kIiBzdHJva2Utd2lkdGg9IjMiLz4KICAgICAgPHRleHQgdHJhbnNmb3JtPSJ0cmFuc2xhdGUoMTE1Mi4zIDQ4MS43ODgpIiBmaWxsPSJibGFjayI+CiAgICAgICAgPHRzcGFuIGZvbnQtZmFtaWx5PSJPdmVycGFzcyBNb25vIiBmb250LXNpemU9IjMyIiBmb250LXdlaWdodD0iNTAwIiB4PSI5Ljk4OCIgeT0iMzEiPjE3PC90c3Bhbj4KICAgICAgPC90ZXh0PgogICAgICA8cmVjdCB4PSIxMDkyIiB5PSI0NjgiIHdpZHRoPSI2MCIgaGVpZ2h0PSI2MCIgZmlsbD0id2hpdGUiLz4KICAgICAgPHJlY3QgeD0iMTA5MiIgeT0iNDY4IiB3aWR0aD0iNjAiIGhlaWdodD0iNjAiIHN0cm9rZT0iYmxhY2siIHN0cm9rZS1saW5lY2FwPSJyb3VuZCIgc3Ryb2tlLWxpbmVqb2luPSJyb3VuZCIgc3Ryb2tlLXdpZHRoPSIzIi8+CiAgICAgIDx0ZXh0IHRyYW5zZm9ybT0idHJhbnNsYXRlKDEwOTIuMyA0ODEuNzg4KSIgZmlsbD0iYmxhY2siPgogICAgICAgIDx0c3BhbiBmb250LWZhbWlseT0iT3ZlcnBhc3MgTW9ubyIgZm9udC1zaXplPSIzMiIgZm9udC13ZWlnaHQ9IjUwMCIgeD0iOS45ODgiIHk9IjMxIj4xMDwvdHNwYW4+CiAgICAgIDwvdGV4dD4KICAgICAgPHJlY3QgeD0iMTAzMiIgeT0iNDY4IiB3aWR0aD0iNjAiIGhlaWdodD0iNjAiIGZpbGw9IndoaXRlIi8+CiAgICAgIDxyZWN0IHg9IjEwMzIiIHk9IjQ2OCIgd2lkdGg9IjYwIiBoZWlnaHQ9IjYwIiBzdHJva2U9ImJsYWNrIiBzdHJva2UtbGluZWNhcD0icm91bmQiIHN0cm9rZS1saW5lam9pbj0icm91bmQiIHN0cm9rZS13aWR0aD0iMyIvPgogICAgICA8dGV4dCB0cmFuc2Zvcm09InRyYW5zbGF0ZSgxMDMyLjMgNDgxLjc4OCkiIGZpbGw9ImJsYWNrIj4KICAgICAgICA8dHNwYW4gZm9udC1mYW1pbHk9Ik92ZXJwYXNzIE1vbm8iIGZvbnQtc2l6ZT0iMzIiIGZvbnQtd2VpZ2h0PSI1MDAiIHg9IjkuOTg4IiB5PSIzMSI+NTI8L3RzcGFuPgogICAgICA8L3RleHQ+CiAgICAgIDxyZWN0IHg9Ijk3MiIgeT0iNDY4IiB3aWR0aD0iNjAiIGhlaWdodD0iNjAiIGZpbGw9IndoaXRlIi8+CiAgICAgIDxyZWN0IHg9Ijk3MiIgeT0iNDY4IiB3aWR0aD0iNjAiIGhlaWdodD0iNjAiIHN0cm9rZT0iYmxhY2siIHN0cm9rZS1saW5lY2FwPSJyb3VuZCIgc3Ryb2tlLWxpbmVqb2luPSJyb3VuZCIgc3Ryb2tlLXdpZHRoPSIzIi8+CiAgICAgIDx0ZXh0IHRyYW5zZm9ybT0idHJhbnNsYXRlKDk3Mi4zIDQ4MS43ODgpIiBmaWxsPSJibGFjayI+CiAgICAgICAgPHRzcGFuIGZvbnQtZmFtaWx5PSJPdmVycGFzcyBNb25vIiBmb250LXNpemU9IjMyIiBmb250LXdlaWdodD0iNTAwIiB4PSIxOS44NDQiIHk9IjMxIj43PC90c3Bhbj4KICAgICAgPC90ZXh0PgogICAgICA8cmVjdCB4PSI5MTIiIHk9IjQ2OCIgd2lkdGg9IjYwIiBoZWlnaHQ9IjYwIiBmaWxsPSJ3aGl0ZSIvPgogICAgICA8cmVjdCB4PSI5MTIiIHk9IjQ2OCIgd2lkdGg9IjYwIiBoZWlnaHQ9IjYwIiBzdHJva2U9ImJsYWNrIiBzdHJva2UtbGluZWNhcD0icm91bmQiIHN0cm9rZS1saW5lam9pbj0icm91bmQiIHN0cm9rZS13aWR0aD0iMyIvPgogICAgICA8dGV4dCB0cmFuc2Zvcm09InRyYW5zbGF0ZSg5MTIuMyA0ODEuNzg4KSIgZmlsbD0iYmxhY2siPgogICAgICAgIDx0c3BhbiBmb250LWZhbWlseT0iT3ZlcnBhc3MgTW9ubyIgZm9udC1zaXplPSIzMiIgZm9udC13ZWlnaHQ9IjUwMCIgeD0iOS45ODgiIHk9IjMxIj40MjwvdHNwYW4+CiAgICAgIDwvdGV4dD4KICAgICAgPHJlY3QgeD0iODUyIiB5PSI0NjgiIHdpZHRoPSI2MCIgaGVpZ2h0PSI2MCIgZmlsbD0id2hpdGUiLz4KICAgICAgPHJlY3QgeD0iODUyIiB5PSI0NjgiIHdpZHRoPSI2MCIgaGVpZ2h0PSI2MCIgc3Ryb2tlPSJibGFjayIgc3Ryb2tlLWxpbmVjYXA9InJvdW5kIiBzdHJva2UtbGluZWpvaW49InJvdW5kIiBzdHJva2Utd2lkdGg9IjMiLz4KICAgICAgPHRleHQgdHJhbnNmb3JtPSJ0cmFuc2xhdGUoODUyLjMgNDgxLjc4OCkiIGZpbGw9ImJsYWNrIj4KICAgICAgICA8dHNwYW4gZm9udC1mYW1pbHk9Ik92ZXJwYXNzIE1vbm8iIGZvbnQtc2l6ZT0iMzIiIGZvbnQtd2VpZ2h0PSI1MDAiIHg9IjE5Ljg0NCIgeT0iMzEiPjA8L3RzcGFuPgogICAgICA8L3RleHQ+CiAgICAgIDxyZWN0IHg9Ijc5MiIgeT0iNDY4IiB3aWR0aD0iNjAiIGhlaWdodD0iNjAiIGZpbGw9IndoaXRlIi8+CiAgICAgIDxyZWN0IHg9Ijc5MiIgeT0iNDY4IiB3aWR0aD0iNjAiIGhlaWdodD0iNjAiIHN0cm9rZT0iYmxhY2siIHN0cm9rZS1saW5lY2FwPSJyb3VuZCIgc3Ryb2tlLWxpbmVqb2luPSJyb3VuZCIgc3Ryb2tlLXdpZHRoPSIzIi8+CiAgICAgIDx0ZXh0IHRyYW5zZm9ybT0idHJhbnNsYXRlKDc5Mi4zIDQ4MS43ODgpIiBmaWxsPSJibGFjayI+CiAgICAgICAgPHRzcGFuIGZvbnQtZmFtaWx5PSJPdmVycGFzcyBNb25vIiBmb250LXNpemU9IjMyIiBmb250LXdlaWdodD0iNTAwIiB4PSIxOS44NDQiIHk9IjMxIj4wPC90c3Bhbj4KICAgICAgPC90ZXh0PgogICAgICA8cmVjdCB4PSI3MzIiIHk9IjQ2OCIgd2lkdGg9IjYwIiBoZWlnaHQ9IjYwIiBmaWxsPSJ3aGl0ZSIvPgogICAgICA8cmVjdCB4PSI3MzIiIHk9IjQ2OCIgd2lkdGg9IjYwIiBoZWlnaHQ9IjYwIiBzdHJva2U9ImJsYWNrIiBzdHJva2UtbGluZWNhcD0icm91bmQiIHN0cm9rZS1saW5lam9pbj0icm91bmQiIHN0cm9rZS13aWR0aD0iMyIvPgogICAgICA8dGV4dCB0cmFuc2Zvcm09InRyYW5zbGF0ZSg3MzIuMyA0ODEuNzg4KSIgZmlsbD0iYmxhY2siPgogICAgICAgIDx0c3BhbiBmb250LWZhbWlseT0iT3ZlcnBhc3MgTW9ubyIgZm9udC1zaXplPSIzMiIgZm9udC13ZWlnaHQ9IjUwMCIgeD0iOS45ODgiIHk9IjMxIj4zMDwvdHNwYW4+CiAgICAgIDwvdGV4dD4KICAgICAgPHJlY3QgeD0iNjcyIiB5PSI0NjgiIHdpZHRoPSI2MCIgaGVpZ2h0PSI2MCIgZmlsbD0id2hpdGUiLz4KICAgICAgPHJlY3QgeD0iNjcyIiB5PSI0NjgiIHdpZHRoPSI2MCIgaGVpZ2h0PSI2MCIgc3Ryb2tlPSJibGFjayIgc3Ryb2tlLWxpbmVjYXA9InJvdW5kIiBzdHJva2UtbGluZWpvaW49InJvdW5kIiBzdHJva2Utd2lkdGg9IjMiLz4KICAgICAgPHRleHQgdHJhbnNmb3JtPSJ0cmFuc2xhdGUoNjcyLjMgNDgxLjc4OCkiIGZpbGw9ImJsYWNrIj4KICAgICAgICA8dHNwYW4gZm9udC1mYW1pbHk9Ik92ZXJwYXNzIE1vbm8iIGZvbnQtc2l6ZT0iMzIiIGZvbnQtd2VpZ2h0PSI1MDAiIHg9IjkuOTg4IiB5PSIzMSI+MjE8L3RzcGFuPgogICAgICA8L3RleHQ+CiAgICAgIDxyZWN0IHg9IjYxMiIgeT0iNDY4IiB3aWR0aD0iNjAiIGhlaWdodD0iNjAiIGZpbGw9IndoaXRlIi8+CiAgICAgIDxyZWN0IHg9IjYxMiIgeT0iNDY4IiB3aWR0aD0iNjAiIGhlaWdodD0iNjAiIHN0cm9rZT0iYmxhY2siIHN0cm9rZS1saW5lY2FwPSJyb3VuZCIgc3Ryb2tlLWxpbmVqb2luPSJyb3VuZCIgc3Ryb2tlLXdpZHRoPSIzIi8+CiAgICAgIDx0ZXh0IHRyYW5zZm9ybT0idHJhbnNsYXRlKDYxMi4zIDQ4MS43ODgpIiBmaWxsPSJibGFjayI+CiAgICAgICAgPHRzcGFuIGZvbnQtZmFtaWx5PSJPdmVycGFzcyBNb25vIiBmb250LXNpemU9IjMyIiBmb250LXdlaWdodD0iNTAwIiB4PSIxOS44NDQiIHk9IjMxIj4zPC90c3Bhbj4KICAgICAgPC90ZXh0PgogICAgICA8cmVjdCB4PSI1NTIiIHk9IjQ2OCIgd2lkdGg9IjYwIiBoZWlnaHQ9IjYwIiBmaWxsPSJ3aGl0ZSIvPgogICAgICA8cmVjdCB4PSI1NTIiIHk9IjQ2OCIgd2lkdGg9IjYwIiBoZWlnaHQ9IjYwIiBzdHJva2U9ImJsYWNrIiBzdHJva2UtbGluZWNhcD0icm91bmQiIHN0cm9rZS1saW5lam9pbj0icm91bmQiIHN0cm9rZS13aWR0aD0iMyIvPgogICAgICA8dGV4dCB0cmFuc2Zvcm09InRyYW5zbGF0ZSg1NTIuMyA0ODEuNzg4KSIgZmlsbD0iYmxhY2siPgogICAgICAgIDx0c3BhbiBmb250LWZhbWlseT0iT3ZlcnBhc3MgTW9ubyIgZm9udC1zaXplPSIzMiIgZm9udC13ZWlnaHQ9IjUwMCIgeD0iMTkuODQ0IiB5PSIzMSI+MTwvdHNwYW4+CiAgICAgIDwvdGV4dD4KICAgICAgPHJlY3QgeD0iNzMyIiB5PSIzNDgiIHdpZHRoPSI2MCIgaGVpZ2h0PSI2MCIgZmlsbD0iI2Y1YjgwMCIgZmlsbC1vcGFjaXR5PSIuNSIvPgogICAgICA8cmVjdCB4PSI3MzIiIHk9IjM0OCIgd2lkdGg9IjYwIiBoZWlnaHQ9IjYwIiBzdHJva2U9ImJsYWNrIiBzdHJva2UtbGluZWNhcD0icm91bmQiIHN0cm9rZS1saW5lam9pbj0icm91bmQiIHN0cm9rZS13aWR0aD0iMyIvPgogICAgICA8dGV4dCB0cmFuc2Zvcm09InRyYW5zbGF0ZSg3MzIuMyAzNjEuNzg4KSIgZmlsbD0iYmxhY2siPgogICAgICAgIDx0c3BhbiBmb250LWZhbWlseT0iT3ZlcnBhc3MgTW9ubyIgZm9udC1zaXplPSIzMiIgZm9udC13ZWlnaHQ9IjUwMCIgeD0iOS45ODgiIHk9IjMxIj4zMDwvdHNwYW4+CiAgICAgIDwvdGV4dD4KICAgICAgPHJlY3QgeD0iOTEyIiB5PSI0MDgiIHdpZHRoPSI2MCIgaGVpZ2h0PSI2MCIgZmlsbD0iIzAwYjllNCIgZmlsbC1vcGFjaXR5PSIuNTA0MjA5Ii8+CiAgICAgIDxyZWN0IHg9IjkxMiIgeT0iNDA4IiB3aWR0aD0iNjAiIGhlaWdodD0iNjAiIHN0cm9rZT0iYmxhY2siIHN0cm9rZS1saW5lY2FwPSJyb3VuZCIgc3Ryb2tlLWxpbmVqb2luPSJyb3VuZCIgc3Ryb2tlLXdpZHRoPSIzIi8+CiAgICAgIDx0ZXh0IHRyYW5zZm9ybT0idHJhbnNsYXRlKDkxMi4zIDQyMS43ODgpIiBmaWxsPSJibGFjayI+CiAgICAgICAgPHRzcGFuIGZvbnQtZmFtaWx5PSJPdmVycGFzcyBNb25vIiBmb250LXNpemU9IjMyIiBmb250LXdlaWdodD0iNTAwIiB4PSI5Ljk4OCIgeT0iMzEiPjIwPC90c3Bhbj4KICAgICAgPC90ZXh0PgogICAgICA8cmVjdCB4PSIxMzkyIiB5PSI0NjgiIHdpZHRoPSI2MCIgaGVpZ2h0PSI2MCIgZmlsbD0iIzliNjg5NyIgZmlsbC1vcGFjaXR5PSIuNTAzMDgxIi8+CiAgICAgIDxyZWN0IHg9IjEzOTIiIHk9IjQ2OCIgd2lkdGg9IjYwIiBoZWlnaHQ9IjYwIiBzdHJva2U9ImJsYWNrIiBzdHJva2UtbGluZWNhcD0icm91bmQiIHN0cm9rZS1saW5lam9pbj0icm91bmQiIHN0cm9rZS13aWR0aD0iMyIvPgogICAgICA8dGV4dCB0cmFuc2Zvcm09InRyYW5zbGF0ZSgxMzkyLjMgNDgxLjc4OCkiIGZpbGw9ImJsYWNrIj4KICAgICAgICA8dHNwYW4gZm9udC1mYW1pbHk9Ik92ZXJwYXNzIE1vbm8iIGZvbnQtc2l6ZT0iMzIiIGZvbnQtd2VpZ2h0PSI1MDAiIHg9IjkuOTg4IiB5PSIzMSI+NTA8L3RzcGFuPgogICAgICA8L3RleHQ+CiAgICAgIDx0ZXh0IHRyYW5zZm9ybT0idHJhbnNsYXRlKDU1NC4xIDYxMy43ODgpIiBmaWxsPSJibGFjayI+CiAgICAgICAgPHRzcGFuIGZvbnQtZmFtaWx5PSJPdmVycGFzcyBNb25vIiBmb250LXNpemU9IjMyIiBmb250LXdlaWdodD0iNTAwIiB4PSI3OS43NzIiIHk9IjMxIj5sb29rdXAoJnF1b3Q7Zm9vJnF1b3Q7KTwvdHNwYW4+CiAgICAgIDwvdGV4dD4KICAgICAgPHRleHQgdHJhbnNmb3JtPSJ0cmFuc2xhdGUoOTAyLjEgNjEzLjc4OCkiIGZpbGw9ImJsYWNrIj4KICAgICAgICA8dHNwYW4gZm9udC1mYW1pbHk9Ik92ZXJwYXNzIE1vbm8iIGZvbnQtc2l6ZT0iMzIiIGZvbnQtd2VpZ2h0PSI1MDAiIHg9IjAiIHk9IjMxIj49IG1pbig8L3RzcGFuPgogICAgICAgIDx0c3BhbiBmb250LWZhbWlseT0iT3ZlcnBhc3MgTW9ubyIgZm9udC1zaXplPSIzMiIgZm9udC13ZWlnaHQ9ImJvbGQiIGZpbGw9IiNmNWI4MDAiIHg9IjExOC4yNzIiIHk9IjMxIj4zMDwvdHNwYW4+CiAgICAgICAgPHRzcGFuIGZvbnQtZmFtaWx5PSJPdmVycGFzcyBNb25vIiBmb250LXNpemU9IjMyIiBmb250LXdlaWdodD0iNTAwIiB4PSIxNTcuNjk2IiB5PSIzMSI+LCA8L3RzcGFuPgogICAgICAgIDx0c3BhbiBmb250LWZhbWlseT0iT3ZlcnBhc3MgTW9ubyIgZm9udC1zaXplPSIzMiIgZm9udC13ZWlnaHQ9ImJvbGQiIGZpbGw9IiMwMGI5ZTQiIHg9IjE5Ny4xMiIgeT0iMzEiPjIwPC90c3Bhbj4KICAgICAgICA8dHNwYW4gZm9udC1mYW1pbHk9Ik92ZXJwYXNzIE1vbm8iIGZvbnQtc2l6ZT0iMzIiIGZvbnQtd2VpZ2h0PSI1MDAiIHg9IjIzNi41NDQiIHk9IjMxIj4sIDwvdHNwYW4+CiAgICAgICAgPHRzcGFuIGZvbnQtZmFtaWx5PSJPdmVycGFzcyBNb25vIiBmb250LXNpemU9IjMyIiBmb250LXdlaWdodD0iYm9sZCIgZmlsbD0iIzliNjg5NyIgeD0iMjc1Ljk2OCIgeT0iMzEiPjUwPC90c3Bhbj4KICAgICAgICA8dHNwYW4gZm9udC1mYW1pbHk9Ik92ZXJwYXNzIE1vbm8iIGZvbnQtc2l6ZT0iMzIiIGZvbnQtd2VpZ2h0PSI1MDAiIHg9IjMxNS4zOTIiIHk9IjMxIj4pPC90c3Bhbj4KICAgICAgPC90ZXh0PgogICAgPC9nPgogIDwvZz4KPC9zdmc+Cg==\" />"
   ]
  },
  {
   "cell_type": "markdown",
   "metadata": {},
   "source": [
    "Think of the count-min sketch as a generalization of the Bloom filter:  instead of overestimating _whether or not_ we've seen a certain key, the count-min sketch overestimates _how many times_ we've seen it.  You could implement a precise structure to solve this problem with a map from keys to counts (a tree, an associative array, or a hash table, for example), but -- just as with the Bloom filter -- there are cases in which the space requirements of a precise structure may be unacceptable.\n",
    "\n",
    "We'll start by importing some necessary libraries -- `numpy`, `pandas`, and our hash functions  -- again."
   ]
  },
  {
   "cell_type": "code",
   "execution_count": null,
   "metadata": {},
   "outputs": [],
   "source": [
    "from datasketching.hashing import hashes_for\n",
    "import numpy as np\n",
    "import pandas as pd\n",
    "\n",
    "import seaborn as sns\n",
    "import matplotlib.pyplot as plt"
   ]
  },
  {
   "cell_type": "code",
   "execution_count": null,
   "metadata": {},
   "outputs": [],
   "source": [
    "class CMS(object):\n",
    "    def __init__(self, width, hashes):\n",
    "        \"\"\" Initializes a Count-min sketch with the\n",
    "            given width and a collection of hashes, \n",
    "            which are functions taking arbitrary \n",
    "            values and returning integers.  The depth\n",
    "            of the sketch structure is taken from the\n",
    "            number of supplied hash functions.\n",
    "            \n",
    "            hashes can be either a function taking \n",
    "            a value and returning a list of results\n",
    "            or a list of functions.  In the latter \n",
    "            case, this constructor will synthesize \n",
    "            the former \"\"\"\n",
    "        self.__width = width\n",
    "        \n",
    "        if hasattr(hashes, '__call__'):\n",
    "            self.__hashes = hashes\n",
    "            # inspect the tuple returned by the hash function to get a depth\n",
    "            self.__depth = len(hashes(bytes()))\n",
    "        else:\n",
    "            funs = hashes[:]\n",
    "            self.__depth = len(hashes)\n",
    "            def h(value):\n",
    "                return [int(f(value)) for f in funs]\n",
    "            self.__hashes = h\n",
    "        \n",
    "        self.__buckets = np.zeros((int(width), int(self.__depth)), np.uint64)\n",
    "    \n",
    "    \n",
    "    def width(self):\n",
    "        return self.__width\n",
    "    \n",
    "    def depth(self):\n",
    "        return self.__depth\n",
    "    \n",
    "    def insert(self, value):\n",
    "        \"\"\" Inserts a value into this sketch \"\"\"\n",
    "        for (row, col) in enumerate(self.__hashes(value)):\n",
    "            self.__buckets[col % self.__width][row] += 1\n",
    "    \n",
    "    def lookup(self, value):\n",
    "        \"\"\" Returns a biased estimate of number of times value has been inserted in this sketch\"\"\"\n",
    "        return min([self.__buckets[col % self.__width][row] for (row, col) in enumerate(self.__hashes(value))])\n",
    "    \n",
    "    def merge_from(self, other):\n",
    "        \"\"\" Merges other in to this sketch by \n",
    "            adding the counts from each bucket in other\n",
    "            to the corresponding buckets in this\n",
    "            \n",
    "            Updates this. \"\"\"\n",
    "        self.__buckets += other.__buckets\n",
    "    \n",
    "    def merge(self, other):\n",
    "        \"\"\" Creates a new sketch by merging this sketch's\n",
    "            counts with those of another sketch. \"\"\"\n",
    "        \n",
    "        cms = CMS(self.width(), self.__hashes)\n",
    "        cms.__buckets += self.__buckets\n",
    "        cms.__buckets += other.__buckets\n",
    "        return cms\n",
    "    \n",
    "    def inner(self, other):\n",
    "        \"\"\" returns the inner product of self and other, estimating \n",
    "            the equijoin size between the streams modeled by \n",
    "            self and other \"\"\"\n",
    "        r, = np.tensordot(self.__buckets, other.__buckets).flat\n",
    "        return r\n",
    "    \n",
    "    def minimum(self, other):\n",
    "        \"\"\" Creates a new sketch by taking the elementwise minimum \n",
    "            of this sketch and another. \"\"\"\n",
    "        cms = CMS(self.width(), self.__hashes)\n",
    "        cms.__buckets = np.minimum(self.__buckets, other.__buckets)\n",
    "        return cms\n",
    "\n",
    "    def dup(self):\n",
    "        cms = CMS(self.width(), self.__hashes)\n",
    "        cms.merge_from(self)\n",
    "        return cms"
   ]
  },
  {
   "cell_type": "code",
   "execution_count": null,
   "metadata": {},
   "outputs": [],
   "source": [
    "cms = CMS(16384, hashes_for(3,8))"
   ]
  },
  {
   "cell_type": "code",
   "execution_count": null,
   "metadata": {},
   "outputs": [],
   "source": [
    "cms.lookup(\"foo\")"
   ]
  },
  {
   "cell_type": "code",
   "execution_count": null,
   "metadata": {},
   "outputs": [],
   "source": [
    "cms.insert(\"foo\")\n",
    "cms.lookup(\"foo\")"
   ]
  },
  {
   "cell_type": "markdown",
   "metadata": {},
   "source": [
    "While hash collisions in Bloom filters lead to false positives, hash collisions in count-min sketches lead to overestimating counts.  To see how much this will affect us in practice, we can design an empirical experiment to plot the cumulative distribution of the factors that we've overestimated counts by in sketches of various sizes."
   ]
  },
  {
   "cell_type": "code",
   "execution_count": null,
   "metadata": {},
   "outputs": [],
   "source": [
    "def cms_experiment(sample_count, size, hashes, seed=0x15300625):\n",
    "    import random\n",
    "    from collections import namedtuple\n",
    "   \n",
    "    random.seed(seed)\n",
    "    cms = CMS(size, hashes)\n",
    "    \n",
    "    result = []\n",
    "    total_count = 0\n",
    "    \n",
    "    # update the counts\n",
    "    for i in range(sample_count):\n",
    "        bits = random.getrandbits(64)\n",
    "        if i % 100 == 0:\n",
    "            # every hundredth entry is a heavy hitter\n",
    "            insert_count = (bits % 512) + 1\n",
    "        else:\n",
    "            insert_count = (bits % 8) + 1\n",
    "        \n",
    "        for i in range(insert_count):\n",
    "            cms.insert(bits)\n",
    "    \n",
    "    random.seed(seed)\n",
    "    # look up the bit sequences again\n",
    "    for i in range(sample_count):\n",
    "        bits = random.getrandbits(64)\n",
    "        if i % 100 == 0:\n",
    "            # every hundredth entry is a heavy hitter\n",
    "            expected_count = (bits % 512) + 1\n",
    "        else:\n",
    "            expected_count = (bits % 8) + 1\n",
    "\n",
    "        result.append((int(cms.lookup(bits)), int(expected_count)))\n",
    "    \n",
    "    return result"
   ]
  },
  {
   "cell_type": "code",
   "execution_count": null,
   "metadata": {},
   "outputs": [],
   "source": [
    "results = cms_experiment(1 << 14, 4096, hashes_for(3, 8))\n",
    "df = pd.DataFrame.from_records(results)\n",
    "df.rename(columns={0: \"actual count\", 1: \"expected count\"}, inplace=True)\n",
    "sns.distplot(df[\"actual count\"] / df[\"expected count\"], hist_kws=dict(cumulative=True), kde_kws=dict(cumulative=True))"
   ]
  },
  {
   "cell_type": "markdown",
   "metadata": {},
   "source": [
    "As you can see, about 55% of our counts for this small sketch are overestimated by less than a factor of three, although the worst overestimates are quite large indeed.  Let's try with a larger sketch structure."
   ]
  },
  {
   "cell_type": "code",
   "execution_count": null,
   "metadata": {},
   "outputs": [],
   "source": [
    "results = cms_experiment(1 << 14, 8192, hashes_for(3, 8))\n",
    "df = pd.DataFrame.from_records(results)\n",
    "df.rename(columns={0: \"actual count\", 1: \"expected count\"}, inplace=True)\n",
    "\n",
    "sns.distplot(df[\"actual count\"] / df[\"expected count\"], hist_kws=dict(cumulative=True), kde_kws=dict(cumulative=True))"
   ]
  },
  {
   "cell_type": "markdown",
   "metadata": {},
   "source": [
    "With a larger filter size (columns) *and* more hash functions (rows), we can dramatically reduce the bias."
   ]
  },
  {
   "cell_type": "code",
   "execution_count": null,
   "metadata": {},
   "outputs": [],
   "source": [
    "results = cms_experiment(1 << 14, 8192, hashes_for(8, 5))\n",
    "df = pd.DataFrame.from_records(results)\n",
    "df.rename(columns={0: \"actual count\", 1: \"expected count\"}, inplace=True)\n",
    "\n",
    "sns.distplot(df[\"actual count\"] / df[\"expected count\"], hist_kws=dict(cumulative=True), kde_kws=dict(cumulative=True))"
   ]
  },
  {
   "cell_type": "markdown",
   "metadata": {},
   "source": [
    "## Exercises\n",
    "\n",
    "Here are some exercises to try out if you're interested in extending the count-min sketch:\n",
    "\n",
    "* The count-min sketch is a biased estimator.  Implement a technique to adjust the estimates for expected bias.\n",
    "* When paired with an auxiliary structure like a priority queue, the count-min sketch can be used to track the top-_k_ event types in a stream.  Try implementing a couple of approaches!\n",
    "* Consider how you'd handle negative inserts.  How would you need to change the query code?  What else might change?\n",
    "* The implementation includes a `minimum` method.  What might it be useful for?  What limitations might it have?\n",
    "\n"
   ]
  }
 ],
 "metadata": {
  "kernelspec": {
   "display_name": "Python 3.6",
   "language": "python",
   "name": "jupyter"
  },
  "language_info": {
   "codemirror_mode": {
    "name": "ipython",
    "version": 3
   },
   "file_extension": ".py",
   "mimetype": "text/x-python",
   "name": "python",
   "nbconvert_exporter": "python",
   "pygments_lexer": "ipython3",
   "version": "3.6.5"
  }
 },
 "nbformat": 4,
 "nbformat_minor": 2
}
