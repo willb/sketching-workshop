{
 "cells": [
  {
   "cell_type": "markdown",
   "metadata": {},
   "source": [
    "# Data Generator \n",
    "\n",
    "In this notebook we use a small, real dataset to simulate synthetic user data. The data we begin with is the 'last.fm' data set and can be found [here](http://ocelma.net/MusicRecommendationDataset/lastfm-1K.html).  \n",
    "\n",
    "The data set contains music listening history from 992 users. Specifically, we have access to the songs a user listened to, the recording artist and a timestamp for each listen. \n",
    "\n",
    "For the purpose of our application (Minhash for recommendation) it will be enough for us to just have a list of artists listened to by a user, as well as how many times they played that artist."
   ]
  },
  {
   "cell_type": "markdown",
   "metadata": {},
   "source": [
    "We begin by loading in the existing data, and extracting the artists played and number of plays for each user. "
   ]
  },
  {
   "cell_type": "code",
   "execution_count": 1,
   "metadata": {},
   "outputs": [],
   "source": [
    "import pandas as pd\n",
    "\n",
    "df = pd.read_parquet(\"data/music.parquet\")"
   ]
  },
  {
   "cell_type": "code",
   "execution_count": 2,
   "metadata": {},
   "outputs": [
    {
     "data": {
      "text/html": [
       "<div>\n",
       "<style scoped>\n",
       "    .dataframe tbody tr th:only-of-type {\n",
       "        vertical-align: middle;\n",
       "    }\n",
       "\n",
       "    .dataframe tbody tr th {\n",
       "        vertical-align: top;\n",
       "    }\n",
       "\n",
       "    .dataframe thead th {\n",
       "        text-align: right;\n",
       "    }\n",
       "</style>\n",
       "<table border=\"1\" class=\"dataframe\">\n",
       "  <thead>\n",
       "    <tr style=\"text-align: right;\">\n",
       "      <th></th>\n",
       "      <th>0</th>\n",
       "      <th>1</th>\n",
       "      <th>2</th>\n",
       "    </tr>\n",
       "  </thead>\n",
       "  <tbody>\n",
       "    <tr>\n",
       "      <th>12708245</th>\n",
       "      <td>user_000684</td>\n",
       "      <td>2006-11-20T00:52:10Z</td>\n",
       "      <td>The Tragically Hip</td>\n",
       "    </tr>\n",
       "    <tr>\n",
       "      <th>574545</th>\n",
       "      <td>user_000023</td>\n",
       "      <td>2007-11-17T09:00:20Z</td>\n",
       "      <td>Rebekah Del Rio</td>\n",
       "    </tr>\n",
       "    <tr>\n",
       "      <th>11024724</th>\n",
       "      <td>user_000590</td>\n",
       "      <td>2008-06-15T20:16:28Z</td>\n",
       "      <td>Explosions In The Sky</td>\n",
       "    </tr>\n",
       "    <tr>\n",
       "      <th>7138851</th>\n",
       "      <td>user_000366</td>\n",
       "      <td>2006-11-18T00:59:37Z</td>\n",
       "      <td>Meltiis</td>\n",
       "    </tr>\n",
       "    <tr>\n",
       "      <th>7982242</th>\n",
       "      <td>user_000427</td>\n",
       "      <td>2007-12-23T06:33:29Z</td>\n",
       "      <td>Derrick Morgan</td>\n",
       "    </tr>\n",
       "    <tr>\n",
       "      <th>7447167</th>\n",
       "      <td>user_000384</td>\n",
       "      <td>2008-07-04T14:30:41Z</td>\n",
       "      <td>Girl Talk</td>\n",
       "    </tr>\n",
       "    <tr>\n",
       "      <th>17460811</th>\n",
       "      <td>user_000906</td>\n",
       "      <td>2006-09-18T12:25:52Z</td>\n",
       "      <td>Creedence Clearwater Revisited</td>\n",
       "    </tr>\n",
       "    <tr>\n",
       "      <th>15220317</th>\n",
       "      <td>user_000793</td>\n",
       "      <td>2007-09-27T17:38:17Z</td>\n",
       "      <td>Lightning Bolt</td>\n",
       "    </tr>\n",
       "    <tr>\n",
       "      <th>13575207</th>\n",
       "      <td>user_000714</td>\n",
       "      <td>2009-03-16T06:26:37Z</td>\n",
       "      <td>Britney Spears</td>\n",
       "    </tr>\n",
       "    <tr>\n",
       "      <th>2938512</th>\n",
       "      <td>user_000147</td>\n",
       "      <td>2006-05-08T19:43:47Z</td>\n",
       "      <td>Broadcast</td>\n",
       "    </tr>\n",
       "  </tbody>\n",
       "</table>\n",
       "</div>"
      ],
      "text/plain": [
       "                    0                     1                               2\n",
       "12708245  user_000684  2006-11-20T00:52:10Z              The Tragically Hip\n",
       "574545    user_000023  2007-11-17T09:00:20Z                 Rebekah Del Rio\n",
       "11024724  user_000590  2008-06-15T20:16:28Z           Explosions In The Sky\n",
       "7138851   user_000366  2006-11-18T00:59:37Z                         Meltiis\n",
       "7982242   user_000427  2007-12-23T06:33:29Z                  Derrick Morgan\n",
       "7447167   user_000384  2008-07-04T14:30:41Z                       Girl Talk\n",
       "17460811  user_000906  2006-09-18T12:25:52Z  Creedence Clearwater Revisited\n",
       "15220317  user_000793  2007-09-27T17:38:17Z                  Lightning Bolt\n",
       "13575207  user_000714  2009-03-16T06:26:37Z                  Britney Spears\n",
       "2938512   user_000147  2006-05-08T19:43:47Z                       Broadcast"
      ]
     },
     "execution_count": 2,
     "metadata": {},
     "output_type": "execute_result"
    }
   ],
   "source": [
    "df.sample(10, random_state=1)"
   ]
  },
  {
   "cell_type": "code",
   "execution_count": 3,
   "metadata": {},
   "outputs": [
    {
     "data": {
      "text/plain": [
       "992"
      ]
     },
     "execution_count": 3,
     "metadata": {},
     "output_type": "execute_result"
    }
   ],
   "source": [
    "users = df['0'].unique()\n",
    "dusers = {x+1:y for x,y in enumerate(sorted(set(users)))}\n",
    "len(dusers)"
   ]
  },
  {
   "cell_type": "markdown",
   "metadata": {},
   "source": [
    "For each user, we want to compute the unique artists they listened to.\n",
    "and generate minhash signatures for them"
   ]
  },
  {
   "cell_type": "code",
   "execution_count": 4,
   "metadata": {},
   "outputs": [],
   "source": [
    "from datasketching.minhash import SimpleMinhash\n",
    "from datasketching.minhash import murmurmaker"
   ]
  },
  {
   "cell_type": "code",
   "execution_count": 5,
   "metadata": {},
   "outputs": [],
   "source": [
    "def generate_minhash_sig(user_dat, nhash):\n",
    "    mh = SimpleMinhash(nhash)\n",
    "    for row in user_dat:\n",
    "        mh.add(row)\n",
    "    return mh\n",
    "\n",
    "def unique_artists(df):\n",
    "    return df['2'].unique()"
   ]
  },
  {
   "cell_type": "code",
   "execution_count": 6,
   "metadata": {},
   "outputs": [],
   "source": [
    "grouped_df = df.groupby(['0'])"
   ]
  },
  {
   "cell_type": "code",
   "execution_count": 7,
   "metadata": {},
   "outputs": [],
   "source": [
    "un_artists = grouped_df.apply(unique_artists)\n",
    "mh_sigs = un_artists.apply(generate_minhash_sig, nhash = 128)"
   ]
  },
  {
   "cell_type": "code",
   "execution_count": 8,
   "metadata": {},
   "outputs": [
    {
     "data": {
      "text/plain": [
       "657"
      ]
     },
     "execution_count": 8,
     "metadata": {},
     "output_type": "execute_result"
    }
   ],
   "source": [
    "len(un_artists[0])"
   ]
  },
  {
   "cell_type": "markdown",
   "metadata": {},
   "source": [
    "from each user we are going to generate 100 pseudo users. For user x we do this by: \n",
    "    \n",
    "    1. sampling 70% of user x's listening history \n",
    "    2. finding the 10 most similar users from the existing set of users\n",
    "        a. sample 6 of these\n",
    "        b. sample 5% of each of these user's listening history (excluding *everything* that user x listened to, and everything already sampled from other users.)\n",
    "    3. apply a poisson rv to their history.\n"
   ]
  },
  {
   "cell_type": "code",
   "execution_count": 9,
   "metadata": {},
   "outputs": [],
   "source": [
    "x = mh_sigs[0]\n",
    "artists_listened = len(un_artists[0])\n",
    "sim=[]\n",
    "for mh in range(0, 992):\n",
    "    sim.append(mh_sigs[mh].similarity(mh_sigs[0]))\n",
    "\n",
    "similar = set(sorted(sim, reverse = True)[1:11])\n",
    "similar\n",
    "similar_users = ([i for i, e in enumerate(sim) if e in similar])"
   ]
  },
  {
   "cell_type": "code",
   "execution_count": 10,
   "metadata": {},
   "outputs": [
    {
     "data": {
      "text/plain": [
       "[52, 77, 355, 383, 446, 501, 836, 840, 867, 937]"
      ]
     },
     "execution_count": 10,
     "metadata": {},
     "output_type": "execute_result"
    }
   ],
   "source": [
    "similar_users"
   ]
  },
  {
   "cell_type": "code",
   "execution_count": 11,
   "metadata": {},
   "outputs": [],
   "source": [
    "from random import sample \n",
    "\n",
    "selected = sample(similar_users, 6)"
   ]
  },
  {
   "cell_type": "code",
   "execution_count": 12,
   "metadata": {},
   "outputs": [
    {
     "data": {
      "text/plain": [
       "[840, 77, 383, 836, 501, 446]"
      ]
     },
     "execution_count": 12,
     "metadata": {},
     "output_type": "execute_result"
    }
   ],
   "source": [
    "selected"
   ]
  },
  {
   "cell_type": "code",
   "execution_count": 13,
   "metadata": {},
   "outputs": [],
   "source": [
    "#### take a subsample of 70% of user 0's listening history. "
   ]
  },
  {
   "cell_type": "code",
   "execution_count": 14,
   "metadata": {},
   "outputs": [
    {
     "name": "stdout",
     "output_type": "stream",
     "text": [
      "0\n",
      "2910\n",
      "32\n",
      "1252\n",
      "64\n",
      "1342\n",
      "96\n",
      "3230\n",
      "128\n",
      "434\n",
      "160\n",
      "3800\n"
     ]
    }
   ],
   "source": [
    "import numpy as np\n",
    "\n",
    "####### all of that user's listening history \n",
    "\n",
    "heard = un_artists[0]\n",
    "listened = []\n",
    "to_sample = int(np.floor(artists_listened)*0.05)\n",
    "for u in selected:\n",
    "    print(len(listened))\n",
    "    possible = np.setdiff1d(un_artists[u], (list(un_artists[0])+listened))\n",
    "    listened = listened + list(np.random.choice(un_artists[u], size=to_sample, replace = False))\n",
    "    print(len(possible))\n",
    "\n",
    "listened = listened + list(np.random.choice(un_artists[0], size=int(np.floor(artists_listened*0.7))))\n",
    "\n"
   ]
  },
  {
   "cell_type": "code",
   "execution_count": 15,
   "metadata": {},
   "outputs": [
    {
     "data": {
      "text/plain": [
       "651"
      ]
     },
     "execution_count": 15,
     "metadata": {},
     "output_type": "execute_result"
    }
   ],
   "source": [
    "len(listened)"
   ]
  },
  {
   "cell_type": "code",
   "execution_count": 16,
   "metadata": {},
   "outputs": [],
   "source": [
    "def user_data(user, grouped_data, dusers):\n",
    "    return grouped_data.get_group(dusers[user]) "
   ]
  },
  {
   "cell_type": "code",
   "execution_count": 17,
   "metadata": {},
   "outputs": [],
   "source": [
    "\n",
    "def top_k_listens(listening_history, k=artists_listened):\n",
    "    hist = listening_history.groupby(['2'])\n",
    "    return hist.count().sort_values(by='0', ascending=False) #.head(k).index.values"
   ]
  },
  {
   "cell_type": "code",
   "execution_count": 18,
   "metadata": {},
   "outputs": [],
   "source": [
    "u_0 = user_data(1, grouped_df, dusers)"
   ]
  },
  {
   "cell_type": "code",
   "execution_count": 19,
   "metadata": {},
   "outputs": [],
   "source": [
    "listen_vals = top_k_listens(u_0)['1'].values"
   ]
  },
  {
   "cell_type": "code",
   "execution_count": 20,
   "metadata": {},
   "outputs": [],
   "source": [
    "## that's the number of listens. "
   ]
  },
  {
   "cell_type": "code",
   "execution_count": 21,
   "metadata": {},
   "outputs": [],
   "source": [
    "user_plays = np.random.choice(listen_vals, size=len(listened), replace = False)"
   ]
  },
  {
   "cell_type": "code",
   "execution_count": 22,
   "metadata": {},
   "outputs": [
    {
     "data": {
      "text/plain": [
       "list"
      ]
     },
     "execution_count": 22,
     "metadata": {},
     "output_type": "execute_result"
    }
   ],
   "source": [
    "type(listened)"
   ]
  },
  {
   "cell_type": "code",
   "execution_count": 23,
   "metadata": {},
   "outputs": [
    {
     "data": {
      "text/plain": [
       "numpy.ndarray"
      ]
     },
     "execution_count": 23,
     "metadata": {},
     "output_type": "execute_result"
    }
   ],
   "source": [
    "type(user_plays)"
   ]
  },
  {
   "cell_type": "code",
   "execution_count": 24,
   "metadata": {},
   "outputs": [],
   "source": [
    "user_data = {'user':np.repeat('user_0',len(listened), axis=0) , 'artist':listened, 'plays':user_plays} \n",
    "user_df = pd.DataFrame(user_data) "
   ]
  },
  {
   "cell_type": "code",
   "execution_count": 25,
   "metadata": {},
   "outputs": [
    {
     "data": {
      "text/html": [
       "<div>\n",
       "<style scoped>\n",
       "    .dataframe tbody tr th:only-of-type {\n",
       "        vertical-align: middle;\n",
       "    }\n",
       "\n",
       "    .dataframe tbody tr th {\n",
       "        vertical-align: top;\n",
       "    }\n",
       "\n",
       "    .dataframe thead th {\n",
       "        text-align: right;\n",
       "    }\n",
       "</style>\n",
       "<table border=\"1\" class=\"dataframe\">\n",
       "  <thead>\n",
       "    <tr style=\"text-align: right;\">\n",
       "      <th></th>\n",
       "      <th>user</th>\n",
       "      <th>artist</th>\n",
       "      <th>plays</th>\n",
       "    </tr>\n",
       "  </thead>\n",
       "  <tbody>\n",
       "    <tr>\n",
       "      <th>0</th>\n",
       "      <td>user_0</td>\n",
       "      <td>Angus And Julia Stone</td>\n",
       "      <td>7</td>\n",
       "    </tr>\n",
       "    <tr>\n",
       "      <th>1</th>\n",
       "      <td>user_0</td>\n",
       "      <td>Pink Martini</td>\n",
       "      <td>16</td>\n",
       "    </tr>\n",
       "    <tr>\n",
       "      <th>2</th>\n",
       "      <td>user_0</td>\n",
       "      <td>Total Science Vs Undercover Agent</td>\n",
       "      <td>1</td>\n",
       "    </tr>\n",
       "    <tr>\n",
       "      <th>3</th>\n",
       "      <td>user_0</td>\n",
       "      <td>Kubiks</td>\n",
       "      <td>115</td>\n",
       "    </tr>\n",
       "    <tr>\n",
       "      <th>4</th>\n",
       "      <td>user_0</td>\n",
       "      <td>Pinch</td>\n",
       "      <td>3</td>\n",
       "    </tr>\n",
       "    <tr>\n",
       "      <th>5</th>\n",
       "      <td>user_0</td>\n",
       "      <td>Put Your Woman First</td>\n",
       "      <td>1</td>\n",
       "    </tr>\n",
       "    <tr>\n",
       "      <th>6</th>\n",
       "      <td>user_0</td>\n",
       "      <td>Paolo Fedreghini</td>\n",
       "      <td>3</td>\n",
       "    </tr>\n",
       "    <tr>\n",
       "      <th>7</th>\n",
       "      <td>user_0</td>\n",
       "      <td>Solar Fields</td>\n",
       "      <td>15</td>\n",
       "    </tr>\n",
       "    <tr>\n",
       "      <th>8</th>\n",
       "      <td>user_0</td>\n",
       "      <td>Teebee</td>\n",
       "      <td>2</td>\n",
       "    </tr>\n",
       "    <tr>\n",
       "      <th>9</th>\n",
       "      <td>user_0</td>\n",
       "      <td>The Sentinel</td>\n",
       "      <td>1</td>\n",
       "    </tr>\n",
       "    <tr>\n",
       "      <th>10</th>\n",
       "      <td>user_0</td>\n",
       "      <td>Mystery School Ensemble</td>\n",
       "      <td>1</td>\n",
       "    </tr>\n",
       "    <tr>\n",
       "      <th>11</th>\n",
       "      <td>user_0</td>\n",
       "      <td>The Militia And Concord Dawn</td>\n",
       "      <td>2</td>\n",
       "    </tr>\n",
       "    <tr>\n",
       "      <th>12</th>\n",
       "      <td>user_0</td>\n",
       "      <td>Ill Logic &amp; Dj Raf</td>\n",
       "      <td>1</td>\n",
       "    </tr>\n",
       "    <tr>\n",
       "      <th>13</th>\n",
       "      <td>user_0</td>\n",
       "      <td>Apocalyptica</td>\n",
       "      <td>2</td>\n",
       "    </tr>\n",
       "    <tr>\n",
       "      <th>14</th>\n",
       "      <td>user_0</td>\n",
       "      <td>Zero Db</td>\n",
       "      <td>10</td>\n",
       "    </tr>\n",
       "    <tr>\n",
       "      <th>15</th>\n",
       "      <td>user_0</td>\n",
       "      <td>P.B.K.</td>\n",
       "      <td>53</td>\n",
       "    </tr>\n",
       "    <tr>\n",
       "      <th>16</th>\n",
       "      <td>user_0</td>\n",
       "      <td>Stanisław Sojka</td>\n",
       "      <td>4</td>\n",
       "    </tr>\n",
       "    <tr>\n",
       "      <th>17</th>\n",
       "      <td>user_0</td>\n",
       "      <td>Audio Maze</td>\n",
       "      <td>2</td>\n",
       "    </tr>\n",
       "    <tr>\n",
       "      <th>18</th>\n",
       "      <td>user_0</td>\n",
       "      <td>Dj Renegade</td>\n",
       "      <td>7</td>\n",
       "    </tr>\n",
       "    <tr>\n",
       "      <th>19</th>\n",
       "      <td>user_0</td>\n",
       "      <td>The Chemical Brothers</td>\n",
       "      <td>1</td>\n",
       "    </tr>\n",
       "    <tr>\n",
       "      <th>20</th>\n",
       "      <td>user_0</td>\n",
       "      <td>The Timewriter</td>\n",
       "      <td>31</td>\n",
       "    </tr>\n",
       "    <tr>\n",
       "      <th>21</th>\n",
       "      <td>user_0</td>\n",
       "      <td>Mosus And Kiljoy</td>\n",
       "      <td>3</td>\n",
       "    </tr>\n",
       "    <tr>\n",
       "      <th>22</th>\n",
       "      <td>user_0</td>\n",
       "      <td>Alter Ego</td>\n",
       "      <td>26</td>\n",
       "    </tr>\n",
       "    <tr>\n",
       "      <th>23</th>\n",
       "      <td>user_0</td>\n",
       "      <td>Gescom</td>\n",
       "      <td>1</td>\n",
       "    </tr>\n",
       "    <tr>\n",
       "      <th>24</th>\n",
       "      <td>user_0</td>\n",
       "      <td>Dj Marky And Xrs Feat Cleveland Watkiss</td>\n",
       "      <td>4</td>\n",
       "    </tr>\n",
       "    <tr>\n",
       "      <th>25</th>\n",
       "      <td>user_0</td>\n",
       "      <td>Love Spirals Downwards</td>\n",
       "      <td>11</td>\n",
       "    </tr>\n",
       "    <tr>\n",
       "      <th>26</th>\n",
       "      <td>user_0</td>\n",
       "      <td>Break &amp; Survival</td>\n",
       "      <td>2</td>\n",
       "    </tr>\n",
       "    <tr>\n",
       "      <th>27</th>\n",
       "      <td>user_0</td>\n",
       "      <td>Zomby</td>\n",
       "      <td>37</td>\n",
       "    </tr>\n",
       "    <tr>\n",
       "      <th>28</th>\n",
       "      <td>user_0</td>\n",
       "      <td>Mav &amp; Implex</td>\n",
       "      <td>6</td>\n",
       "    </tr>\n",
       "    <tr>\n",
       "      <th>29</th>\n",
       "      <td>user_0</td>\n",
       "      <td>Television</td>\n",
       "      <td>3</td>\n",
       "    </tr>\n",
       "    <tr>\n",
       "      <th>...</th>\n",
       "      <td>...</td>\n",
       "      <td>...</td>\n",
       "      <td>...</td>\n",
       "    </tr>\n",
       "    <tr>\n",
       "      <th>621</th>\n",
       "      <td>user_0</td>\n",
       "      <td>Caroline Peyton</td>\n",
       "      <td>1</td>\n",
       "    </tr>\n",
       "    <tr>\n",
       "      <th>622</th>\n",
       "      <td>user_0</td>\n",
       "      <td>Janet Jackson</td>\n",
       "      <td>1</td>\n",
       "    </tr>\n",
       "    <tr>\n",
       "      <th>623</th>\n",
       "      <td>user_0</td>\n",
       "      <td>Sébastien Tellier</td>\n",
       "      <td>1</td>\n",
       "    </tr>\n",
       "    <tr>\n",
       "      <th>624</th>\n",
       "      <td>user_0</td>\n",
       "      <td>Lucky &amp; Easy</td>\n",
       "      <td>8</td>\n",
       "    </tr>\n",
       "    <tr>\n",
       "      <th>625</th>\n",
       "      <td>user_0</td>\n",
       "      <td>Masakatsu Takagi+David Sylvian</td>\n",
       "      <td>25</td>\n",
       "    </tr>\n",
       "    <tr>\n",
       "      <th>626</th>\n",
       "      <td>user_0</td>\n",
       "      <td>The Rurals</td>\n",
       "      <td>25</td>\n",
       "    </tr>\n",
       "    <tr>\n",
       "      <th>627</th>\n",
       "      <td>user_0</td>\n",
       "      <td>Kissey Asplund</td>\n",
       "      <td>1</td>\n",
       "    </tr>\n",
       "    <tr>\n",
       "      <th>628</th>\n",
       "      <td>user_0</td>\n",
       "      <td>Rasmus Faber Feat. Dyanna Fearon</td>\n",
       "      <td>4</td>\n",
       "    </tr>\n",
       "    <tr>\n",
       "      <th>629</th>\n",
       "      <td>user_0</td>\n",
       "      <td>Thief</td>\n",
       "      <td>24</td>\n",
       "    </tr>\n",
       "    <tr>\n",
       "      <th>630</th>\n",
       "      <td>user_0</td>\n",
       "      <td>Johnny Blas</td>\n",
       "      <td>1</td>\n",
       "    </tr>\n",
       "    <tr>\n",
       "      <th>631</th>\n",
       "      <td>user_0</td>\n",
       "      <td>Markus Enochson</td>\n",
       "      <td>214</td>\n",
       "    </tr>\n",
       "    <tr>\n",
       "      <th>632</th>\n",
       "      <td>user_0</td>\n",
       "      <td>Luke Slater</td>\n",
       "      <td>2</td>\n",
       "    </tr>\n",
       "    <tr>\n",
       "      <th>633</th>\n",
       "      <td>user_0</td>\n",
       "      <td>Louie Austen</td>\n",
       "      <td>9</td>\n",
       "    </tr>\n",
       "    <tr>\n",
       "      <th>634</th>\n",
       "      <td>user_0</td>\n",
       "      <td>Dub Tractor</td>\n",
       "      <td>2</td>\n",
       "    </tr>\n",
       "    <tr>\n",
       "      <th>635</th>\n",
       "      <td>user_0</td>\n",
       "      <td>Quasimode</td>\n",
       "      <td>51</td>\n",
       "    </tr>\n",
       "    <tr>\n",
       "      <th>636</th>\n",
       "      <td>user_0</td>\n",
       "      <td>U2</td>\n",
       "      <td>1</td>\n",
       "    </tr>\n",
       "    <tr>\n",
       "      <th>637</th>\n",
       "      <td>user_0</td>\n",
       "      <td>Kaito</td>\n",
       "      <td>11</td>\n",
       "    </tr>\n",
       "    <tr>\n",
       "      <th>638</th>\n",
       "      <td>user_0</td>\n",
       "      <td>Gaiser</td>\n",
       "      <td>2</td>\n",
       "    </tr>\n",
       "    <tr>\n",
       "      <th>639</th>\n",
       "      <td>user_0</td>\n",
       "      <td>Skindo-Le-Le</td>\n",
       "      <td>1</td>\n",
       "    </tr>\n",
       "    <tr>\n",
       "      <th>640</th>\n",
       "      <td>user_0</td>\n",
       "      <td>Vision</td>\n",
       "      <td>1</td>\n",
       "    </tr>\n",
       "    <tr>\n",
       "      <th>641</th>\n",
       "      <td>user_0</td>\n",
       "      <td>Afx</td>\n",
       "      <td>8</td>\n",
       "    </tr>\n",
       "    <tr>\n",
       "      <th>642</th>\n",
       "      <td>user_0</td>\n",
       "      <td>4 Wings</td>\n",
       "      <td>13</td>\n",
       "    </tr>\n",
       "    <tr>\n",
       "      <th>643</th>\n",
       "      <td>user_0</td>\n",
       "      <td>Bichi</td>\n",
       "      <td>4</td>\n",
       "    </tr>\n",
       "    <tr>\n",
       "      <th>644</th>\n",
       "      <td>user_0</td>\n",
       "      <td>Kissey Asplund</td>\n",
       "      <td>10</td>\n",
       "    </tr>\n",
       "    <tr>\n",
       "      <th>645</th>\n",
       "      <td>user_0</td>\n",
       "      <td>Spencer Parker</td>\n",
       "      <td>7</td>\n",
       "    </tr>\n",
       "    <tr>\n",
       "      <th>646</th>\n",
       "      <td>user_0</td>\n",
       "      <td>Bombilla</td>\n",
       "      <td>2</td>\n",
       "    </tr>\n",
       "    <tr>\n",
       "      <th>647</th>\n",
       "      <td>user_0</td>\n",
       "      <td>Richie Hawtin</td>\n",
       "      <td>42</td>\n",
       "    </tr>\n",
       "    <tr>\n",
       "      <th>648</th>\n",
       "      <td>user_0</td>\n",
       "      <td>Dbx</td>\n",
       "      <td>3</td>\n",
       "    </tr>\n",
       "    <tr>\n",
       "      <th>649</th>\n",
       "      <td>user_0</td>\n",
       "      <td>Dharma</td>\n",
       "      <td>10</td>\n",
       "    </tr>\n",
       "    <tr>\n",
       "      <th>650</th>\n",
       "      <td>user_0</td>\n",
       "      <td>Electric Conversation</td>\n",
       "      <td>33</td>\n",
       "    </tr>\n",
       "  </tbody>\n",
       "</table>\n",
       "<p>651 rows × 3 columns</p>\n",
       "</div>"
      ],
      "text/plain": [
       "       user                                   artist  plays\n",
       "0    user_0                    Angus And Julia Stone      7\n",
       "1    user_0                             Pink Martini     16\n",
       "2    user_0        Total Science Vs Undercover Agent      1\n",
       "3    user_0                                   Kubiks    115\n",
       "4    user_0                                    Pinch      3\n",
       "5    user_0                     Put Your Woman First      1\n",
       "6    user_0                         Paolo Fedreghini      3\n",
       "7    user_0                             Solar Fields     15\n",
       "8    user_0                                   Teebee      2\n",
       "9    user_0                             The Sentinel      1\n",
       "10   user_0                  Mystery School Ensemble      1\n",
       "11   user_0             The Militia And Concord Dawn      2\n",
       "12   user_0                       Ill Logic & Dj Raf      1\n",
       "13   user_0                             Apocalyptica      2\n",
       "14   user_0                                  Zero Db     10\n",
       "15   user_0                                   P.B.K.     53\n",
       "16   user_0                          Stanisław Sojka      4\n",
       "17   user_0                               Audio Maze      2\n",
       "18   user_0                              Dj Renegade      7\n",
       "19   user_0                    The Chemical Brothers      1\n",
       "20   user_0                           The Timewriter     31\n",
       "21   user_0                         Mosus And Kiljoy      3\n",
       "22   user_0                                Alter Ego     26\n",
       "23   user_0                                   Gescom      1\n",
       "24   user_0  Dj Marky And Xrs Feat Cleveland Watkiss      4\n",
       "25   user_0                   Love Spirals Downwards     11\n",
       "26   user_0                         Break & Survival      2\n",
       "27   user_0                                    Zomby     37\n",
       "28   user_0                             Mav & Implex      6\n",
       "29   user_0                               Television      3\n",
       "..      ...                                      ...    ...\n",
       "621  user_0                          Caroline Peyton      1\n",
       "622  user_0                            Janet Jackson      1\n",
       "623  user_0                        Sébastien Tellier      1\n",
       "624  user_0                             Lucky & Easy      8\n",
       "625  user_0           Masakatsu Takagi+David Sylvian     25\n",
       "626  user_0                               The Rurals     25\n",
       "627  user_0                           Kissey Asplund      1\n",
       "628  user_0         Rasmus Faber Feat. Dyanna Fearon      4\n",
       "629  user_0                                    Thief     24\n",
       "630  user_0                              Johnny Blas      1\n",
       "631  user_0                          Markus Enochson    214\n",
       "632  user_0                              Luke Slater      2\n",
       "633  user_0                             Louie Austen      9\n",
       "634  user_0                              Dub Tractor      2\n",
       "635  user_0                                Quasimode     51\n",
       "636  user_0                                       U2      1\n",
       "637  user_0                                    Kaito     11\n",
       "638  user_0                                   Gaiser      2\n",
       "639  user_0                             Skindo-Le-Le      1\n",
       "640  user_0                                   Vision      1\n",
       "641  user_0                                      Afx      8\n",
       "642  user_0                                  4 Wings     13\n",
       "643  user_0                                    Bichi      4\n",
       "644  user_0                           Kissey Asplund     10\n",
       "645  user_0                           Spencer Parker      7\n",
       "646  user_0                                 Bombilla      2\n",
       "647  user_0                            Richie Hawtin     42\n",
       "648  user_0                                      Dbx      3\n",
       "649  user_0                                   Dharma     10\n",
       "650  user_0                    Electric Conversation     33\n",
       "\n",
       "[651 rows x 3 columns]"
      ]
     },
     "execution_count": 25,
     "metadata": {},
     "output_type": "execute_result"
    }
   ],
   "source": [
    "user_df"
   ]
  },
  {
   "cell_type": "code",
   "execution_count": null,
   "metadata": {},
   "outputs": [],
   "source": []
  }
 ],
 "metadata": {
  "kernelspec": {
   "display_name": "Python 3",
   "language": "python",
   "name": "python3"
  },
  "language_info": {
   "codemirror_mode": {
    "name": "ipython",
    "version": 3
   },
   "file_extension": ".py",
   "mimetype": "text/x-python",
   "name": "python",
   "nbconvert_exporter": "python",
   "pygments_lexer": "ipython3",
   "version": "3.6.8"
  }
 },
 "nbformat": 4,
 "nbformat_minor": 2
}
