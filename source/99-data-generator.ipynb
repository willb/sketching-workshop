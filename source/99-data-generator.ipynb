{
 "cells": [
  {
   "cell_type": "markdown",
   "metadata": {},
   "source": [
    "# Data Generator \n",
    "\n",
    "In this notebook we use a small, real dataset to simulate synthetic user data. The data we begin with is the 'last.fm' data set and can be found [here](http://ocelma.net/MusicRecommendationDataset/lastfm-1K.html).  \n",
    "\n",
    "The data set contains music listening history from 992 users. Specifically, we have access to the songs a user listened to, the recording artist and a timestamp for each listen. \n",
    "\n",
    "For the purpose of our application (Minhash for recommendation) it will be enough for us to just have a list of artists listened to by a user, as well as how many times they played that artist."
   ]
  },
  {
   "cell_type": "markdown",
   "metadata": {},
   "source": [
    "We begin by loading in the existing data, and extracting the artists played and number of plays for each user. "
   ]
  },
  {
   "cell_type": "code",
   "execution_count": 1,
   "metadata": {},
   "outputs": [],
   "source": [
    "import pandas as pd\n",
    "\n",
    "df = pd.read_parquet(\"data/music.parquet\")"
   ]
  },
  {
   "cell_type": "code",
   "execution_count": 2,
   "metadata": {},
   "outputs": [
    {
     "data": {
      "text/html": [
       "<div>\n",
       "<style scoped>\n",
       "    .dataframe tbody tr th:only-of-type {\n",
       "        vertical-align: middle;\n",
       "    }\n",
       "\n",
       "    .dataframe tbody tr th {\n",
       "        vertical-align: top;\n",
       "    }\n",
       "\n",
       "    .dataframe thead th {\n",
       "        text-align: right;\n",
       "    }\n",
       "</style>\n",
       "<table border=\"1\" class=\"dataframe\">\n",
       "  <thead>\n",
       "    <tr style=\"text-align: right;\">\n",
       "      <th></th>\n",
       "      <th>0</th>\n",
       "      <th>1</th>\n",
       "      <th>2</th>\n",
       "    </tr>\n",
       "  </thead>\n",
       "  <tbody>\n",
       "    <tr>\n",
       "      <th>12708245</th>\n",
       "      <td>user_000684</td>\n",
       "      <td>2006-11-20T00:52:10Z</td>\n",
       "      <td>The Tragically Hip</td>\n",
       "    </tr>\n",
       "    <tr>\n",
       "      <th>574545</th>\n",
       "      <td>user_000023</td>\n",
       "      <td>2007-11-17T09:00:20Z</td>\n",
       "      <td>Rebekah Del Rio</td>\n",
       "    </tr>\n",
       "    <tr>\n",
       "      <th>11024724</th>\n",
       "      <td>user_000590</td>\n",
       "      <td>2008-06-15T20:16:28Z</td>\n",
       "      <td>Explosions In The Sky</td>\n",
       "    </tr>\n",
       "    <tr>\n",
       "      <th>7138851</th>\n",
       "      <td>user_000366</td>\n",
       "      <td>2006-11-18T00:59:37Z</td>\n",
       "      <td>Meltiis</td>\n",
       "    </tr>\n",
       "    <tr>\n",
       "      <th>7982242</th>\n",
       "      <td>user_000427</td>\n",
       "      <td>2007-12-23T06:33:29Z</td>\n",
       "      <td>Derrick Morgan</td>\n",
       "    </tr>\n",
       "    <tr>\n",
       "      <th>7447167</th>\n",
       "      <td>user_000384</td>\n",
       "      <td>2008-07-04T14:30:41Z</td>\n",
       "      <td>Girl Talk</td>\n",
       "    </tr>\n",
       "    <tr>\n",
       "      <th>17460811</th>\n",
       "      <td>user_000906</td>\n",
       "      <td>2006-09-18T12:25:52Z</td>\n",
       "      <td>Creedence Clearwater Revisited</td>\n",
       "    </tr>\n",
       "    <tr>\n",
       "      <th>15220317</th>\n",
       "      <td>user_000793</td>\n",
       "      <td>2007-09-27T17:38:17Z</td>\n",
       "      <td>Lightning Bolt</td>\n",
       "    </tr>\n",
       "    <tr>\n",
       "      <th>13575207</th>\n",
       "      <td>user_000714</td>\n",
       "      <td>2009-03-16T06:26:37Z</td>\n",
       "      <td>Britney Spears</td>\n",
       "    </tr>\n",
       "    <tr>\n",
       "      <th>2938512</th>\n",
       "      <td>user_000147</td>\n",
       "      <td>2006-05-08T19:43:47Z</td>\n",
       "      <td>Broadcast</td>\n",
       "    </tr>\n",
       "  </tbody>\n",
       "</table>\n",
       "</div>"
      ],
      "text/plain": [
       "                    0                     1                               2\n",
       "12708245  user_000684  2006-11-20T00:52:10Z              The Tragically Hip\n",
       "574545    user_000023  2007-11-17T09:00:20Z                 Rebekah Del Rio\n",
       "11024724  user_000590  2008-06-15T20:16:28Z           Explosions In The Sky\n",
       "7138851   user_000366  2006-11-18T00:59:37Z                         Meltiis\n",
       "7982242   user_000427  2007-12-23T06:33:29Z                  Derrick Morgan\n",
       "7447167   user_000384  2008-07-04T14:30:41Z                       Girl Talk\n",
       "17460811  user_000906  2006-09-18T12:25:52Z  Creedence Clearwater Revisited\n",
       "15220317  user_000793  2007-09-27T17:38:17Z                  Lightning Bolt\n",
       "13575207  user_000714  2009-03-16T06:26:37Z                  Britney Spears\n",
       "2938512   user_000147  2006-05-08T19:43:47Z                       Broadcast"
      ]
     },
     "execution_count": 2,
     "metadata": {},
     "output_type": "execute_result"
    }
   ],
   "source": [
    "df.sample(10, random_state=1)"
   ]
  },
  {
   "cell_type": "code",
   "execution_count": 3,
   "metadata": {},
   "outputs": [
    {
     "data": {
      "text/plain": [
       "992"
      ]
     },
     "execution_count": 3,
     "metadata": {},
     "output_type": "execute_result"
    }
   ],
   "source": [
    "users = df['0'].unique()\n",
    "dusers = {x+1:y for x,y in enumerate(sorted(set(users)))}\n",
    "len(dusers)"
   ]
  },
  {
   "cell_type": "markdown",
   "metadata": {},
   "source": [
    "For each user, we want to compute the unique artists they listened to.\n",
    "and generate minhash signatures for them"
   ]
  },
  {
   "cell_type": "code",
   "execution_count": 4,
   "metadata": {},
   "outputs": [],
   "source": [
    "from datasketching.minhash import SimpleMinhash\n",
    "from datasketching.minhash import murmurmaker"
   ]
  },
  {
   "cell_type": "code",
   "execution_count": 5,
   "metadata": {},
   "outputs": [],
   "source": [
    "def generate_minhash_sig(user_dat, nhash):\n",
    "    mh = SimpleMinhash(nhash)\n",
    "    for row in user_dat:\n",
    "        mh.add(row)\n",
    "    return mh\n",
    "\n",
    "def unique_artists(df):\n",
    "    return df['2'].unique()"
   ]
  },
  {
   "cell_type": "code",
   "execution_count": 6,
   "metadata": {},
   "outputs": [],
   "source": [
    "grouped_df = df.groupby(['0'])"
   ]
  },
  {
   "cell_type": "code",
   "execution_count": 7,
   "metadata": {},
   "outputs": [],
   "source": [
    "un_artists = grouped_df.apply(unique_artists)\n",
    "mh_sigs = un_artists.apply(generate_minhash_sig, nhash = 128)"
   ]
  },
  {
   "cell_type": "code",
   "execution_count": 8,
   "metadata": {},
   "outputs": [
    {
     "data": {
      "text/plain": [
       "657"
      ]
     },
     "execution_count": 8,
     "metadata": {},
     "output_type": "execute_result"
    }
   ],
   "source": [
    "len(un_artists[0])"
   ]
  },
  {
   "cell_type": "markdown",
   "metadata": {},
   "source": [
    "from each user we are going to generate pseudo users. For user x we do this by: \n",
    "    \n",
    "    1. sampling 70% of user x's listening history \n",
    "    2. finding the 10 most similar users from the existing set of users\n",
    "        a. sample 6 of these\n",
    "        b. sample 5% of each of these user's listening history (excluding *everything* that user x listened to, and everything already sampled from other users.)\n",
    "    3. sample the frequency of plays for each artist randomly, without replacement, from user x's play frequencies. \n"
   ]
  },
  {
   "cell_type": "code",
   "execution_count": 9,
   "metadata": {},
   "outputs": [],
   "source": [
    "x = mh_sigs[0]\n",
    "artists_listened = len(un_artists[0])\n",
    "sim=[]\n",
    "for mh in range(0, 992):\n",
    "    sim.append(mh_sigs[mh].similarity(mh_sigs[0]))\n",
    "\n",
    "similar = set(sorted(sim, reverse = True)[1:11])\n",
    "similar\n",
    "similar_users = ([i for i, e in enumerate(sim) if e in similar])"
   ]
  },
  {
   "cell_type": "code",
   "execution_count": 10,
   "metadata": {},
   "outputs": [
    {
     "data": {
      "text/plain": [
       "[52, 77, 355, 383, 446, 501, 836, 840, 867, 937]"
      ]
     },
     "execution_count": 10,
     "metadata": {},
     "output_type": "execute_result"
    }
   ],
   "source": [
    "similar_users"
   ]
  },
  {
   "cell_type": "code",
   "execution_count": 11,
   "metadata": {},
   "outputs": [],
   "source": [
    "from random import sample \n",
    "\n",
    "selected = sample(similar_users, 6)"
   ]
  },
  {
   "cell_type": "code",
   "execution_count": 12,
   "metadata": {},
   "outputs": [
    {
     "data": {
      "text/plain": [
       "[836, 501, 867, 383, 840, 77]"
      ]
     },
     "execution_count": 12,
     "metadata": {},
     "output_type": "execute_result"
    }
   ],
   "source": [
    "selected"
   ]
  },
  {
   "cell_type": "code",
   "execution_count": 13,
   "metadata": {},
   "outputs": [],
   "source": [
    "import numpy as np\n",
    "\n",
    "####### all of that user's listening history \n",
    "\n",
    "heard = un_artists[0]\n",
    "listened = []\n",
    "to_sample = int(np.floor(artists_listened)*0.05)\n",
    "for u in selected:\n",
    "    possible = np.setdiff1d(un_artists[u], (list(un_artists[0])+listened))\n",
    "    listened = listened + list(np.random.choice(un_artists[u], size=to_sample, replace = False))\n",
    "\n",
    "    \n",
    "#### take a subsample of 70% of user 0's listening history. \n",
    "listened = listened + list(np.random.choice(un_artists[0], size=int(np.floor(artists_listened*0.7))))"
   ]
  },
  {
   "cell_type": "code",
   "execution_count": 14,
   "metadata": {},
   "outputs": [
    {
     "data": {
      "text/plain": [
       "array([ 26,   1,   1,   2, 146,  64,   2,   1,   5,   4,   3,   2,  21,\n",
       "         1,  86,  18,   5,   1, 128,   6,  15,   2,   5,   1,  12,   5,\n",
       "         2,   7,   1,   4,  35,   1,   1,   2,   1,   1,   6,   8,  21,\n",
       "         4,  10,   7,  19,   1,   4,   1,   1,   2,   8,   1,   7,   5,\n",
       "         4,   3,  76,   4,   8,   9,  19,   1,   1,   1,  14, 448,   1,\n",
       "         4,   1,   1,   1, 180,   6,  12,  17,   1,   1,   4,   1,  13,\n",
       "        16,   4,   1, 100,   3,  67,   6,   1,   1,  11,   2, 115,   4,\n",
       "         1,   1,   7,   1,   1,  12,   1,   4,  22])"
      ]
     },
     "execution_count": 14,
     "metadata": {},
     "output_type": "execute_result"
    }
   ],
   "source": [
    "listen_vals = grouped_df.get_group(dusers[1]).groupby(['2']).count()['1'].values\n",
    "listen_vals[0:100]"
   ]
  },
  {
   "cell_type": "code",
   "execution_count": 15,
   "metadata": {},
   "outputs": [],
   "source": [
    "user_plays = np.random.choice(listen_vals, size=len(listened), replace = False)"
   ]
  },
  {
   "cell_type": "code",
   "execution_count": 16,
   "metadata": {},
   "outputs": [],
   "source": [
    "user_data = {'user':np.repeat('user_0',len(listened), axis=0), 'artist':listened, 'plays':user_plays} \n",
    "user_df = pd.DataFrame(user_data) "
   ]
  },
  {
   "cell_type": "code",
   "execution_count": 17,
   "metadata": {},
   "outputs": [
    {
     "data": {
      "text/html": [
       "<div>\n",
       "<style scoped>\n",
       "    .dataframe tbody tr th:only-of-type {\n",
       "        vertical-align: middle;\n",
       "    }\n",
       "\n",
       "    .dataframe tbody tr th {\n",
       "        vertical-align: top;\n",
       "    }\n",
       "\n",
       "    .dataframe thead th {\n",
       "        text-align: right;\n",
       "    }\n",
       "</style>\n",
       "<table border=\"1\" class=\"dataframe\">\n",
       "  <thead>\n",
       "    <tr style=\"text-align: right;\">\n",
       "      <th></th>\n",
       "      <th>user</th>\n",
       "      <th>artist</th>\n",
       "      <th>plays</th>\n",
       "    </tr>\n",
       "  </thead>\n",
       "  <tbody>\n",
       "    <tr>\n",
       "      <th>397</th>\n",
       "      <td>user_0</td>\n",
       "      <td>Hagen String Quartett</td>\n",
       "      <td>1</td>\n",
       "    </tr>\n",
       "    <tr>\n",
       "      <th>353</th>\n",
       "      <td>user_0</td>\n",
       "      <td>Alva Noto</td>\n",
       "      <td>1</td>\n",
       "    </tr>\n",
       "    <tr>\n",
       "      <th>7</th>\n",
       "      <td>user_0</td>\n",
       "      <td>Älien Mutation</td>\n",
       "      <td>1</td>\n",
       "    </tr>\n",
       "    <tr>\n",
       "      <th>510</th>\n",
       "      <td>user_0</td>\n",
       "      <td>A Hundred Birds</td>\n",
       "      <td>4</td>\n",
       "    </tr>\n",
       "    <tr>\n",
       "      <th>628</th>\n",
       "      <td>user_0</td>\n",
       "      <td>Will Web</td>\n",
       "      <td>29</td>\n",
       "    </tr>\n",
       "    <tr>\n",
       "      <th>261</th>\n",
       "      <td>user_0</td>\n",
       "      <td>Steve Orchard</td>\n",
       "      <td>1</td>\n",
       "    </tr>\n",
       "    <tr>\n",
       "      <th>169</th>\n",
       "      <td>user_0</td>\n",
       "      <td>Maroon 5</td>\n",
       "      <td>13</td>\n",
       "    </tr>\n",
       "    <tr>\n",
       "      <th>473</th>\n",
       "      <td>user_0</td>\n",
       "      <td>Hagen String Quartett</td>\n",
       "      <td>1</td>\n",
       "    </tr>\n",
       "    <tr>\n",
       "      <th>231</th>\n",
       "      <td>user_0</td>\n",
       "      <td>Pleasure</td>\n",
       "      <td>2</td>\n",
       "    </tr>\n",
       "    <tr>\n",
       "      <th>121</th>\n",
       "      <td>user_0</td>\n",
       "      <td>Gil Scott-Heron</td>\n",
       "      <td>2</td>\n",
       "    </tr>\n",
       "  </tbody>\n",
       "</table>\n",
       "</div>"
      ],
      "text/plain": [
       "       user                 artist  plays\n",
       "397  user_0  Hagen String Quartett      1\n",
       "353  user_0              Alva Noto      1\n",
       "7    user_0         Älien Mutation      1\n",
       "510  user_0        A Hundred Birds      4\n",
       "628  user_0               Will Web     29\n",
       "261  user_0          Steve Orchard      1\n",
       "169  user_0               Maroon 5     13\n",
       "473  user_0  Hagen String Quartett      1\n",
       "231  user_0               Pleasure      2\n",
       "121  user_0        Gil Scott-Heron      2"
      ]
     },
     "execution_count": 17,
     "metadata": {},
     "output_type": "execute_result"
    }
   ],
   "source": [
    "user_df.sample(10)"
   ]
  },
  {
   "cell_type": "markdown",
   "metadata": {},
   "source": [
    "Now we wrap this in a function to simulate multiple pseudo users from each user. "
   ]
  },
  {
   "cell_type": "code",
   "execution_count": 18,
   "metadata": {},
   "outputs": [
    {
     "name": "stdout",
     "output_type": "stream",
     "text": [
      "0\n",
      "1\n",
      "1\n",
      "2\n",
      "2\n",
      "3\n",
      "3\n",
      "4\n",
      "4\n",
      "5\n",
      "5\n",
      "6\n",
      "6\n",
      "7\n",
      "7\n",
      "8\n",
      "8\n",
      "9\n",
      "9\n",
      "10\n",
      "data/userdat9.parquet\n",
      "10\n",
      "1\n",
      "11\n",
      "2\n",
      "12\n",
      "3\n",
      "13\n",
      "4\n",
      "14\n",
      "5\n",
      "15\n",
      "6\n",
      "16\n",
      "7\n",
      "17\n",
      "8\n",
      "18\n",
      "9\n",
      "19\n",
      "10\n",
      "data/userdat19.parquet\n",
      "20\n",
      "1\n",
      "21\n",
      "2\n",
      "22\n",
      "3\n",
      "23\n",
      "4\n",
      "24\n",
      "5\n",
      "25\n",
      "6\n",
      "26\n",
      "7\n",
      "27\n",
      "8\n",
      "28\n",
      "9\n",
      "29\n",
      "10\n",
      "data/userdat29.parquet\n"
     ]
    }
   ],
   "source": [
    "import random\n",
    "random.seed(102)\n",
    "new_users = pd.DataFrame( columns=['user', 'artist','plays'])    \n",
    "ii = 0 \n",
    "\n",
    "for u in range(0, 30):    \n",
    "    print(u)\n",
    "    x = mh_sigs[u]\n",
    "    artists_listened = len(un_artists[u])\n",
    "    to_sample = int(np.floor(artists_listened)*0.05)\n",
    "    sim=[]\n",
    "    for mh in range(0, 992):\n",
    "        sim.append(mh_sigs[mh].similarity(mh_sigs[0]))\n",
    "    \n",
    "    similar = set(sorted(sim, reverse=True)[1:11]) # the ten largest similarities\n",
    "    similar_users = ([i for i, e in enumerate(sim) if e in similar]) # extract the user values\n",
    "    \n",
    "    \n",
    "    user_play_fr = grouped_df.get_group(dusers[(u+1)]).groupby(['2']).count()['1'].values\n",
    "    \n",
    "    \n",
    "    for j in range(0, 20):\n",
    "        # print(j)\n",
    "        ### make 5 new users for each user\n",
    "        username = 'user'+str(u)+str(j)\n",
    "        #print(username)\n",
    "        selected = sample(similar_users, 6)\n",
    "        listened = []\n",
    "        for k in selected:\n",
    "            possible = np.setdiff1d(un_artists[k], (list(un_artists[u])+listened))\n",
    "            listened = listened + list(np.random.choice(un_artists[k], size = to_sample, replace = False))\n",
    "            \n",
    "        listened = listened + list(np.random.choice(un_artists[u], size=int(np.floor(artists_listened*0.7))))\n",
    "        \n",
    "        ### now simulate user plays. \n",
    "        user_plays = np.random.choice(user_play_fr, size=len(listened), replace = False)\n",
    "        \n",
    "        user_data = {'user':np.repeat(username,len(listened), axis=0) , 'artist':listened, 'plays':user_plays} \n",
    "        user_df = pd.DataFrame(user_data) \n",
    "        new_users = pd.concat([new_users, user_df])\n",
    "        \n",
    "    ii = ii + 1\n",
    "    #print(ii)\n",
    "    if ii == 10:\n",
    "        ### write file to parquet every 10th user, and begin a new file\n",
    "        filename='data/userdat'+str(u)+'.parquet'\n",
    "        print(filename)\n",
    "        new_users.to_parquet(filename)\n",
    "        ii = 0\n",
    "        new_users = pd.DataFrame( columns=['user', 'artist','plays'])    \n",
    "\n",
    "\n",
    "        \n"
   ]
  },
  {
   "cell_type": "code",
   "execution_count": null,
   "metadata": {},
   "outputs": [],
   "source": []
  }
 ],
 "metadata": {
  "kernelspec": {
   "display_name": "Python 3",
   "language": "python",
   "name": "python3"
  },
  "language_info": {
   "codemirror_mode": {
    "name": "ipython",
    "version": 3
   },
   "file_extension": ".py",
   "mimetype": "text/x-python",
   "name": "python",
   "nbconvert_exporter": "python",
   "pygments_lexer": "ipython3",
   "version": "3.6.8"
  }
 },
 "nbformat": 4,
 "nbformat_minor": 2
}
