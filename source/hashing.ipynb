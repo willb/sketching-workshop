{
 "cells": [
  {
   "cell_type": "markdown",
   "metadata": {},
   "source": [
    "# Hashing\n",
    "\n",
    "We'll need some different hash functions to use in our Bloom filter and count-min sketch.  We can simulate multiple hashes by using one of the hashes supplied in `hashlib` and simply masking out parts of the digest.  (For production use, you'd want a better or "
   ]
  },
  {
   "cell_type": "code",
   "execution_count": null,
   "metadata": {},
   "outputs": [],
   "source": [
    "from hashlib import sha1\n",
    "import pickle\n",
    "\n",
    "def h_sha1(value):\n",
    "    bvalue = type(value) == bytes and value or pickle.dumps(value)\n",
    "    return sha1(bvalue).hexdigest()\n",
    "\n",
    "def hashes_for(value):\n",
    "    bvalue = type(value) == bytes and value or pickle.dumps(value)\n",
    "    digest = sha1(bvalue).hexdigest()\n",
    "    return [int(digest[s:s+7], 16) for s in [0,8,16,24]]\n",
    "\n",
    "def h1(value):\n",
    "    return int(h_sha1(value)[0:8], 16)\n",
    "\n",
    "def h2(value):\n",
    "    return int(h_sha1(value)[8:16], 16)\n",
    "\n",
    "def h3(value):\n",
    "    return int(h_sha1(value)[16:24], 16)\n",
    "\n",
    "def hashes_for(count, stride):\n",
    "    def hashes(value):\n",
    "        bvalue = type(value) == bytes and value or pickle.dumps(value)\n",
    "        digest = sha1(bvalue).hexdigest()\n",
    "        return [int(digest[s:s+stride], 16) for s in [x * stride for x in range(count)]]\n",
    "    return hashes"
   ]
  }
 ],
 "metadata": {
  "kernelspec": {
   "display_name": "Python 3.6",
   "language": "python",
   "name": "jupyter"
  },
  "language_info": {
   "codemirror_mode": {
    "name": "ipython",
    "version": 3
   },
   "file_extension": ".py",
   "mimetype": "text/x-python",
   "name": "python",
   "nbconvert_exporter": "python",
   "pygments_lexer": "ipython3",
   "version": "3.6.5"
  }
 },
 "nbformat": 4,
 "nbformat_minor": 2
}
